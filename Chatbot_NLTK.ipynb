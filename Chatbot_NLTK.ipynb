{
  "nbformat": 4,
  "nbformat_minor": 0,
  "metadata": {
    "colab": {
      "provenance": []
    },
    "kernelspec": {
      "name": "python3",
      "display_name": "Python 3"
    },
    "language_info": {
      "name": "python"
    }
  },
  "cells": [
    {
      "cell_type": "code",
      "metadata": {
        "id": "C4ZJBL6Y08Me"
      },
      "source": [
        "import pandas as pd\n",
        "import nltk \n",
        "import numpy as np\n",
        "import re\n",
        "from nltk.stem import wordnet # to perform lemmitization\n",
        "from sklearn.feature_extraction.text import CountVectorizer # to perform bow\n",
        "from sklearn.feature_extraction.text import TfidfVectorizer # to perform tfidf\n",
        "from nltk import pos_tag # for parts of speech\n",
        "from sklearn.metrics import pairwise_distances # to perfrom cosine similarity\n",
        "from nltk import word_tokenize # to create tokens\n",
        "from nltk.corpus import stopwords # for stop words"
      ],
      "execution_count": null,
      "outputs": []
    },
    {
      "cell_type": "code",
      "metadata": {
        "colab": {
          "resources": {
            "http://localhost:8080/nbextensions/google.colab/files.js": {
              "data": "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",
              "ok": true,
              "headers": [
                [
                  "content-type",
                  "application/javascript"
                ]
              ],
              "status": 200,
              "status_text": ""
            }
          },
          "base_uri": "https://localhost:8080/",
          "height": 73
        },
        "id": "hd6j72hj2ws7",
        "outputId": "09f6d1f5-5b67-44ab-cd26-cb381a8704a9"
      },
      "source": [
        "from google.colab import files\n",
        "  \n",
        "  \n",
        "uploaded = files.upload()"
      ],
      "execution_count": null,
      "outputs": [
        {
          "output_type": "display_data",
          "data": {
            "text/html": [
              "\n",
              "     <input type=\"file\" id=\"files-182e6d99-16ed-4a78-837d-9013ce39675c\" name=\"files[]\" multiple disabled\n",
              "        style=\"border:none\" />\n",
              "     <output id=\"result-182e6d99-16ed-4a78-837d-9013ce39675c\">\n",
              "      Upload widget is only available when the cell has been executed in the\n",
              "      current browser session. Please rerun this cell to enable.\n",
              "      </output>\n",
              "      <script src=\"/nbextensions/google.colab/files.js\"></script> "
            ],
            "text/plain": [
              "<IPython.core.display.HTML object>"
            ]
          },
          "metadata": {
            "tags": []
          }
        },
        {
          "output_type": "stream",
          "text": [
            "Saving Mental_Health_FAQ.csv to Mental_Health_FAQ.csv\n"
          ],
          "name": "stdout"
        }
      ]
    },
    {
      "cell_type": "code",
      "metadata": {
        "colab": {
          "base_uri": "https://localhost:8080/"
        },
        "id": "Iibn50pd1mab",
        "outputId": "209cd73c-5b02-48b4-9ef7-5268b2cbeaf2"
      },
      "source": [
        "import pandas as pd\n",
        "import io\n",
        "  \n",
        "df = pd.read_csv(io.BytesIO(uploaded['Mental_Health_FAQ.csv']))\n",
        "print(df)"
      ],
      "execution_count": null,
      "outputs": [
        {
          "output_type": "stream",
          "text": [
            "    Question_ID  ...                                            Answers\n",
            "0       1590140  ...  Mental illnesses are health conditions that di...\n",
            "1       2110618  ...  It is estimated that mental illness affects 1 ...\n",
            "2       6361820  ...  It is estimated that mental illness affects 1 ...\n",
            "3       9434130  ...  Symptoms of mental health disorders vary depen...\n",
            "4       7657263  ...  When healing from mental illness, early identi...\n",
            "..          ...  ...                                                ...\n",
            "93      4373204  ...  Sorting out if you are drinking too much can b...\n",
            "94      7807643  ...  Cannabis smoke, for example, contains cancer-c...\n",
            "95      4352464  ...  You can't. But you can influence their capacit...\n",
            "96      6521784  ...  Cannabidiol or CBD is a naturally occurring co...\n",
            "97      3221856  ...  \"Vaping\" is the term for using a device where ...\n",
            "\n",
            "[98 rows x 3 columns]\n"
          ],
          "name": "stdout"
        }
      ]
    },
    {
      "cell_type": "code",
      "metadata": {
        "colab": {
          "base_uri": "https://localhost:8080/"
        },
        "id": "hae2fwf-3Aey",
        "outputId": "37bc5103-e0e1-4bb3-8e9e-14afac41e202"
      },
      "source": [
        "df.shape[0] # returns the number of rows in dataset"
      ],
      "execution_count": null,
      "outputs": [
        {
          "output_type": "execute_result",
          "data": {
            "text/plain": [
              "98"
            ]
          },
          "metadata": {
            "tags": []
          },
          "execution_count": 4
        }
      ]
    },
    {
      "cell_type": "code",
      "metadata": {
        "colab": {
          "base_uri": "https://localhost:8080/",
          "height": 415
        },
        "id": "O4NEf1dK3HpM",
        "outputId": "38e8cebc-1654-4fb0-c041-33fcc94d2ea5"
      },
      "source": [
        "df.ffill(axis = 0,inplace=True) # fills the null value with the previous value.\n",
        "df"
      ],
      "execution_count": null,
      "outputs": [
        {
          "output_type": "execute_result",
          "data": {
            "text/html": [
              "<div>\n",
              "<style scoped>\n",
              "    .dataframe tbody tr th:only-of-type {\n",
              "        vertical-align: middle;\n",
              "    }\n",
              "\n",
              "    .dataframe tbody tr th {\n",
              "        vertical-align: top;\n",
              "    }\n",
              "\n",
              "    .dataframe thead th {\n",
              "        text-align: right;\n",
              "    }\n",
              "</style>\n",
              "<table border=\"1\" class=\"dataframe\">\n",
              "  <thead>\n",
              "    <tr style=\"text-align: right;\">\n",
              "      <th></th>\n",
              "      <th>Question_ID</th>\n",
              "      <th>Questions</th>\n",
              "      <th>Answers</th>\n",
              "    </tr>\n",
              "  </thead>\n",
              "  <tbody>\n",
              "    <tr>\n",
              "      <th>0</th>\n",
              "      <td>1590140</td>\n",
              "      <td>What does it mean to have a mental illness?</td>\n",
              "      <td>Mental illnesses are health conditions that di...</td>\n",
              "    </tr>\n",
              "    <tr>\n",
              "      <th>1</th>\n",
              "      <td>2110618</td>\n",
              "      <td>Who does mental illness affect?</td>\n",
              "      <td>It is estimated that mental illness affects 1 ...</td>\n",
              "    </tr>\n",
              "    <tr>\n",
              "      <th>2</th>\n",
              "      <td>6361820</td>\n",
              "      <td>What causes mental illness?</td>\n",
              "      <td>It is estimated that mental illness affects 1 ...</td>\n",
              "    </tr>\n",
              "    <tr>\n",
              "      <th>3</th>\n",
              "      <td>9434130</td>\n",
              "      <td>What are some of the warning signs of mental i...</td>\n",
              "      <td>Symptoms of mental health disorders vary depen...</td>\n",
              "    </tr>\n",
              "    <tr>\n",
              "      <th>4</th>\n",
              "      <td>7657263</td>\n",
              "      <td>Can people with mental illness recover?</td>\n",
              "      <td>When healing from mental illness, early identi...</td>\n",
              "    </tr>\n",
              "    <tr>\n",
              "      <th>...</th>\n",
              "      <td>...</td>\n",
              "      <td>...</td>\n",
              "      <td>...</td>\n",
              "    </tr>\n",
              "    <tr>\n",
              "      <th>93</th>\n",
              "      <td>4373204</td>\n",
              "      <td>How do I know if I'm drinking too much?</td>\n",
              "      <td>Sorting out if you are drinking too much can b...</td>\n",
              "    </tr>\n",
              "    <tr>\n",
              "      <th>94</th>\n",
              "      <td>7807643</td>\n",
              "      <td>If cannabis is dangerous, why are we legalizin...</td>\n",
              "      <td>Cannabis smoke, for example, contains cancer-c...</td>\n",
              "    </tr>\n",
              "    <tr>\n",
              "      <th>95</th>\n",
              "      <td>4352464</td>\n",
              "      <td>How can I convince my kids not to use drugs?</td>\n",
              "      <td>You can't. But you can influence their capacit...</td>\n",
              "    </tr>\n",
              "    <tr>\n",
              "      <th>96</th>\n",
              "      <td>6521784</td>\n",
              "      <td>What is the legal status (and evidence) of CBD...</td>\n",
              "      <td>Cannabidiol or CBD is a naturally occurring co...</td>\n",
              "    </tr>\n",
              "    <tr>\n",
              "      <th>97</th>\n",
              "      <td>3221856</td>\n",
              "      <td>What is the evidence on vaping?</td>\n",
              "      <td>\"Vaping\" is the term for using a device where ...</td>\n",
              "    </tr>\n",
              "  </tbody>\n",
              "</table>\n",
              "<p>98 rows × 3 columns</p>\n",
              "</div>"
            ],
            "text/plain": [
              "    Question_ID  ...                                            Answers\n",
              "0       1590140  ...  Mental illnesses are health conditions that di...\n",
              "1       2110618  ...  It is estimated that mental illness affects 1 ...\n",
              "2       6361820  ...  It is estimated that mental illness affects 1 ...\n",
              "3       9434130  ...  Symptoms of mental health disorders vary depen...\n",
              "4       7657263  ...  When healing from mental illness, early identi...\n",
              "..          ...  ...                                                ...\n",
              "93      4373204  ...  Sorting out if you are drinking too much can b...\n",
              "94      7807643  ...  Cannabis smoke, for example, contains cancer-c...\n",
              "95      4352464  ...  You can't. But you can influence their capacit...\n",
              "96      6521784  ...  Cannabidiol or CBD is a naturally occurring co...\n",
              "97      3221856  ...  \"Vaping\" is the term for using a device where ...\n",
              "\n",
              "[98 rows x 3 columns]"
            ]
          },
          "metadata": {
            "tags": []
          },
          "execution_count": 5
        }
      ]
    },
    {
      "cell_type": "code",
      "metadata": {
        "id": "A9dY8Sz33NJ9"
      },
      "source": [
        "df1=df.head(10) # copy of first ten rows of dataset"
      ],
      "execution_count": null,
      "outputs": []
    },
    {
      "cell_type": "code",
      "metadata": {
        "id": "jbqTqebc3N16"
      },
      "source": [
        "\n",
        "# function that converts text into lower case and removes special characters\n",
        "\n",
        "def step1(x):\n",
        "    for i in x:\n",
        "        a=str(i).lower()\n",
        "        p=re.sub(r'[^a-z0-9]',' ',a)\n",
        "        print(p)"
      ],
      "execution_count": null,
      "outputs": []
    },
    {
      "cell_type": "code",
      "metadata": {
        "colab": {
          "base_uri": "https://localhost:8080/"
        },
        "id": "basLdb8A3UzH",
        "outputId": "8ba7b677-f248-4feb-b312-41a39b2ac6c9"
      },
      "source": [
        "step1(df1['Questions'])"
      ],
      "execution_count": null,
      "outputs": [
        {
          "output_type": "stream",
          "text": [
            "what does it mean to have a mental illness \n",
            "who does mental illness affect \n",
            "what causes mental illness \n",
            "what are some of the warning signs of mental illness \n",
            "can people with mental illness recover \n",
            "what should i do if i know someone who appears to have the symptoms of a mental disorder \n",
            "how can i find a mental health professional for myself or my child \n",
            "what treatment options are available \n",
            "if i become involved in treatment  what do i need to know \n",
            "what is the difference between mental health professionals \n"
          ],
          "name": "stdout"
        }
      ]
    },
    {
      "cell_type": "code",
      "metadata": {
        "colab": {
          "base_uri": "https://localhost:8080/"
        },
        "id": "DM0bO0b03dD2",
        "outputId": "9dd7b65e-e216-42ab-8c94-4f5e1fcb8f86"
      },
      "source": [
        "nltk.download('punkt')\n",
        "# word tokenizing\n",
        "    \n",
        "s='tell me about your personality'\n",
        "words=word_tokenize(s)\n",
        "print(words)"
      ],
      "execution_count": null,
      "outputs": [
        {
          "output_type": "stream",
          "text": [
            "[nltk_data] Downloading package punkt to /root/nltk_data...\n",
            "[nltk_data]   Unzipping tokenizers/punkt.zip.\n",
            "['tell', 'me', 'about', 'your', 'personality']\n"
          ],
          "name": "stdout"
        }
      ]
    },
    {
      "cell_type": "code",
      "metadata": {
        "colab": {
          "base_uri": "https://localhost:8080/",
          "height": 70
        },
        "id": "82lHgG0d3rBH",
        "outputId": "3df20cfe-1b4a-405e-8851-d4ec5a3e2185"
      },
      "source": [
        "nltk.download('wordnet')\n",
        "lemma = wordnet.WordNetLemmatizer() # intializing lemmatizer\n",
        "lemma.lemmatize('absorbed', pos = 'v')"
      ],
      "execution_count": null,
      "outputs": [
        {
          "output_type": "stream",
          "text": [
            "[nltk_data] Downloading package wordnet to /root/nltk_data...\n",
            "[nltk_data]   Unzipping corpora/wordnet.zip.\n"
          ],
          "name": "stdout"
        },
        {
          "output_type": "execute_result",
          "data": {
            "application/vnd.google.colaboratory.intrinsic+json": {
              "type": "string"
            },
            "text/plain": [
              "'absorb'"
            ]
          },
          "metadata": {
            "tags": []
          },
          "execution_count": 10
        }
      ]
    },
    {
      "cell_type": "code",
      "metadata": {
        "colab": {
          "base_uri": "https://localhost:8080/"
        },
        "id": "jEw94aKZ3zvz",
        "outputId": "70165e0f-b38a-4a87-bc9b-3b3a73b57ea7"
      },
      "source": [
        "nltk.download('averaged_perceptron_tagger')\n",
        "pos_tag(nltk.word_tokenize(s),tagset = None) # returns the parts of speech of every word"
      ],
      "execution_count": null,
      "outputs": [
        {
          "output_type": "stream",
          "text": [
            "[nltk_data] Downloading package averaged_perceptron_tagger to\n",
            "[nltk_data]     /root/nltk_data...\n",
            "[nltk_data]   Unzipping taggers/averaged_perceptron_tagger.zip.\n"
          ],
          "name": "stdout"
        },
        {
          "output_type": "execute_result",
          "data": {
            "text/plain": [
              "[('tell', 'VB'),\n",
              " ('me', 'PRP'),\n",
              " ('about', 'IN'),\n",
              " ('your', 'PRP$'),\n",
              " ('personality', 'NN')]"
            ]
          },
          "metadata": {
            "tags": []
          },
          "execution_count": 11
        }
      ]
    },
    {
      "cell_type": "code",
      "metadata": {
        "id": "QmrI6JPL39US"
      },
      "source": [
        "\n",
        "# function that performs text normalization steps\n",
        "\n",
        "def text_normalization(text):\n",
        "    text=str(text).lower() # text to lower case\n",
        "    spl_char_text=re.sub(r'[^ a-z]','',text) # removing special characters\n",
        "    tokens=nltk.word_tokenize(spl_char_text) # word tokenizing\n",
        "    lema=wordnet.WordNetLemmatizer() # intializing lemmatization\n",
        "    tags_list=pos_tag(tokens,tagset=None) # parts of speech\n",
        "    lema_words=[]   # empty list \n",
        "    for token,pos_token in tags_list:\n",
        "        if pos_token.startswith('V'):  # Verb\n",
        "            pos_val='v'\n",
        "        elif pos_token.startswith('J'): # Adjective\n",
        "            pos_val='a'\n",
        "        elif pos_token.startswith('R'): # Adverb\n",
        "            pos_val='r'\n",
        "        else:\n",
        "            pos_val='n' # Noun\n",
        "        lema_token=lema.lemmatize(token,pos_val) # performing lemmatization\n",
        "        lema_words.append(lema_token) # appending the lemmatized token into a list\n",
        "    \n",
        "    return \" \".join(lema_words) # returns the lemmatized tokens as a sentence"
      ],
      "execution_count": null,
      "outputs": []
    },
    {
      "cell_type": "code",
      "metadata": {
        "colab": {
          "base_uri": "https://localhost:8080/",
          "height": 35
        },
        "id": "jyvzid3c4A2x",
        "outputId": "8b5c30ad-729f-4d8e-8874-19c6c56f2f2b"
      },
      "source": [
        "text_normalization('telling you some stuff about me')"
      ],
      "execution_count": null,
      "outputs": [
        {
          "output_type": "execute_result",
          "data": {
            "application/vnd.google.colaboratory.intrinsic+json": {
              "type": "string"
            },
            "text/plain": [
              "'tell you some stuff about me'"
            ]
          },
          "metadata": {
            "tags": []
          },
          "execution_count": 13
        }
      ]
    },
    {
      "cell_type": "code",
      "metadata": {
        "colab": {
          "base_uri": "https://localhost:8080/",
          "height": 509
        },
        "id": "CXPVFcd64EIo",
        "outputId": "e25220a0-6ab2-46fb-dd0d-59b38dd15a76"
      },
      "source": [
        "df['lemmatized_text']=df['Questions'].apply(text_normalization) # applying the fuction to the dataset to get clean text\n",
        "df.tail(15)"
      ],
      "execution_count": null,
      "outputs": [
        {
          "output_type": "execute_result",
          "data": {
            "text/html": [
              "<div>\n",
              "<style scoped>\n",
              "    .dataframe tbody tr th:only-of-type {\n",
              "        vertical-align: middle;\n",
              "    }\n",
              "\n",
              "    .dataframe tbody tr th {\n",
              "        vertical-align: top;\n",
              "    }\n",
              "\n",
              "    .dataframe thead th {\n",
              "        text-align: right;\n",
              "    }\n",
              "</style>\n",
              "<table border=\"1\" class=\"dataframe\">\n",
              "  <thead>\n",
              "    <tr style=\"text-align: right;\">\n",
              "      <th></th>\n",
              "      <th>Question_ID</th>\n",
              "      <th>Questions</th>\n",
              "      <th>Answers</th>\n",
              "      <th>lemmatized_text</th>\n",
              "    </tr>\n",
              "  </thead>\n",
              "  <tbody>\n",
              "    <tr>\n",
              "      <th>83</th>\n",
              "      <td>9679704</td>\n",
              "      <td>What is antisocial personality disorder?</td>\n",
              "      <td>A personality disorder is a pattern of thought...</td>\n",
              "      <td>what be antisocial personality disorder</td>\n",
              "    </tr>\n",
              "    <tr>\n",
              "      <th>84</th>\n",
              "      <td>9167296</td>\n",
              "      <td>What is obsessive-compulsive personality disor...</td>\n",
              "      <td>A personality disorder is a pattern of thought...</td>\n",
              "      <td>what be obsessivecompulsive personality disorder</td>\n",
              "    </tr>\n",
              "    <tr>\n",
              "      <th>85</th>\n",
              "      <td>9049618</td>\n",
              "      <td>What is binge-eating disorder?</td>\n",
              "      <td>Binge-eating disorder or BED is a type of eati...</td>\n",
              "      <td>what be bingeeating disorder</td>\n",
              "    </tr>\n",
              "    <tr>\n",
              "      <th>86</th>\n",
              "      <td>7984793</td>\n",
              "      <td>What’s the difference between dissociative ide...</td>\n",
              "      <td>Sometimes, people confuse dissociative identit...</td>\n",
              "      <td>whats the difference between dissociative iden...</td>\n",
              "    </tr>\n",
              "    <tr>\n",
              "      <th>87</th>\n",
              "      <td>6085633</td>\n",
              "      <td>What's the difference between psychosis and sc...</td>\n",
              "      <td>Psychosis is a syndrome or group of symptoms. ...</td>\n",
              "      <td>whats the difference between psychosis and sch...</td>\n",
              "    </tr>\n",
              "    <tr>\n",
              "      <th>88</th>\n",
              "      <td>1896541</td>\n",
              "      <td>What are positive and negative symptoms?</td>\n",
              "      <td>Positive and negative symptoms are medical ter...</td>\n",
              "      <td>what be positive and negative symptom</td>\n",
              "    </tr>\n",
              "    <tr>\n",
              "      <th>89</th>\n",
              "      <td>4962901</td>\n",
              "      <td>What is a prodrome?</td>\n",
              "      <td>Prodrome is a medical term for early signs or ...</td>\n",
              "      <td>what be a prodrome</td>\n",
              "    </tr>\n",
              "    <tr>\n",
              "      <th>90</th>\n",
              "      <td>6869967</td>\n",
              "      <td>I’m an adult and I think I might have ADHD. Wh...</td>\n",
              "      <td>While we think of attention-deficit/hyperactiv...</td>\n",
              "      <td>im an adult and i think i might have adhd what...</td>\n",
              "    </tr>\n",
              "    <tr>\n",
              "      <th>91</th>\n",
              "      <td>4824231</td>\n",
              "      <td>What’s the difference between substance use an...</td>\n",
              "      <td>People tend to use the word “addiction” to mea...</td>\n",
              "      <td>whats the difference between substance use and...</td>\n",
              "    </tr>\n",
              "    <tr>\n",
              "      <th>92</th>\n",
              "      <td>4294616</td>\n",
              "      <td>How can I find help for an alcohol or drug use...</td>\n",
              "      <td>Seeking to make changes in the way you use sub...</td>\n",
              "      <td>how can i find help for an alcohol or drug use...</td>\n",
              "    </tr>\n",
              "    <tr>\n",
              "      <th>93</th>\n",
              "      <td>4373204</td>\n",
              "      <td>How do I know if I'm drinking too much?</td>\n",
              "      <td>Sorting out if you are drinking too much can b...</td>\n",
              "      <td>how do i know if im drink too much</td>\n",
              "    </tr>\n",
              "    <tr>\n",
              "      <th>94</th>\n",
              "      <td>7807643</td>\n",
              "      <td>If cannabis is dangerous, why are we legalizin...</td>\n",
              "      <td>Cannabis smoke, for example, contains cancer-c...</td>\n",
              "      <td>if cannabis be dangerous why be we legalize it</td>\n",
              "    </tr>\n",
              "    <tr>\n",
              "      <th>95</th>\n",
              "      <td>4352464</td>\n",
              "      <td>How can I convince my kids not to use drugs?</td>\n",
              "      <td>You can't. But you can influence their capacit...</td>\n",
              "      <td>how can i convince my kid not to use drug</td>\n",
              "    </tr>\n",
              "    <tr>\n",
              "      <th>96</th>\n",
              "      <td>6521784</td>\n",
              "      <td>What is the legal status (and evidence) of CBD...</td>\n",
              "      <td>Cannabidiol or CBD is a naturally occurring co...</td>\n",
              "      <td>what be the legal status and evidence of cbd oil</td>\n",
              "    </tr>\n",
              "    <tr>\n",
              "      <th>97</th>\n",
              "      <td>3221856</td>\n",
              "      <td>What is the evidence on vaping?</td>\n",
              "      <td>\"Vaping\" is the term for using a device where ...</td>\n",
              "      <td>what be the evidence on vaping</td>\n",
              "    </tr>\n",
              "  </tbody>\n",
              "</table>\n",
              "</div>"
            ],
            "text/plain": [
              "    Question_ID  ...                                    lemmatized_text\n",
              "83      9679704  ...            what be antisocial personality disorder\n",
              "84      9167296  ...   what be obsessivecompulsive personality disorder\n",
              "85      9049618  ...                       what be bingeeating disorder\n",
              "86      7984793  ...  whats the difference between dissociative iden...\n",
              "87      6085633  ...  whats the difference between psychosis and sch...\n",
              "88      1896541  ...              what be positive and negative symptom\n",
              "89      4962901  ...                                 what be a prodrome\n",
              "90      6869967  ...  im an adult and i think i might have adhd what...\n",
              "91      4824231  ...  whats the difference between substance use and...\n",
              "92      4294616  ...  how can i find help for an alcohol or drug use...\n",
              "93      4373204  ...                 how do i know if im drink too much\n",
              "94      7807643  ...     if cannabis be dangerous why be we legalize it\n",
              "95      4352464  ...          how can i convince my kid not to use drug\n",
              "96      6521784  ...   what be the legal status and evidence of cbd oil\n",
              "97      3221856  ...                     what be the evidence on vaping\n",
              "\n",
              "[15 rows x 4 columns]"
            ]
          },
          "metadata": {
            "tags": []
          },
          "execution_count": 14
        }
      ]
    },
    {
      "cell_type": "code",
      "metadata": {
        "colab": {
          "base_uri": "https://localhost:8080/"
        },
        "id": "T-BDv4Yj4Ngc",
        "outputId": "392e05df-c69d-47fb-80aa-1a8c7c639579"
      },
      "source": [
        "nltk.download('stopwords')\n",
        "# all the stop words we have \n",
        "\n",
        "stop = stopwords.words('english')\n",
        "print(stop)"
      ],
      "execution_count": null,
      "outputs": [
        {
          "output_type": "stream",
          "text": [
            "[nltk_data] Downloading package stopwords to /root/nltk_data...\n",
            "[nltk_data]   Unzipping corpora/stopwords.zip.\n",
            "['i', 'me', 'my', 'myself', 'we', 'our', 'ours', 'ourselves', 'you', \"you're\", \"you've\", \"you'll\", \"you'd\", 'your', 'yours', 'yourself', 'yourselves', 'he', 'him', 'his', 'himself', 'she', \"she's\", 'her', 'hers', 'herself', 'it', \"it's\", 'its', 'itself', 'they', 'them', 'their', 'theirs', 'themselves', 'what', 'which', 'who', 'whom', 'this', 'that', \"that'll\", 'these', 'those', 'am', 'is', 'are', 'was', 'were', 'be', 'been', 'being', 'have', 'has', 'had', 'having', 'do', 'does', 'did', 'doing', 'a', 'an', 'the', 'and', 'but', 'if', 'or', 'because', 'as', 'until', 'while', 'of', 'at', 'by', 'for', 'with', 'about', 'against', 'between', 'into', 'through', 'during', 'before', 'after', 'above', 'below', 'to', 'from', 'up', 'down', 'in', 'out', 'on', 'off', 'over', 'under', 'again', 'further', 'then', 'once', 'here', 'there', 'when', 'where', 'why', 'how', 'all', 'any', 'both', 'each', 'few', 'more', 'most', 'other', 'some', 'such', 'no', 'nor', 'not', 'only', 'own', 'same', 'so', 'than', 'too', 'very', 's', 't', 'can', 'will', 'just', 'don', \"don't\", 'should', \"should've\", 'now', 'd', 'll', 'm', 'o', 're', 've', 'y', 'ain', 'aren', \"aren't\", 'couldn', \"couldn't\", 'didn', \"didn't\", 'doesn', \"doesn't\", 'hadn', \"hadn't\", 'hasn', \"hasn't\", 'haven', \"haven't\", 'isn', \"isn't\", 'ma', 'mightn', \"mightn't\", 'mustn', \"mustn't\", 'needn', \"needn't\", 'shan', \"shan't\", 'shouldn', \"shouldn't\", 'wasn', \"wasn't\", 'weren', \"weren't\", 'won', \"won't\", 'wouldn', \"wouldn't\"]\n"
          ],
          "name": "stdout"
        }
      ]
    },
    {
      "cell_type": "code",
      "metadata": {
        "id": "GRpLiLLR4T58"
      },
      "source": [
        "cv = CountVectorizer() # intializing the count vectorizer\n",
        "X = cv.fit_transform(df['lemmatized_text']).toarray()"
      ],
      "execution_count": null,
      "outputs": []
    },
    {
      "cell_type": "code",
      "metadata": {
        "colab": {
          "base_uri": "https://localhost:8080/",
          "height": 251
        },
        "id": "HKDdHYo04XG9",
        "outputId": "b129e19d-881f-4755-d23d-afe2ee71a3eb"
      },
      "source": [
        "# returns all the unique word from data \n",
        "\n",
        "features = cv.get_feature_names()\n",
        "df_bow = pd.DataFrame(X, columns = features)\n",
        "df_bow.head()\n"
      ],
      "execution_count": null,
      "outputs": [
        {
          "output_type": "execute_result",
          "data": {
            "text/html": [
              "<div>\n",
              "<style scoped>\n",
              "    .dataframe tbody tr th:only-of-type {\n",
              "        vertical-align: middle;\n",
              "    }\n",
              "\n",
              "    .dataframe tbody tr th {\n",
              "        vertical-align: top;\n",
              "    }\n",
              "\n",
              "    .dataframe thead th {\n",
              "        text-align: right;\n",
              "    }\n",
              "</style>\n",
              "<table border=\"1\" class=\"dataframe\">\n",
              "  <thead>\n",
              "    <tr style=\"text-align: right;\">\n",
              "      <th></th>\n",
              "      <th>about</th>\n",
              "      <th>addiction</th>\n",
              "      <th>adhd</th>\n",
              "      <th>adult</th>\n",
              "      <th>advance</th>\n",
              "      <th>affect</th>\n",
              "      <th>after</th>\n",
              "      <th>age</th>\n",
              "      <th>alcohol</th>\n",
              "      <th>allow</th>\n",
              "      <th>an</th>\n",
              "      <th>and</th>\n",
              "      <th>antidepressant</th>\n",
              "      <th>antisocial</th>\n",
              "      <th>anxiety</th>\n",
              "      <th>any</th>\n",
              "      <th>appear</th>\n",
              "      <th>apply</th>\n",
              "      <th>assistance</th>\n",
              "      <th>available</th>\n",
              "      <th>bad</th>\n",
              "      <th>balanced</th>\n",
              "      <th>be</th>\n",
              "      <th>become</th>\n",
              "      <th>before</th>\n",
              "      <th>between</th>\n",
              "      <th>bingeeating</th>\n",
              "      <th>borderline</th>\n",
              "      <th>brain</th>\n",
              "      <th>but</th>\n",
              "      <th>can</th>\n",
              "      <th>cannabis</th>\n",
              "      <th>care</th>\n",
              "      <th>cause</th>\n",
              "      <th>cbd</th>\n",
              "      <th>cbt</th>\n",
              "      <th>certain</th>\n",
              "      <th>challenge</th>\n",
              "      <th>child</th>\n",
              "      <th>clinical</th>\n",
              "      <th>...</th>\n",
              "      <th>support</th>\n",
              "      <th>symptom</th>\n",
              "      <th>take</th>\n",
              "      <th>talk</th>\n",
              "      <th>teenager</th>\n",
              "      <th>tell</th>\n",
              "      <th>the</th>\n",
              "      <th>therapy</th>\n",
              "      <th>there</th>\n",
              "      <th>think</th>\n",
              "      <th>thinking</th>\n",
              "      <th>this</th>\n",
              "      <th>thought</th>\n",
              "      <th>time</th>\n",
              "      <th>to</th>\n",
              "      <th>too</th>\n",
              "      <th>trap</th>\n",
              "      <th>treatment</th>\n",
              "      <th>trial</th>\n",
              "      <th>type</th>\n",
              "      <th>unwell</th>\n",
              "      <th>use</th>\n",
              "      <th>vaping</th>\n",
              "      <th>warning</th>\n",
              "      <th>we</th>\n",
              "      <th>well</th>\n",
              "      <th>what</th>\n",
              "      <th>whats</th>\n",
              "      <th>when</th>\n",
              "      <th>where</th>\n",
              "      <th>who</th>\n",
              "      <th>why</th>\n",
              "      <th>with</th>\n",
              "      <th>wont</th>\n",
              "      <th>work</th>\n",
              "      <th>worried</th>\n",
              "      <th>worry</th>\n",
              "      <th>you</th>\n",
              "      <th>young</th>\n",
              "      <th>youth</th>\n",
              "    </tr>\n",
              "  </thead>\n",
              "  <tbody>\n",
              "    <tr>\n",
              "      <th>0</th>\n",
              "      <td>0</td>\n",
              "      <td>0</td>\n",
              "      <td>0</td>\n",
              "      <td>0</td>\n",
              "      <td>0</td>\n",
              "      <td>0</td>\n",
              "      <td>0</td>\n",
              "      <td>0</td>\n",
              "      <td>0</td>\n",
              "      <td>0</td>\n",
              "      <td>0</td>\n",
              "      <td>0</td>\n",
              "      <td>0</td>\n",
              "      <td>0</td>\n",
              "      <td>0</td>\n",
              "      <td>0</td>\n",
              "      <td>0</td>\n",
              "      <td>0</td>\n",
              "      <td>0</td>\n",
              "      <td>0</td>\n",
              "      <td>0</td>\n",
              "      <td>0</td>\n",
              "      <td>0</td>\n",
              "      <td>0</td>\n",
              "      <td>0</td>\n",
              "      <td>0</td>\n",
              "      <td>0</td>\n",
              "      <td>0</td>\n",
              "      <td>0</td>\n",
              "      <td>0</td>\n",
              "      <td>0</td>\n",
              "      <td>0</td>\n",
              "      <td>0</td>\n",
              "      <td>0</td>\n",
              "      <td>0</td>\n",
              "      <td>0</td>\n",
              "      <td>0</td>\n",
              "      <td>0</td>\n",
              "      <td>0</td>\n",
              "      <td>0</td>\n",
              "      <td>...</td>\n",
              "      <td>0</td>\n",
              "      <td>0</td>\n",
              "      <td>0</td>\n",
              "      <td>0</td>\n",
              "      <td>0</td>\n",
              "      <td>0</td>\n",
              "      <td>0</td>\n",
              "      <td>0</td>\n",
              "      <td>0</td>\n",
              "      <td>0</td>\n",
              "      <td>0</td>\n",
              "      <td>0</td>\n",
              "      <td>0</td>\n",
              "      <td>0</td>\n",
              "      <td>1</td>\n",
              "      <td>0</td>\n",
              "      <td>0</td>\n",
              "      <td>0</td>\n",
              "      <td>0</td>\n",
              "      <td>0</td>\n",
              "      <td>0</td>\n",
              "      <td>0</td>\n",
              "      <td>0</td>\n",
              "      <td>0</td>\n",
              "      <td>0</td>\n",
              "      <td>0</td>\n",
              "      <td>1</td>\n",
              "      <td>0</td>\n",
              "      <td>0</td>\n",
              "      <td>0</td>\n",
              "      <td>0</td>\n",
              "      <td>0</td>\n",
              "      <td>0</td>\n",
              "      <td>0</td>\n",
              "      <td>0</td>\n",
              "      <td>0</td>\n",
              "      <td>0</td>\n",
              "      <td>0</td>\n",
              "      <td>0</td>\n",
              "      <td>0</td>\n",
              "    </tr>\n",
              "    <tr>\n",
              "      <th>1</th>\n",
              "      <td>0</td>\n",
              "      <td>0</td>\n",
              "      <td>0</td>\n",
              "      <td>0</td>\n",
              "      <td>0</td>\n",
              "      <td>1</td>\n",
              "      <td>0</td>\n",
              "      <td>0</td>\n",
              "      <td>0</td>\n",
              "      <td>0</td>\n",
              "      <td>0</td>\n",
              "      <td>0</td>\n",
              "      <td>0</td>\n",
              "      <td>0</td>\n",
              "      <td>0</td>\n",
              "      <td>0</td>\n",
              "      <td>0</td>\n",
              "      <td>0</td>\n",
              "      <td>0</td>\n",
              "      <td>0</td>\n",
              "      <td>0</td>\n",
              "      <td>0</td>\n",
              "      <td>0</td>\n",
              "      <td>0</td>\n",
              "      <td>0</td>\n",
              "      <td>0</td>\n",
              "      <td>0</td>\n",
              "      <td>0</td>\n",
              "      <td>0</td>\n",
              "      <td>0</td>\n",
              "      <td>0</td>\n",
              "      <td>0</td>\n",
              "      <td>0</td>\n",
              "      <td>0</td>\n",
              "      <td>0</td>\n",
              "      <td>0</td>\n",
              "      <td>0</td>\n",
              "      <td>0</td>\n",
              "      <td>0</td>\n",
              "      <td>0</td>\n",
              "      <td>...</td>\n",
              "      <td>0</td>\n",
              "      <td>0</td>\n",
              "      <td>0</td>\n",
              "      <td>0</td>\n",
              "      <td>0</td>\n",
              "      <td>0</td>\n",
              "      <td>0</td>\n",
              "      <td>0</td>\n",
              "      <td>0</td>\n",
              "      <td>0</td>\n",
              "      <td>0</td>\n",
              "      <td>0</td>\n",
              "      <td>0</td>\n",
              "      <td>0</td>\n",
              "      <td>0</td>\n",
              "      <td>0</td>\n",
              "      <td>0</td>\n",
              "      <td>0</td>\n",
              "      <td>0</td>\n",
              "      <td>0</td>\n",
              "      <td>0</td>\n",
              "      <td>0</td>\n",
              "      <td>0</td>\n",
              "      <td>0</td>\n",
              "      <td>0</td>\n",
              "      <td>0</td>\n",
              "      <td>0</td>\n",
              "      <td>0</td>\n",
              "      <td>0</td>\n",
              "      <td>0</td>\n",
              "      <td>1</td>\n",
              "      <td>0</td>\n",
              "      <td>0</td>\n",
              "      <td>0</td>\n",
              "      <td>0</td>\n",
              "      <td>0</td>\n",
              "      <td>0</td>\n",
              "      <td>0</td>\n",
              "      <td>0</td>\n",
              "      <td>0</td>\n",
              "    </tr>\n",
              "    <tr>\n",
              "      <th>2</th>\n",
              "      <td>0</td>\n",
              "      <td>0</td>\n",
              "      <td>0</td>\n",
              "      <td>0</td>\n",
              "      <td>0</td>\n",
              "      <td>0</td>\n",
              "      <td>0</td>\n",
              "      <td>0</td>\n",
              "      <td>0</td>\n",
              "      <td>0</td>\n",
              "      <td>0</td>\n",
              "      <td>0</td>\n",
              "      <td>0</td>\n",
              "      <td>0</td>\n",
              "      <td>0</td>\n",
              "      <td>0</td>\n",
              "      <td>0</td>\n",
              "      <td>0</td>\n",
              "      <td>0</td>\n",
              "      <td>0</td>\n",
              "      <td>0</td>\n",
              "      <td>0</td>\n",
              "      <td>0</td>\n",
              "      <td>0</td>\n",
              "      <td>0</td>\n",
              "      <td>0</td>\n",
              "      <td>0</td>\n",
              "      <td>0</td>\n",
              "      <td>0</td>\n",
              "      <td>0</td>\n",
              "      <td>0</td>\n",
              "      <td>0</td>\n",
              "      <td>0</td>\n",
              "      <td>1</td>\n",
              "      <td>0</td>\n",
              "      <td>0</td>\n",
              "      <td>0</td>\n",
              "      <td>0</td>\n",
              "      <td>0</td>\n",
              "      <td>0</td>\n",
              "      <td>...</td>\n",
              "      <td>0</td>\n",
              "      <td>0</td>\n",
              "      <td>0</td>\n",
              "      <td>0</td>\n",
              "      <td>0</td>\n",
              "      <td>0</td>\n",
              "      <td>0</td>\n",
              "      <td>0</td>\n",
              "      <td>0</td>\n",
              "      <td>0</td>\n",
              "      <td>0</td>\n",
              "      <td>0</td>\n",
              "      <td>0</td>\n",
              "      <td>0</td>\n",
              "      <td>0</td>\n",
              "      <td>0</td>\n",
              "      <td>0</td>\n",
              "      <td>0</td>\n",
              "      <td>0</td>\n",
              "      <td>0</td>\n",
              "      <td>0</td>\n",
              "      <td>0</td>\n",
              "      <td>0</td>\n",
              "      <td>0</td>\n",
              "      <td>0</td>\n",
              "      <td>0</td>\n",
              "      <td>1</td>\n",
              "      <td>0</td>\n",
              "      <td>0</td>\n",
              "      <td>0</td>\n",
              "      <td>0</td>\n",
              "      <td>0</td>\n",
              "      <td>0</td>\n",
              "      <td>0</td>\n",
              "      <td>0</td>\n",
              "      <td>0</td>\n",
              "      <td>0</td>\n",
              "      <td>0</td>\n",
              "      <td>0</td>\n",
              "      <td>0</td>\n",
              "    </tr>\n",
              "    <tr>\n",
              "      <th>3</th>\n",
              "      <td>0</td>\n",
              "      <td>0</td>\n",
              "      <td>0</td>\n",
              "      <td>0</td>\n",
              "      <td>0</td>\n",
              "      <td>0</td>\n",
              "      <td>0</td>\n",
              "      <td>0</td>\n",
              "      <td>0</td>\n",
              "      <td>0</td>\n",
              "      <td>0</td>\n",
              "      <td>0</td>\n",
              "      <td>0</td>\n",
              "      <td>0</td>\n",
              "      <td>0</td>\n",
              "      <td>0</td>\n",
              "      <td>0</td>\n",
              "      <td>0</td>\n",
              "      <td>0</td>\n",
              "      <td>0</td>\n",
              "      <td>0</td>\n",
              "      <td>0</td>\n",
              "      <td>1</td>\n",
              "      <td>0</td>\n",
              "      <td>0</td>\n",
              "      <td>0</td>\n",
              "      <td>0</td>\n",
              "      <td>0</td>\n",
              "      <td>0</td>\n",
              "      <td>0</td>\n",
              "      <td>0</td>\n",
              "      <td>0</td>\n",
              "      <td>0</td>\n",
              "      <td>0</td>\n",
              "      <td>0</td>\n",
              "      <td>0</td>\n",
              "      <td>0</td>\n",
              "      <td>0</td>\n",
              "      <td>0</td>\n",
              "      <td>0</td>\n",
              "      <td>...</td>\n",
              "      <td>0</td>\n",
              "      <td>0</td>\n",
              "      <td>0</td>\n",
              "      <td>0</td>\n",
              "      <td>0</td>\n",
              "      <td>0</td>\n",
              "      <td>1</td>\n",
              "      <td>0</td>\n",
              "      <td>0</td>\n",
              "      <td>0</td>\n",
              "      <td>0</td>\n",
              "      <td>0</td>\n",
              "      <td>0</td>\n",
              "      <td>0</td>\n",
              "      <td>0</td>\n",
              "      <td>0</td>\n",
              "      <td>0</td>\n",
              "      <td>0</td>\n",
              "      <td>0</td>\n",
              "      <td>0</td>\n",
              "      <td>0</td>\n",
              "      <td>0</td>\n",
              "      <td>0</td>\n",
              "      <td>1</td>\n",
              "      <td>0</td>\n",
              "      <td>0</td>\n",
              "      <td>1</td>\n",
              "      <td>0</td>\n",
              "      <td>0</td>\n",
              "      <td>0</td>\n",
              "      <td>0</td>\n",
              "      <td>0</td>\n",
              "      <td>0</td>\n",
              "      <td>0</td>\n",
              "      <td>0</td>\n",
              "      <td>0</td>\n",
              "      <td>0</td>\n",
              "      <td>0</td>\n",
              "      <td>0</td>\n",
              "      <td>0</td>\n",
              "    </tr>\n",
              "    <tr>\n",
              "      <th>4</th>\n",
              "      <td>0</td>\n",
              "      <td>0</td>\n",
              "      <td>0</td>\n",
              "      <td>0</td>\n",
              "      <td>0</td>\n",
              "      <td>0</td>\n",
              "      <td>0</td>\n",
              "      <td>0</td>\n",
              "      <td>0</td>\n",
              "      <td>0</td>\n",
              "      <td>0</td>\n",
              "      <td>0</td>\n",
              "      <td>0</td>\n",
              "      <td>0</td>\n",
              "      <td>0</td>\n",
              "      <td>0</td>\n",
              "      <td>0</td>\n",
              "      <td>0</td>\n",
              "      <td>0</td>\n",
              "      <td>0</td>\n",
              "      <td>0</td>\n",
              "      <td>0</td>\n",
              "      <td>0</td>\n",
              "      <td>0</td>\n",
              "      <td>0</td>\n",
              "      <td>0</td>\n",
              "      <td>0</td>\n",
              "      <td>0</td>\n",
              "      <td>0</td>\n",
              "      <td>0</td>\n",
              "      <td>1</td>\n",
              "      <td>0</td>\n",
              "      <td>0</td>\n",
              "      <td>0</td>\n",
              "      <td>0</td>\n",
              "      <td>0</td>\n",
              "      <td>0</td>\n",
              "      <td>0</td>\n",
              "      <td>0</td>\n",
              "      <td>0</td>\n",
              "      <td>...</td>\n",
              "      <td>0</td>\n",
              "      <td>0</td>\n",
              "      <td>0</td>\n",
              "      <td>0</td>\n",
              "      <td>0</td>\n",
              "      <td>0</td>\n",
              "      <td>0</td>\n",
              "      <td>0</td>\n",
              "      <td>0</td>\n",
              "      <td>0</td>\n",
              "      <td>0</td>\n",
              "      <td>0</td>\n",
              "      <td>0</td>\n",
              "      <td>0</td>\n",
              "      <td>0</td>\n",
              "      <td>0</td>\n",
              "      <td>0</td>\n",
              "      <td>0</td>\n",
              "      <td>0</td>\n",
              "      <td>0</td>\n",
              "      <td>0</td>\n",
              "      <td>0</td>\n",
              "      <td>0</td>\n",
              "      <td>0</td>\n",
              "      <td>0</td>\n",
              "      <td>0</td>\n",
              "      <td>0</td>\n",
              "      <td>0</td>\n",
              "      <td>0</td>\n",
              "      <td>0</td>\n",
              "      <td>0</td>\n",
              "      <td>0</td>\n",
              "      <td>1</td>\n",
              "      <td>0</td>\n",
              "      <td>0</td>\n",
              "      <td>0</td>\n",
              "      <td>0</td>\n",
              "      <td>0</td>\n",
              "      <td>0</td>\n",
              "      <td>0</td>\n",
              "    </tr>\n",
              "  </tbody>\n",
              "</table>\n",
              "<p>5 rows × 235 columns</p>\n",
              "</div>"
            ],
            "text/plain": [
              "   about  addiction  adhd  adult  advance  ...  worried  worry  you  young  youth\n",
              "0      0          0     0      0        0  ...        0      0    0      0      0\n",
              "1      0          0     0      0        0  ...        0      0    0      0      0\n",
              "2      0          0     0      0        0  ...        0      0    0      0      0\n",
              "3      0          0     0      0        0  ...        0      0    0      0      0\n",
              "4      0          0     0      0        0  ...        0      0    0      0      0\n",
              "\n",
              "[5 rows x 235 columns]"
            ]
          },
          "metadata": {
            "tags": []
          },
          "execution_count": 17
        }
      ]
    },
    {
      "cell_type": "code",
      "metadata": {
        "id": "FGIGHLTL4b_h"
      },
      "source": [
        "Question ='What treatment options are available' # considering an example query"
      ],
      "execution_count": null,
      "outputs": []
    },
    {
      "cell_type": "code",
      "metadata": {
        "id": "UcJopi6Y4dCN"
      },
      "source": [
        "# checking for stop words\n",
        "\n",
        "Q=[]\n",
        "a=Question.split()\n",
        "for i in a:\n",
        "    if i in stop:\n",
        "        continue\n",
        "    else:\n",
        "        Q.append(i)\n",
        "    b=\" \".join(Q)"
      ],
      "execution_count": null,
      "outputs": []
    },
    {
      "cell_type": "code",
      "metadata": {
        "id": "ErwQk4Jf4iSY"
      },
      "source": [
        "Question_lemma = text_normalization(b) # applying the function that we created for text normalizing\n",
        "Question_bow = cv.transform([Question_lemma]).toarray() # applying bow"
      ],
      "execution_count": null,
      "outputs": []
    },
    {
      "cell_type": "code",
      "metadata": {
        "colab": {
          "base_uri": "https://localhost:8080/"
        },
        "id": "TTn35r1A4lhw",
        "outputId": "59d2e02d-c714-420c-fe4c-49bc95b3ec95"
      },
      "source": [
        "text_normalization"
      ],
      "execution_count": null,
      "outputs": [
        {
          "output_type": "execute_result",
          "data": {
            "text/plain": [
              "<function __main__.text_normalization>"
            ]
          },
          "metadata": {
            "tags": []
          },
          "execution_count": 22
        }
      ]
    },
    {
      "cell_type": "code",
      "metadata": {
        "colab": {
          "base_uri": "https://localhost:8080/"
        },
        "id": "usUv-IQt4oCn",
        "outputId": "776149da-b646-4e54-dd6b-f426982f3997"
      },
      "source": [
        "Question_bow"
      ],
      "execution_count": null,
      "outputs": [
        {
          "output_type": "execute_result",
          "data": {
            "text/plain": [
              "array([[0, 0, 0, 0, 0, 0, 0, 0, 0, 0, 0, 0, 0, 0, 0, 0, 0, 0, 0, 1, 0, 0,\n",
              "        0, 0, 0, 0, 0, 0, 0, 0, 0, 0, 0, 0, 0, 0, 0, 0, 0, 0, 0, 0, 0, 0,\n",
              "        0, 0, 0, 0, 0, 0, 0, 0, 0, 0, 0, 0, 0, 0, 0, 0, 0, 0, 0, 0, 0, 0,\n",
              "        0, 0, 0, 0, 0, 0, 0, 0, 0, 0, 0, 0, 0, 0, 0, 0, 0, 0, 0, 0, 0, 0,\n",
              "        0, 0, 0, 0, 0, 0, 0, 0, 0, 0, 0, 0, 0, 0, 0, 0, 0, 0, 0, 0, 0, 0,\n",
              "        0, 0, 0, 0, 0, 0, 0, 0, 0, 0, 0, 0, 0, 0, 0, 0, 0, 0, 0, 0, 0, 0,\n",
              "        0, 0, 0, 0, 0, 0, 0, 0, 0, 0, 1, 0, 0, 0, 0, 0, 0, 0, 0, 0, 0, 0,\n",
              "        0, 0, 0, 0, 0, 0, 0, 0, 0, 0, 0, 0, 0, 0, 0, 0, 0, 0, 0, 0, 0, 0,\n",
              "        0, 0, 0, 0, 0, 0, 0, 0, 0, 0, 0, 0, 0, 0, 0, 0, 0, 0, 0, 0, 0, 0,\n",
              "        0, 0, 0, 0, 0, 0, 0, 0, 0, 0, 0, 0, 0, 0, 1, 0, 0, 0, 0, 0, 0, 0,\n",
              "        0, 1, 0, 0, 0, 0, 0, 0, 0, 0, 0, 0, 0, 0, 0]])"
            ]
          },
          "metadata": {
            "tags": []
          },
          "execution_count": 23
        }
      ]
    },
    {
      "cell_type": "code",
      "metadata": {
        "colab": {
          "base_uri": "https://localhost:8080/"
        },
        "id": "SWylluoYA6O0",
        "outputId": "85dc297c-a995-4071-be39-c5b9660bc319"
      },
      "source": [
        "\n",
        "# cosine similarity for the above question we considered.\n",
        "\n",
        "cosine_value = 1- pairwise_distances(df_bow, Question_bow, metric = 'cosine' )\n",
        "(cosine_value)"
      ],
      "execution_count": null,
      "outputs": [
        {
          "output_type": "execute_result",
          "data": {
            "text/plain": [
              "array([[0.1767767 ],\n",
              "       [0.        ],\n",
              "       [0.25      ],\n",
              "       [0.14433757],\n",
              "       [0.        ],\n",
              "       [0.12909944],\n",
              "       [0.        ],\n",
              "       [0.89442719],\n",
              "       [0.31622777],\n",
              "       [0.1767767 ],\n",
              "       [0.        ],\n",
              "       [0.31622777],\n",
              "       [0.        ],\n",
              "       [0.18898224],\n",
              "       [0.        ],\n",
              "       [0.        ],\n",
              "       [0.        ],\n",
              "       [0.16666667],\n",
              "       [0.16666667],\n",
              "       [0.        ],\n",
              "       [0.        ],\n",
              "       [0.        ],\n",
              "       [0.        ],\n",
              "       [0.        ],\n",
              "       [0.25      ],\n",
              "       [0.15811388],\n",
              "       [0.        ],\n",
              "       [0.        ],\n",
              "       [0.2236068 ],\n",
              "       [0.14433757],\n",
              "       [0.        ],\n",
              "       [0.15811388],\n",
              "       [0.14433757],\n",
              "       [0.        ],\n",
              "       [0.        ],\n",
              "       [0.        ],\n",
              "       [0.16666667],\n",
              "       [0.        ],\n",
              "       [0.        ],\n",
              "       [0.        ],\n",
              "       [0.        ],\n",
              "       [0.        ],\n",
              "       [0.        ],\n",
              "       [0.        ],\n",
              "       [0.        ],\n",
              "       [0.        ],\n",
              "       [0.        ],\n",
              "       [0.        ],\n",
              "       [0.        ],\n",
              "       [0.        ],\n",
              "       [0.        ],\n",
              "       [0.        ],\n",
              "       [0.        ],\n",
              "       [0.        ],\n",
              "       [0.        ],\n",
              "       [0.        ],\n",
              "       [0.        ],\n",
              "       [0.28867513],\n",
              "       [0.28867513],\n",
              "       [0.        ],\n",
              "       [0.        ],\n",
              "       [0.        ],\n",
              "       [0.        ],\n",
              "       [0.15811388],\n",
              "       [0.125     ],\n",
              "       [0.13363062],\n",
              "       [0.        ],\n",
              "       [0.        ],\n",
              "       [0.        ],\n",
              "       [0.        ],\n",
              "       [0.13363062],\n",
              "       [0.11470787],\n",
              "       [0.07624929],\n",
              "       [0.        ],\n",
              "       [0.        ],\n",
              "       [0.        ],\n",
              "       [0.        ],\n",
              "       [0.        ],\n",
              "       [0.18898224],\n",
              "       [0.25      ],\n",
              "       [0.2236068 ],\n",
              "       [0.        ],\n",
              "       [0.2236068 ],\n",
              "       [0.2236068 ],\n",
              "       [0.2236068 ],\n",
              "       [0.25      ],\n",
              "       [0.        ],\n",
              "       [0.        ],\n",
              "       [0.20412415],\n",
              "       [0.28867513],\n",
              "       [0.14433757],\n",
              "       [0.        ],\n",
              "       [0.        ],\n",
              "       [0.        ],\n",
              "       [0.        ],\n",
              "       [0.        ],\n",
              "       [0.15811388],\n",
              "       [0.20412415]])"
            ]
          },
          "metadata": {
            "tags": []
          },
          "execution_count": 24
        }
      ]
    },
    {
      "cell_type": "code",
      "metadata": {
        "id": "9BlKaaezA8s_"
      },
      "source": [
        "\n",
        "df['similarity_bow']=cosine_value # creating a new column"
      ],
      "execution_count": null,
      "outputs": []
    },
    {
      "cell_type": "code",
      "metadata": {
        "colab": {
          "base_uri": "https://localhost:8080/",
          "height": 415
        },
        "id": "ja0_jD4iA_NW",
        "outputId": "f11a0382-df00-4a54-82b3-63edcbd07a4e"
      },
      "source": [
        "df_simi = pd.DataFrame(df, columns=['Answers','similarity_bow']) # taking similarity value of responses for the question we took\n",
        "df_simi\n"
      ],
      "execution_count": null,
      "outputs": [
        {
          "output_type": "execute_result",
          "data": {
            "text/html": [
              "<div>\n",
              "<style scoped>\n",
              "    .dataframe tbody tr th:only-of-type {\n",
              "        vertical-align: middle;\n",
              "    }\n",
              "\n",
              "    .dataframe tbody tr th {\n",
              "        vertical-align: top;\n",
              "    }\n",
              "\n",
              "    .dataframe thead th {\n",
              "        text-align: right;\n",
              "    }\n",
              "</style>\n",
              "<table border=\"1\" class=\"dataframe\">\n",
              "  <thead>\n",
              "    <tr style=\"text-align: right;\">\n",
              "      <th></th>\n",
              "      <th>Answers</th>\n",
              "      <th>similarity_bow</th>\n",
              "    </tr>\n",
              "  </thead>\n",
              "  <tbody>\n",
              "    <tr>\n",
              "      <th>0</th>\n",
              "      <td>Mental illnesses are health conditions that di...</td>\n",
              "      <td>0.176777</td>\n",
              "    </tr>\n",
              "    <tr>\n",
              "      <th>1</th>\n",
              "      <td>It is estimated that mental illness affects 1 ...</td>\n",
              "      <td>0.000000</td>\n",
              "    </tr>\n",
              "    <tr>\n",
              "      <th>2</th>\n",
              "      <td>It is estimated that mental illness affects 1 ...</td>\n",
              "      <td>0.250000</td>\n",
              "    </tr>\n",
              "    <tr>\n",
              "      <th>3</th>\n",
              "      <td>Symptoms of mental health disorders vary depen...</td>\n",
              "      <td>0.144338</td>\n",
              "    </tr>\n",
              "    <tr>\n",
              "      <th>4</th>\n",
              "      <td>When healing from mental illness, early identi...</td>\n",
              "      <td>0.000000</td>\n",
              "    </tr>\n",
              "    <tr>\n",
              "      <th>...</th>\n",
              "      <td>...</td>\n",
              "      <td>...</td>\n",
              "    </tr>\n",
              "    <tr>\n",
              "      <th>93</th>\n",
              "      <td>Sorting out if you are drinking too much can b...</td>\n",
              "      <td>0.000000</td>\n",
              "    </tr>\n",
              "    <tr>\n",
              "      <th>94</th>\n",
              "      <td>Cannabis smoke, for example, contains cancer-c...</td>\n",
              "      <td>0.000000</td>\n",
              "    </tr>\n",
              "    <tr>\n",
              "      <th>95</th>\n",
              "      <td>You can't. But you can influence their capacit...</td>\n",
              "      <td>0.000000</td>\n",
              "    </tr>\n",
              "    <tr>\n",
              "      <th>96</th>\n",
              "      <td>Cannabidiol or CBD is a naturally occurring co...</td>\n",
              "      <td>0.158114</td>\n",
              "    </tr>\n",
              "    <tr>\n",
              "      <th>97</th>\n",
              "      <td>\"Vaping\" is the term for using a device where ...</td>\n",
              "      <td>0.204124</td>\n",
              "    </tr>\n",
              "  </tbody>\n",
              "</table>\n",
              "<p>98 rows × 2 columns</p>\n",
              "</div>"
            ],
            "text/plain": [
              "                                              Answers  similarity_bow\n",
              "0   Mental illnesses are health conditions that di...        0.176777\n",
              "1   It is estimated that mental illness affects 1 ...        0.000000\n",
              "2   It is estimated that mental illness affects 1 ...        0.250000\n",
              "3   Symptoms of mental health disorders vary depen...        0.144338\n",
              "4   When healing from mental illness, early identi...        0.000000\n",
              "..                                                ...             ...\n",
              "93  Sorting out if you are drinking too much can b...        0.000000\n",
              "94  Cannabis smoke, for example, contains cancer-c...        0.000000\n",
              "95  You can't. But you can influence their capacit...        0.000000\n",
              "96  Cannabidiol or CBD is a naturally occurring co...        0.158114\n",
              "97  \"Vaping\" is the term for using a device where ...        0.204124\n",
              "\n",
              "[98 rows x 2 columns]"
            ]
          },
          "metadata": {
            "tags": []
          },
          "execution_count": 27
        }
      ]
    },
    {
      "cell_type": "code",
      "metadata": {
        "colab": {
          "base_uri": "https://localhost:8080/",
          "height": 202
        },
        "id": "8NwdGoDGBRwi",
        "outputId": "3b741496-4e4b-489b-835c-e6ea99cf5f54"
      },
      "source": [
        "\n",
        "df_simi_sort = df_simi.sort_values(by='similarity_bow', ascending=False) # sorting the values\n",
        "df_simi_sort.head()"
      ],
      "execution_count": null,
      "outputs": [
        {
          "output_type": "execute_result",
          "data": {
            "text/html": [
              "<div>\n",
              "<style scoped>\n",
              "    .dataframe tbody tr th:only-of-type {\n",
              "        vertical-align: middle;\n",
              "    }\n",
              "\n",
              "    .dataframe tbody tr th {\n",
              "        vertical-align: top;\n",
              "    }\n",
              "\n",
              "    .dataframe thead th {\n",
              "        text-align: right;\n",
              "    }\n",
              "</style>\n",
              "<table border=\"1\" class=\"dataframe\">\n",
              "  <thead>\n",
              "    <tr style=\"text-align: right;\">\n",
              "      <th></th>\n",
              "      <th>Answers</th>\n",
              "      <th>similarity_bow</th>\n",
              "    </tr>\n",
              "  </thead>\n",
              "  <tbody>\n",
              "    <tr>\n",
              "      <th>7</th>\n",
              "      <td>Just as there are different types of medicatio...</td>\n",
              "      <td>0.894427</td>\n",
              "    </tr>\n",
              "    <tr>\n",
              "      <th>8</th>\n",
              "      <td>Since beginning treatment is a big step for in...</td>\n",
              "      <td>0.316228</td>\n",
              "    </tr>\n",
              "    <tr>\n",
              "      <th>11</th>\n",
              "      <td>Beginning treatment is a big step for individu...</td>\n",
              "      <td>0.316228</td>\n",
              "    </tr>\n",
              "    <tr>\n",
              "      <th>89</th>\n",
              "      <td>Prodrome is a medical term for early signs or ...</td>\n",
              "      <td>0.288675</td>\n",
              "    </tr>\n",
              "    <tr>\n",
              "      <th>57</th>\n",
              "      <td>MSP stands for Medical Services Plan. It’s a h...</td>\n",
              "      <td>0.288675</td>\n",
              "    </tr>\n",
              "  </tbody>\n",
              "</table>\n",
              "</div>"
            ],
            "text/plain": [
              "                                              Answers  similarity_bow\n",
              "7   Just as there are different types of medicatio...        0.894427\n",
              "8   Since beginning treatment is a big step for in...        0.316228\n",
              "11  Beginning treatment is a big step for individu...        0.316228\n",
              "89  Prodrome is a medical term for early signs or ...        0.288675\n",
              "57  MSP stands for Medical Services Plan. It’s a h...        0.288675"
            ]
          },
          "metadata": {
            "tags": []
          },
          "execution_count": 28
        }
      ]
    },
    {
      "cell_type": "code",
      "metadata": {
        "colab": {
          "base_uri": "https://localhost:8080/",
          "height": 1000
        },
        "id": "Yt6jgDc5BY-m",
        "outputId": "902d5563-9373-4a3b-a1b0-76ba0def65c6"
      },
      "source": [
        "threshold = 0.1 # considering the value of p=smiliarity to be greater than 0.1\n",
        "df_threshold = df_simi_sort[df_simi_sort['similarity_bow'] > threshold] \n",
        "df_threshold"
      ],
      "execution_count": null,
      "outputs": [
        {
          "output_type": "execute_result",
          "data": {
            "text/html": [
              "<div>\n",
              "<style scoped>\n",
              "    .dataframe tbody tr th:only-of-type {\n",
              "        vertical-align: middle;\n",
              "    }\n",
              "\n",
              "    .dataframe tbody tr th {\n",
              "        vertical-align: top;\n",
              "    }\n",
              "\n",
              "    .dataframe thead th {\n",
              "        text-align: right;\n",
              "    }\n",
              "</style>\n",
              "<table border=\"1\" class=\"dataframe\">\n",
              "  <thead>\n",
              "    <tr style=\"text-align: right;\">\n",
              "      <th></th>\n",
              "      <th>Answers</th>\n",
              "      <th>similarity_bow</th>\n",
              "    </tr>\n",
              "  </thead>\n",
              "  <tbody>\n",
              "    <tr>\n",
              "      <th>7</th>\n",
              "      <td>Just as there are different types of medicatio...</td>\n",
              "      <td>0.894427</td>\n",
              "    </tr>\n",
              "    <tr>\n",
              "      <th>8</th>\n",
              "      <td>Since beginning treatment is a big step for in...</td>\n",
              "      <td>0.316228</td>\n",
              "    </tr>\n",
              "    <tr>\n",
              "      <th>11</th>\n",
              "      <td>Beginning treatment is a big step for individu...</td>\n",
              "      <td>0.316228</td>\n",
              "    </tr>\n",
              "    <tr>\n",
              "      <th>89</th>\n",
              "      <td>Prodrome is a medical term for early signs or ...</td>\n",
              "      <td>0.288675</td>\n",
              "    </tr>\n",
              "    <tr>\n",
              "      <th>57</th>\n",
              "      <td>MSP stands for Medical Services Plan. It’s a h...</td>\n",
              "      <td>0.288675</td>\n",
              "    </tr>\n",
              "    <tr>\n",
              "      <th>58</th>\n",
              "      <td>A referral means someone recommends you to ano...</td>\n",
              "      <td>0.288675</td>\n",
              "    </tr>\n",
              "    <tr>\n",
              "      <th>2</th>\n",
              "      <td>It is estimated that mental illness affects 1 ...</td>\n",
              "      <td>0.250000</td>\n",
              "    </tr>\n",
              "    <tr>\n",
              "      <th>85</th>\n",
              "      <td>Binge-eating disorder or BED is a type of eati...</td>\n",
              "      <td>0.250000</td>\n",
              "    </tr>\n",
              "    <tr>\n",
              "      <th>24</th>\n",
              "      <td>We all have mental health which is made up of ...</td>\n",
              "      <td>0.250000</td>\n",
              "    </tr>\n",
              "    <tr>\n",
              "      <th>79</th>\n",
              "      <td>Cyclothymic disorder is a subtype of bipolar d...</td>\n",
              "      <td>0.250000</td>\n",
              "    </tr>\n",
              "    <tr>\n",
              "      <th>83</th>\n",
              "      <td>A personality disorder is a pattern of thought...</td>\n",
              "      <td>0.223607</td>\n",
              "    </tr>\n",
              "    <tr>\n",
              "      <th>80</th>\n",
              "      <td>Rapid cycling means that someone diagnosed wit...</td>\n",
              "      <td>0.223607</td>\n",
              "    </tr>\n",
              "    <tr>\n",
              "      <th>28</th>\n",
              "      <td>Challenges or problems with your mental health...</td>\n",
              "      <td>0.223607</td>\n",
              "    </tr>\n",
              "    <tr>\n",
              "      <th>82</th>\n",
              "      <td>A personality disorder is a pattern of thought...</td>\n",
              "      <td>0.223607</td>\n",
              "    </tr>\n",
              "    <tr>\n",
              "      <th>84</th>\n",
              "      <td>A personality disorder is a pattern of thought...</td>\n",
              "      <td>0.223607</td>\n",
              "    </tr>\n",
              "    <tr>\n",
              "      <th>88</th>\n",
              "      <td>Positive and negative symptoms are medical ter...</td>\n",
              "      <td>0.204124</td>\n",
              "    </tr>\n",
              "    <tr>\n",
              "      <th>97</th>\n",
              "      <td>\"Vaping\" is the term for using a device where ...</td>\n",
              "      <td>0.204124</td>\n",
              "    </tr>\n",
              "    <tr>\n",
              "      <th>13</th>\n",
              "      <td>The best source of information regarding medic...</td>\n",
              "      <td>0.188982</td>\n",
              "    </tr>\n",
              "    <tr>\n",
              "      <th>78</th>\n",
              "      <td>Dysthymia, now called persistent depressive di...</td>\n",
              "      <td>0.188982</td>\n",
              "    </tr>\n",
              "    <tr>\n",
              "      <th>0</th>\n",
              "      <td>Mental illnesses are health conditions that di...</td>\n",
              "      <td>0.176777</td>\n",
              "    </tr>\n",
              "    <tr>\n",
              "      <th>9</th>\n",
              "      <td>There are many types of mental health professi...</td>\n",
              "      <td>0.176777</td>\n",
              "    </tr>\n",
              "    <tr>\n",
              "      <th>36</th>\n",
              "      <td>A lot of people are alone right now, but we do...</td>\n",
              "      <td>0.166667</td>\n",
              "    </tr>\n",
              "    <tr>\n",
              "      <th>17</th>\n",
              "      <td>Mental health conditions are often treated wit...</td>\n",
              "      <td>0.166667</td>\n",
              "    </tr>\n",
              "    <tr>\n",
              "      <th>18</th>\n",
              "      <td>There are many types of mental health professi...</td>\n",
              "      <td>0.166667</td>\n",
              "    </tr>\n",
              "    <tr>\n",
              "      <th>96</th>\n",
              "      <td>Cannabidiol or CBD is a naturally occurring co...</td>\n",
              "      <td>0.158114</td>\n",
              "    </tr>\n",
              "    <tr>\n",
              "      <th>25</th>\n",
              "      <td>It can be difficult to find the things that wi...</td>\n",
              "      <td>0.158114</td>\n",
              "    </tr>\n",
              "    <tr>\n",
              "      <th>63</th>\n",
              "      <td>If possible, bring up your concerns with the p...</td>\n",
              "      <td>0.158114</td>\n",
              "    </tr>\n",
              "    <tr>\n",
              "      <th>31</th>\n",
              "      <td>This may depend on your relationship with them...</td>\n",
              "      <td>0.158114</td>\n",
              "    </tr>\n",
              "    <tr>\n",
              "      <th>29</th>\n",
              "      <td>The most important thing is to talk to someone...</td>\n",
              "      <td>0.144338</td>\n",
              "    </tr>\n",
              "    <tr>\n",
              "      <th>32</th>\n",
              "      <td>Some people may advise you on good evidence of...</td>\n",
              "      <td>0.144338</td>\n",
              "    </tr>\n",
              "    <tr>\n",
              "      <th>90</th>\n",
              "      <td>While we think of attention-deficit/hyperactiv...</td>\n",
              "      <td>0.144338</td>\n",
              "    </tr>\n",
              "    <tr>\n",
              "      <th>3</th>\n",
              "      <td>Symptoms of mental health disorders vary depen...</td>\n",
              "      <td>0.144338</td>\n",
              "    </tr>\n",
              "    <tr>\n",
              "      <th>65</th>\n",
              "      <td>It’s difficult when an adult child, sibling, p...</td>\n",
              "      <td>0.133631</td>\n",
              "    </tr>\n",
              "    <tr>\n",
              "      <th>70</th>\n",
              "      <td>Someone else’s illness is not your fault. You ...</td>\n",
              "      <td>0.133631</td>\n",
              "    </tr>\n",
              "    <tr>\n",
              "      <th>5</th>\n",
              "      <td>Although this website cannot substitute for pr...</td>\n",
              "      <td>0.129099</td>\n",
              "    </tr>\n",
              "    <tr>\n",
              "      <th>64</th>\n",
              "      <td>If you’re concerned about your medications, it...</td>\n",
              "      <td>0.125000</td>\n",
              "    </tr>\n",
              "    <tr>\n",
              "      <th>71</th>\n",
              "      <td>If you need to talk to someone or you aren’t s...</td>\n",
              "      <td>0.114708</td>\n",
              "    </tr>\n",
              "  </tbody>\n",
              "</table>\n",
              "</div>"
            ],
            "text/plain": [
              "                                              Answers  similarity_bow\n",
              "7   Just as there are different types of medicatio...        0.894427\n",
              "8   Since beginning treatment is a big step for in...        0.316228\n",
              "11  Beginning treatment is a big step for individu...        0.316228\n",
              "89  Prodrome is a medical term for early signs or ...        0.288675\n",
              "57  MSP stands for Medical Services Plan. It’s a h...        0.288675\n",
              "58  A referral means someone recommends you to ano...        0.288675\n",
              "2   It is estimated that mental illness affects 1 ...        0.250000\n",
              "85  Binge-eating disorder or BED is a type of eati...        0.250000\n",
              "24  We all have mental health which is made up of ...        0.250000\n",
              "79  Cyclothymic disorder is a subtype of bipolar d...        0.250000\n",
              "83  A personality disorder is a pattern of thought...        0.223607\n",
              "80  Rapid cycling means that someone diagnosed wit...        0.223607\n",
              "28  Challenges or problems with your mental health...        0.223607\n",
              "82  A personality disorder is a pattern of thought...        0.223607\n",
              "84  A personality disorder is a pattern of thought...        0.223607\n",
              "88  Positive and negative symptoms are medical ter...        0.204124\n",
              "97  \"Vaping\" is the term for using a device where ...        0.204124\n",
              "13  The best source of information regarding medic...        0.188982\n",
              "78  Dysthymia, now called persistent depressive di...        0.188982\n",
              "0   Mental illnesses are health conditions that di...        0.176777\n",
              "9   There are many types of mental health professi...        0.176777\n",
              "36  A lot of people are alone right now, but we do...        0.166667\n",
              "17  Mental health conditions are often treated wit...        0.166667\n",
              "18  There are many types of mental health professi...        0.166667\n",
              "96  Cannabidiol or CBD is a naturally occurring co...        0.158114\n",
              "25  It can be difficult to find the things that wi...        0.158114\n",
              "63  If possible, bring up your concerns with the p...        0.158114\n",
              "31  This may depend on your relationship with them...        0.158114\n",
              "29  The most important thing is to talk to someone...        0.144338\n",
              "32  Some people may advise you on good evidence of...        0.144338\n",
              "90  While we think of attention-deficit/hyperactiv...        0.144338\n",
              "3   Symptoms of mental health disorders vary depen...        0.144338\n",
              "65  It’s difficult when an adult child, sibling, p...        0.133631\n",
              "70  Someone else’s illness is not your fault. You ...        0.133631\n",
              "5   Although this website cannot substitute for pr...        0.129099\n",
              "64  If you’re concerned about your medications, it...        0.125000\n",
              "71  If you need to talk to someone or you aren’t s...        0.114708"
            ]
          },
          "metadata": {
            "tags": []
          },
          "execution_count": 30
        }
      ]
    },
    {
      "cell_type": "code",
      "metadata": {
        "colab": {
          "base_uri": "https://localhost:8080/"
        },
        "id": "uFgAg8EnBkey",
        "outputId": "07a591b7-b1ac-4b43-88db-4e288725788b"
      },
      "source": [
        "index_value = cosine_value.argmax() # returns the index number of highest value\n",
        "index_value"
      ],
      "execution_count": null,
      "outputs": [
        {
          "output_type": "execute_result",
          "data": {
            "text/plain": [
              "7"
            ]
          },
          "metadata": {
            "tags": []
          },
          "execution_count": 31
        }
      ]
    },
    {
      "cell_type": "code",
      "metadata": {
        "colab": {
          "base_uri": "https://localhost:8080/",
          "height": 35
        },
        "id": "_4lI9ZfVBmIw",
        "outputId": "683dd61a-581c-4a18-a3e6-f73f6b670f65"
      },
      "source": [
        "(Question)"
      ],
      "execution_count": null,
      "outputs": [
        {
          "output_type": "execute_result",
          "data": {
            "application/vnd.google.colaboratory.intrinsic+json": {
              "type": "string"
            },
            "text/plain": [
              "'What treatment options are available'"
            ]
          },
          "metadata": {
            "tags": []
          },
          "execution_count": 32
        }
      ]
    },
    {
      "cell_type": "code",
      "metadata": {
        "colab": {
          "base_uri": "https://localhost:8080/",
          "height": 53
        },
        "id": "IcCqWPu7Bn8I",
        "outputId": "ea2a2e49-eef4-4e1d-c9f0-e77f238b76b3"
      },
      "source": [
        "\n",
        "df['Answers'].loc[index_value] # The text at the above index becomes the response for the question"
      ],
      "execution_count": null,
      "outputs": [
        {
          "output_type": "execute_result",
          "data": {
            "application/vnd.google.colaboratory.intrinsic+json": {
              "type": "string"
            },
            "text/plain": [
              "'Just as there are different types of medications for physical illness, different treatment options are available for individuals with mental illness. Treatment works differently for different people. It is important to find what works best for you or your child.'"
            ]
          },
          "metadata": {
            "tags": []
          },
          "execution_count": 33
        }
      ]
    },
    {
      "cell_type": "code",
      "metadata": {
        "id": "O3WMQ7YBByib"
      },
      "source": [
        "Question1 ='What treatment options are available'"
      ],
      "execution_count": null,
      "outputs": []
    },
    {
      "cell_type": "code",
      "metadata": {
        "id": "yxGhvUqsB96d"
      },
      "source": [
        "\n",
        "# using tf-idf\n",
        "\n",
        "tfidf=TfidfVectorizer() # intializing tf-id \n",
        "x_tfidf=tfidf.fit_transform(df['lemmatized_text']).toarray() # transforming the data into array"
      ],
      "execution_count": null,
      "outputs": []
    },
    {
      "cell_type": "code",
      "metadata": {
        "id": "Njbou1tyCAVm"
      },
      "source": [
        "Question_lemma1 = text_normalization(Question1)\n",
        "Question_tfidf = tfidf.transform([Question_lemma1]).toarray() # applying tf-idf\n"
      ],
      "execution_count": null,
      "outputs": []
    },
    {
      "cell_type": "code",
      "metadata": {
        "colab": {
          "base_uri": "https://localhost:8080/",
          "height": 251
        },
        "id": "10YovQFdCJ1h",
        "outputId": "b56aa1ee-c8a0-475c-9693-6c7b74e7aaf1"
      },
      "source": [
        "# returns all the unique word from data with a score of that word\n",
        "\n",
        "df_tfidf=pd.DataFrame(x_tfidf,columns=tfidf.get_feature_names()) \n",
        "df_tfidf.head()"
      ],
      "execution_count": null,
      "outputs": [
        {
          "output_type": "execute_result",
          "data": {
            "text/html": [
              "<div>\n",
              "<style scoped>\n",
              "    .dataframe tbody tr th:only-of-type {\n",
              "        vertical-align: middle;\n",
              "    }\n",
              "\n",
              "    .dataframe tbody tr th {\n",
              "        vertical-align: top;\n",
              "    }\n",
              "\n",
              "    .dataframe thead th {\n",
              "        text-align: right;\n",
              "    }\n",
              "</style>\n",
              "<table border=\"1\" class=\"dataframe\">\n",
              "  <thead>\n",
              "    <tr style=\"text-align: right;\">\n",
              "      <th></th>\n",
              "      <th>about</th>\n",
              "      <th>addiction</th>\n",
              "      <th>adhd</th>\n",
              "      <th>adult</th>\n",
              "      <th>advance</th>\n",
              "      <th>affect</th>\n",
              "      <th>after</th>\n",
              "      <th>age</th>\n",
              "      <th>alcohol</th>\n",
              "      <th>allow</th>\n",
              "      <th>an</th>\n",
              "      <th>and</th>\n",
              "      <th>antidepressant</th>\n",
              "      <th>antisocial</th>\n",
              "      <th>anxiety</th>\n",
              "      <th>any</th>\n",
              "      <th>appear</th>\n",
              "      <th>apply</th>\n",
              "      <th>assistance</th>\n",
              "      <th>available</th>\n",
              "      <th>bad</th>\n",
              "      <th>balanced</th>\n",
              "      <th>be</th>\n",
              "      <th>become</th>\n",
              "      <th>before</th>\n",
              "      <th>between</th>\n",
              "      <th>bingeeating</th>\n",
              "      <th>borderline</th>\n",
              "      <th>brain</th>\n",
              "      <th>but</th>\n",
              "      <th>can</th>\n",
              "      <th>cannabis</th>\n",
              "      <th>care</th>\n",
              "      <th>cause</th>\n",
              "      <th>cbd</th>\n",
              "      <th>cbt</th>\n",
              "      <th>certain</th>\n",
              "      <th>challenge</th>\n",
              "      <th>child</th>\n",
              "      <th>clinical</th>\n",
              "      <th>...</th>\n",
              "      <th>support</th>\n",
              "      <th>symptom</th>\n",
              "      <th>take</th>\n",
              "      <th>talk</th>\n",
              "      <th>teenager</th>\n",
              "      <th>tell</th>\n",
              "      <th>the</th>\n",
              "      <th>therapy</th>\n",
              "      <th>there</th>\n",
              "      <th>think</th>\n",
              "      <th>thinking</th>\n",
              "      <th>this</th>\n",
              "      <th>thought</th>\n",
              "      <th>time</th>\n",
              "      <th>to</th>\n",
              "      <th>too</th>\n",
              "      <th>trap</th>\n",
              "      <th>treatment</th>\n",
              "      <th>trial</th>\n",
              "      <th>type</th>\n",
              "      <th>unwell</th>\n",
              "      <th>use</th>\n",
              "      <th>vaping</th>\n",
              "      <th>warning</th>\n",
              "      <th>we</th>\n",
              "      <th>well</th>\n",
              "      <th>what</th>\n",
              "      <th>whats</th>\n",
              "      <th>when</th>\n",
              "      <th>where</th>\n",
              "      <th>who</th>\n",
              "      <th>why</th>\n",
              "      <th>with</th>\n",
              "      <th>wont</th>\n",
              "      <th>work</th>\n",
              "      <th>worried</th>\n",
              "      <th>worry</th>\n",
              "      <th>you</th>\n",
              "      <th>young</th>\n",
              "      <th>youth</th>\n",
              "    </tr>\n",
              "  </thead>\n",
              "  <tbody>\n",
              "    <tr>\n",
              "      <th>0</th>\n",
              "      <td>0.0</td>\n",
              "      <td>0.0</td>\n",
              "      <td>0.0</td>\n",
              "      <td>0.0</td>\n",
              "      <td>0.0</td>\n",
              "      <td>0.000000</td>\n",
              "      <td>0.0</td>\n",
              "      <td>0.0</td>\n",
              "      <td>0.0</td>\n",
              "      <td>0.0</td>\n",
              "      <td>0.0</td>\n",
              "      <td>0.0</td>\n",
              "      <td>0.0</td>\n",
              "      <td>0.0</td>\n",
              "      <td>0.0</td>\n",
              "      <td>0.0</td>\n",
              "      <td>0.0</td>\n",
              "      <td>0.0</td>\n",
              "      <td>0.0</td>\n",
              "      <td>0.0</td>\n",
              "      <td>0.0</td>\n",
              "      <td>0.0</td>\n",
              "      <td>0.000000</td>\n",
              "      <td>0.0</td>\n",
              "      <td>0.0</td>\n",
              "      <td>0.0</td>\n",
              "      <td>0.0</td>\n",
              "      <td>0.0</td>\n",
              "      <td>0.0</td>\n",
              "      <td>0.0</td>\n",
              "      <td>0.000000</td>\n",
              "      <td>0.0</td>\n",
              "      <td>0.0</td>\n",
              "      <td>0.000000</td>\n",
              "      <td>0.0</td>\n",
              "      <td>0.0</td>\n",
              "      <td>0.0</td>\n",
              "      <td>0.0</td>\n",
              "      <td>0.0</td>\n",
              "      <td>0.0</td>\n",
              "      <td>...</td>\n",
              "      <td>0.0</td>\n",
              "      <td>0.0</td>\n",
              "      <td>0.0</td>\n",
              "      <td>0.0</td>\n",
              "      <td>0.0</td>\n",
              "      <td>0.0</td>\n",
              "      <td>0.000000</td>\n",
              "      <td>0.0</td>\n",
              "      <td>0.0</td>\n",
              "      <td>0.0</td>\n",
              "      <td>0.0</td>\n",
              "      <td>0.0</td>\n",
              "      <td>0.0</td>\n",
              "      <td>0.0</td>\n",
              "      <td>0.332326</td>\n",
              "      <td>0.0</td>\n",
              "      <td>0.0</td>\n",
              "      <td>0.0</td>\n",
              "      <td>0.0</td>\n",
              "      <td>0.0</td>\n",
              "      <td>0.0</td>\n",
              "      <td>0.0</td>\n",
              "      <td>0.0</td>\n",
              "      <td>0.000000</td>\n",
              "      <td>0.0</td>\n",
              "      <td>0.0</td>\n",
              "      <td>0.220070</td>\n",
              "      <td>0.0</td>\n",
              "      <td>0.0</td>\n",
              "      <td>0.0</td>\n",
              "      <td>0.000000</td>\n",
              "      <td>0.0</td>\n",
              "      <td>0.000000</td>\n",
              "      <td>0.0</td>\n",
              "      <td>0.0</td>\n",
              "      <td>0.0</td>\n",
              "      <td>0.0</td>\n",
              "      <td>0.0</td>\n",
              "      <td>0.0</td>\n",
              "      <td>0.0</td>\n",
              "    </tr>\n",
              "    <tr>\n",
              "      <th>1</th>\n",
              "      <td>0.0</td>\n",
              "      <td>0.0</td>\n",
              "      <td>0.0</td>\n",
              "      <td>0.0</td>\n",
              "      <td>0.0</td>\n",
              "      <td>0.590436</td>\n",
              "      <td>0.0</td>\n",
              "      <td>0.0</td>\n",
              "      <td>0.0</td>\n",
              "      <td>0.0</td>\n",
              "      <td>0.0</td>\n",
              "      <td>0.0</td>\n",
              "      <td>0.0</td>\n",
              "      <td>0.0</td>\n",
              "      <td>0.0</td>\n",
              "      <td>0.0</td>\n",
              "      <td>0.0</td>\n",
              "      <td>0.0</td>\n",
              "      <td>0.0</td>\n",
              "      <td>0.0</td>\n",
              "      <td>0.0</td>\n",
              "      <td>0.0</td>\n",
              "      <td>0.000000</td>\n",
              "      <td>0.0</td>\n",
              "      <td>0.0</td>\n",
              "      <td>0.0</td>\n",
              "      <td>0.0</td>\n",
              "      <td>0.0</td>\n",
              "      <td>0.0</td>\n",
              "      <td>0.0</td>\n",
              "      <td>0.000000</td>\n",
              "      <td>0.0</td>\n",
              "      <td>0.0</td>\n",
              "      <td>0.000000</td>\n",
              "      <td>0.0</td>\n",
              "      <td>0.0</td>\n",
              "      <td>0.0</td>\n",
              "      <td>0.0</td>\n",
              "      <td>0.0</td>\n",
              "      <td>0.0</td>\n",
              "      <td>...</td>\n",
              "      <td>0.0</td>\n",
              "      <td>0.0</td>\n",
              "      <td>0.0</td>\n",
              "      <td>0.0</td>\n",
              "      <td>0.0</td>\n",
              "      <td>0.0</td>\n",
              "      <td>0.000000</td>\n",
              "      <td>0.0</td>\n",
              "      <td>0.0</td>\n",
              "      <td>0.0</td>\n",
              "      <td>0.0</td>\n",
              "      <td>0.0</td>\n",
              "      <td>0.0</td>\n",
              "      <td>0.0</td>\n",
              "      <td>0.000000</td>\n",
              "      <td>0.0</td>\n",
              "      <td>0.0</td>\n",
              "      <td>0.0</td>\n",
              "      <td>0.0</td>\n",
              "      <td>0.0</td>\n",
              "      <td>0.0</td>\n",
              "      <td>0.0</td>\n",
              "      <td>0.0</td>\n",
              "      <td>0.000000</td>\n",
              "      <td>0.0</td>\n",
              "      <td>0.0</td>\n",
              "      <td>0.000000</td>\n",
              "      <td>0.0</td>\n",
              "      <td>0.0</td>\n",
              "      <td>0.0</td>\n",
              "      <td>0.541598</td>\n",
              "      <td>0.0</td>\n",
              "      <td>0.000000</td>\n",
              "      <td>0.0</td>\n",
              "      <td>0.0</td>\n",
              "      <td>0.0</td>\n",
              "      <td>0.0</td>\n",
              "      <td>0.0</td>\n",
              "      <td>0.0</td>\n",
              "      <td>0.0</td>\n",
              "    </tr>\n",
              "    <tr>\n",
              "      <th>2</th>\n",
              "      <td>0.0</td>\n",
              "      <td>0.0</td>\n",
              "      <td>0.0</td>\n",
              "      <td>0.0</td>\n",
              "      <td>0.0</td>\n",
              "      <td>0.000000</td>\n",
              "      <td>0.0</td>\n",
              "      <td>0.0</td>\n",
              "      <td>0.0</td>\n",
              "      <td>0.0</td>\n",
              "      <td>0.0</td>\n",
              "      <td>0.0</td>\n",
              "      <td>0.0</td>\n",
              "      <td>0.0</td>\n",
              "      <td>0.0</td>\n",
              "      <td>0.0</td>\n",
              "      <td>0.0</td>\n",
              "      <td>0.0</td>\n",
              "      <td>0.0</td>\n",
              "      <td>0.0</td>\n",
              "      <td>0.0</td>\n",
              "      <td>0.0</td>\n",
              "      <td>0.000000</td>\n",
              "      <td>0.0</td>\n",
              "      <td>0.0</td>\n",
              "      <td>0.0</td>\n",
              "      <td>0.0</td>\n",
              "      <td>0.0</td>\n",
              "      <td>0.0</td>\n",
              "      <td>0.0</td>\n",
              "      <td>0.000000</td>\n",
              "      <td>0.0</td>\n",
              "      <td>0.0</td>\n",
              "      <td>0.688269</td>\n",
              "      <td>0.0</td>\n",
              "      <td>0.0</td>\n",
              "      <td>0.0</td>\n",
              "      <td>0.0</td>\n",
              "      <td>0.0</td>\n",
              "      <td>0.0</td>\n",
              "      <td>...</td>\n",
              "      <td>0.0</td>\n",
              "      <td>0.0</td>\n",
              "      <td>0.0</td>\n",
              "      <td>0.0</td>\n",
              "      <td>0.0</td>\n",
              "      <td>0.0</td>\n",
              "      <td>0.000000</td>\n",
              "      <td>0.0</td>\n",
              "      <td>0.0</td>\n",
              "      <td>0.0</td>\n",
              "      <td>0.0</td>\n",
              "      <td>0.0</td>\n",
              "      <td>0.0</td>\n",
              "      <td>0.0</td>\n",
              "      <td>0.000000</td>\n",
              "      <td>0.0</td>\n",
              "      <td>0.0</td>\n",
              "      <td>0.0</td>\n",
              "      <td>0.0</td>\n",
              "      <td>0.0</td>\n",
              "      <td>0.0</td>\n",
              "      <td>0.0</td>\n",
              "      <td>0.0</td>\n",
              "      <td>0.000000</td>\n",
              "      <td>0.0</td>\n",
              "      <td>0.0</td>\n",
              "      <td>0.299635</td>\n",
              "      <td>0.0</td>\n",
              "      <td>0.0</td>\n",
              "      <td>0.0</td>\n",
              "      <td>0.000000</td>\n",
              "      <td>0.0</td>\n",
              "      <td>0.000000</td>\n",
              "      <td>0.0</td>\n",
              "      <td>0.0</td>\n",
              "      <td>0.0</td>\n",
              "      <td>0.0</td>\n",
              "      <td>0.0</td>\n",
              "      <td>0.0</td>\n",
              "      <td>0.0</td>\n",
              "    </tr>\n",
              "    <tr>\n",
              "      <th>3</th>\n",
              "      <td>0.0</td>\n",
              "      <td>0.0</td>\n",
              "      <td>0.0</td>\n",
              "      <td>0.0</td>\n",
              "      <td>0.0</td>\n",
              "      <td>0.000000</td>\n",
              "      <td>0.0</td>\n",
              "      <td>0.0</td>\n",
              "      <td>0.0</td>\n",
              "      <td>0.0</td>\n",
              "      <td>0.0</td>\n",
              "      <td>0.0</td>\n",
              "      <td>0.0</td>\n",
              "      <td>0.0</td>\n",
              "      <td>0.0</td>\n",
              "      <td>0.0</td>\n",
              "      <td>0.0</td>\n",
              "      <td>0.0</td>\n",
              "      <td>0.0</td>\n",
              "      <td>0.0</td>\n",
              "      <td>0.0</td>\n",
              "      <td>0.0</td>\n",
              "      <td>0.183179</td>\n",
              "      <td>0.0</td>\n",
              "      <td>0.0</td>\n",
              "      <td>0.0</td>\n",
              "      <td>0.0</td>\n",
              "      <td>0.0</td>\n",
              "      <td>0.0</td>\n",
              "      <td>0.0</td>\n",
              "      <td>0.000000</td>\n",
              "      <td>0.0</td>\n",
              "      <td>0.0</td>\n",
              "      <td>0.000000</td>\n",
              "      <td>0.0</td>\n",
              "      <td>0.0</td>\n",
              "      <td>0.0</td>\n",
              "      <td>0.0</td>\n",
              "      <td>0.0</td>\n",
              "      <td>0.0</td>\n",
              "      <td>...</td>\n",
              "      <td>0.0</td>\n",
              "      <td>0.0</td>\n",
              "      <td>0.0</td>\n",
              "      <td>0.0</td>\n",
              "      <td>0.0</td>\n",
              "      <td>0.0</td>\n",
              "      <td>0.210416</td>\n",
              "      <td>0.0</td>\n",
              "      <td>0.0</td>\n",
              "      <td>0.0</td>\n",
              "      <td>0.0</td>\n",
              "      <td>0.0</td>\n",
              "      <td>0.0</td>\n",
              "      <td>0.0</td>\n",
              "      <td>0.000000</td>\n",
              "      <td>0.0</td>\n",
              "      <td>0.0</td>\n",
              "      <td>0.0</td>\n",
              "      <td>0.0</td>\n",
              "      <td>0.0</td>\n",
              "      <td>0.0</td>\n",
              "      <td>0.0</td>\n",
              "      <td>0.0</td>\n",
              "      <td>0.396806</td>\n",
              "      <td>0.0</td>\n",
              "      <td>0.0</td>\n",
              "      <td>0.158459</td>\n",
              "      <td>0.0</td>\n",
              "      <td>0.0</td>\n",
              "      <td>0.0</td>\n",
              "      <td>0.000000</td>\n",
              "      <td>0.0</td>\n",
              "      <td>0.000000</td>\n",
              "      <td>0.0</td>\n",
              "      <td>0.0</td>\n",
              "      <td>0.0</td>\n",
              "      <td>0.0</td>\n",
              "      <td>0.0</td>\n",
              "      <td>0.0</td>\n",
              "      <td>0.0</td>\n",
              "    </tr>\n",
              "    <tr>\n",
              "      <th>4</th>\n",
              "      <td>0.0</td>\n",
              "      <td>0.0</td>\n",
              "      <td>0.0</td>\n",
              "      <td>0.0</td>\n",
              "      <td>0.0</td>\n",
              "      <td>0.000000</td>\n",
              "      <td>0.0</td>\n",
              "      <td>0.0</td>\n",
              "      <td>0.0</td>\n",
              "      <td>0.0</td>\n",
              "      <td>0.0</td>\n",
              "      <td>0.0</td>\n",
              "      <td>0.0</td>\n",
              "      <td>0.0</td>\n",
              "      <td>0.0</td>\n",
              "      <td>0.0</td>\n",
              "      <td>0.0</td>\n",
              "      <td>0.0</td>\n",
              "      <td>0.0</td>\n",
              "      <td>0.0</td>\n",
              "      <td>0.0</td>\n",
              "      <td>0.0</td>\n",
              "      <td>0.000000</td>\n",
              "      <td>0.0</td>\n",
              "      <td>0.0</td>\n",
              "      <td>0.0</td>\n",
              "      <td>0.0</td>\n",
              "      <td>0.0</td>\n",
              "      <td>0.0</td>\n",
              "      <td>0.0</td>\n",
              "      <td>0.185783</td>\n",
              "      <td>0.0</td>\n",
              "      <td>0.0</td>\n",
              "      <td>0.000000</td>\n",
              "      <td>0.0</td>\n",
              "      <td>0.0</td>\n",
              "      <td>0.0</td>\n",
              "      <td>0.0</td>\n",
              "      <td>0.0</td>\n",
              "      <td>0.0</td>\n",
              "      <td>...</td>\n",
              "      <td>0.0</td>\n",
              "      <td>0.0</td>\n",
              "      <td>0.0</td>\n",
              "      <td>0.0</td>\n",
              "      <td>0.0</td>\n",
              "      <td>0.0</td>\n",
              "      <td>0.000000</td>\n",
              "      <td>0.0</td>\n",
              "      <td>0.0</td>\n",
              "      <td>0.0</td>\n",
              "      <td>0.0</td>\n",
              "      <td>0.0</td>\n",
              "      <td>0.0</td>\n",
              "      <td>0.0</td>\n",
              "      <td>0.000000</td>\n",
              "      <td>0.0</td>\n",
              "      <td>0.0</td>\n",
              "      <td>0.0</td>\n",
              "      <td>0.0</td>\n",
              "      <td>0.0</td>\n",
              "      <td>0.0</td>\n",
              "      <td>0.0</td>\n",
              "      <td>0.0</td>\n",
              "      <td>0.000000</td>\n",
              "      <td>0.0</td>\n",
              "      <td>0.0</td>\n",
              "      <td>0.000000</td>\n",
              "      <td>0.0</td>\n",
              "      <td>0.0</td>\n",
              "      <td>0.0</td>\n",
              "      <td>0.000000</td>\n",
              "      <td>0.0</td>\n",
              "      <td>0.414843</td>\n",
              "      <td>0.0</td>\n",
              "      <td>0.0</td>\n",
              "      <td>0.0</td>\n",
              "      <td>0.0</td>\n",
              "      <td>0.0</td>\n",
              "      <td>0.0</td>\n",
              "      <td>0.0</td>\n",
              "    </tr>\n",
              "  </tbody>\n",
              "</table>\n",
              "<p>5 rows × 235 columns</p>\n",
              "</div>"
            ],
            "text/plain": [
              "   about  addiction  adhd  adult  advance  ...  worried  worry  you  young  youth\n",
              "0    0.0        0.0   0.0    0.0      0.0  ...      0.0    0.0  0.0    0.0    0.0\n",
              "1    0.0        0.0   0.0    0.0      0.0  ...      0.0    0.0  0.0    0.0    0.0\n",
              "2    0.0        0.0   0.0    0.0      0.0  ...      0.0    0.0  0.0    0.0    0.0\n",
              "3    0.0        0.0   0.0    0.0      0.0  ...      0.0    0.0  0.0    0.0    0.0\n",
              "4    0.0        0.0   0.0    0.0      0.0  ...      0.0    0.0  0.0    0.0    0.0\n",
              "\n",
              "[5 rows x 235 columns]"
            ]
          },
          "metadata": {
            "tags": []
          },
          "execution_count": 38
        }
      ]
    },
    {
      "cell_type": "code",
      "metadata": {
        "colab": {
          "base_uri": "https://localhost:8080/"
        },
        "id": "IEAPLV2mCWAY",
        "outputId": "b08ed038-534c-4c11-8690-c3a47854d274"
      },
      "source": [
        "\n",
        "cos=1-pairwise_distances(df_tfidf,Question_tfidf,metric='cosine')  # applying cosine similarity\n",
        "cos"
      ],
      "execution_count": null,
      "outputs": [
        {
          "output_type": "execute_result",
          "data": {
            "text/plain": [
              "array([[0.0504562 ],\n",
              "       [0.        ],\n",
              "       [0.0686984 ],\n",
              "       [0.08488045],\n",
              "       [0.        ],\n",
              "       [0.03358704],\n",
              "       [0.        ],\n",
              "       [1.        ],\n",
              "       [0.20208366],\n",
              "       [0.13154037],\n",
              "       [0.        ],\n",
              "       [0.20208366],\n",
              "       [0.        ],\n",
              "       [0.04128706],\n",
              "       [0.03508416],\n",
              "       [0.        ],\n",
              "       [0.        ],\n",
              "       [0.18657351],\n",
              "       [0.10435026],\n",
              "       [0.        ],\n",
              "       [0.        ],\n",
              "       [0.        ],\n",
              "       [0.        ],\n",
              "       [0.        ],\n",
              "       [0.22086907],\n",
              "       [0.04628936],\n",
              "       [0.        ],\n",
              "       [0.0665589 ],\n",
              "       [0.06287489],\n",
              "       [0.04433521],\n",
              "       [0.        ],\n",
              "       [0.03909618],\n",
              "       [0.03848933],\n",
              "       [0.        ],\n",
              "       [0.05531838],\n",
              "       [0.        ],\n",
              "       [0.03828114],\n",
              "       [0.        ],\n",
              "       [0.        ],\n",
              "       [0.        ],\n",
              "       [0.        ],\n",
              "       [0.        ],\n",
              "       [0.        ],\n",
              "       [0.        ],\n",
              "       [0.        ],\n",
              "       [0.        ],\n",
              "       [0.        ],\n",
              "       [0.        ],\n",
              "       [0.        ],\n",
              "       [0.        ],\n",
              "       [0.        ],\n",
              "       [0.        ],\n",
              "       [0.05530617],\n",
              "       [0.        ],\n",
              "       [0.        ],\n",
              "       [0.        ],\n",
              "       [0.        ],\n",
              "       [0.18258341],\n",
              "       [0.18258341],\n",
              "       [0.        ],\n",
              "       [0.        ],\n",
              "       [0.        ],\n",
              "       [0.        ],\n",
              "       [0.03664234],\n",
              "       [0.06865753],\n",
              "       [0.03267195],\n",
              "       [0.        ],\n",
              "       [0.        ],\n",
              "       [0.05536496],\n",
              "       [0.0549386 ],\n",
              "       [0.03443599],\n",
              "       [0.06356721],\n",
              "       [0.06554136],\n",
              "       [0.        ],\n",
              "       [0.        ],\n",
              "       [0.        ],\n",
              "       [0.        ],\n",
              "       [0.        ],\n",
              "       [0.104857  ],\n",
              "       [0.15952791],\n",
              "       [0.05159955],\n",
              "       [0.        ],\n",
              "       [0.13807841],\n",
              "       [0.13807841],\n",
              "       [0.13807841],\n",
              "       [0.15952791],\n",
              "       [0.        ],\n",
              "       [0.        ],\n",
              "       [0.11458963],\n",
              "       [0.18258341],\n",
              "       [0.03535771],\n",
              "       [0.        ],\n",
              "       [0.        ],\n",
              "       [0.        ],\n",
              "       [0.09711643],\n",
              "       [0.        ],\n",
              "       [0.08558834],\n",
              "       [0.11441809]])"
            ]
          },
          "metadata": {
            "tags": []
          },
          "execution_count": 39
        }
      ]
    },
    {
      "cell_type": "code",
      "metadata": {
        "colab": {
          "base_uri": "https://localhost:8080/",
          "height": 415
        },
        "id": "5saQViVjCXng",
        "outputId": "3e557899-5254-4219-8898-e7bc69045aa9"
      },
      "source": [
        "df['similarity_tfidf']=cos # creating a new column \n",
        "df_simi_tfidf = pd.DataFrame(df, columns=['Answers','similarity_tfidf']) # taking similarity value of responses for the question we took\n",
        "df_simi_tfidf"
      ],
      "execution_count": null,
      "outputs": [
        {
          "output_type": "execute_result",
          "data": {
            "text/html": [
              "<div>\n",
              "<style scoped>\n",
              "    .dataframe tbody tr th:only-of-type {\n",
              "        vertical-align: middle;\n",
              "    }\n",
              "\n",
              "    .dataframe tbody tr th {\n",
              "        vertical-align: top;\n",
              "    }\n",
              "\n",
              "    .dataframe thead th {\n",
              "        text-align: right;\n",
              "    }\n",
              "</style>\n",
              "<table border=\"1\" class=\"dataframe\">\n",
              "  <thead>\n",
              "    <tr style=\"text-align: right;\">\n",
              "      <th></th>\n",
              "      <th>Answers</th>\n",
              "      <th>similarity_tfidf</th>\n",
              "    </tr>\n",
              "  </thead>\n",
              "  <tbody>\n",
              "    <tr>\n",
              "      <th>0</th>\n",
              "      <td>Mental illnesses are health conditions that di...</td>\n",
              "      <td>0.050456</td>\n",
              "    </tr>\n",
              "    <tr>\n",
              "      <th>1</th>\n",
              "      <td>It is estimated that mental illness affects 1 ...</td>\n",
              "      <td>0.000000</td>\n",
              "    </tr>\n",
              "    <tr>\n",
              "      <th>2</th>\n",
              "      <td>It is estimated that mental illness affects 1 ...</td>\n",
              "      <td>0.068698</td>\n",
              "    </tr>\n",
              "    <tr>\n",
              "      <th>3</th>\n",
              "      <td>Symptoms of mental health disorders vary depen...</td>\n",
              "      <td>0.084880</td>\n",
              "    </tr>\n",
              "    <tr>\n",
              "      <th>4</th>\n",
              "      <td>When healing from mental illness, early identi...</td>\n",
              "      <td>0.000000</td>\n",
              "    </tr>\n",
              "    <tr>\n",
              "      <th>...</th>\n",
              "      <td>...</td>\n",
              "      <td>...</td>\n",
              "    </tr>\n",
              "    <tr>\n",
              "      <th>93</th>\n",
              "      <td>Sorting out if you are drinking too much can b...</td>\n",
              "      <td>0.000000</td>\n",
              "    </tr>\n",
              "    <tr>\n",
              "      <th>94</th>\n",
              "      <td>Cannabis smoke, for example, contains cancer-c...</td>\n",
              "      <td>0.097116</td>\n",
              "    </tr>\n",
              "    <tr>\n",
              "      <th>95</th>\n",
              "      <td>You can't. But you can influence their capacit...</td>\n",
              "      <td>0.000000</td>\n",
              "    </tr>\n",
              "    <tr>\n",
              "      <th>96</th>\n",
              "      <td>Cannabidiol or CBD is a naturally occurring co...</td>\n",
              "      <td>0.085588</td>\n",
              "    </tr>\n",
              "    <tr>\n",
              "      <th>97</th>\n",
              "      <td>\"Vaping\" is the term for using a device where ...</td>\n",
              "      <td>0.114418</td>\n",
              "    </tr>\n",
              "  </tbody>\n",
              "</table>\n",
              "<p>98 rows × 2 columns</p>\n",
              "</div>"
            ],
            "text/plain": [
              "                                              Answers  similarity_tfidf\n",
              "0   Mental illnesses are health conditions that di...          0.050456\n",
              "1   It is estimated that mental illness affects 1 ...          0.000000\n",
              "2   It is estimated that mental illness affects 1 ...          0.068698\n",
              "3   Symptoms of mental health disorders vary depen...          0.084880\n",
              "4   When healing from mental illness, early identi...          0.000000\n",
              "..                                                ...               ...\n",
              "93  Sorting out if you are drinking too much can b...          0.000000\n",
              "94  Cannabis smoke, for example, contains cancer-c...          0.097116\n",
              "95  You can't. But you can influence their capacit...          0.000000\n",
              "96  Cannabidiol or CBD is a naturally occurring co...          0.085588\n",
              "97  \"Vaping\" is the term for using a device where ...          0.114418\n",
              "\n",
              "[98 rows x 2 columns]"
            ]
          },
          "metadata": {
            "tags": []
          },
          "execution_count": 40
        }
      ]
    },
    {
      "cell_type": "code",
      "metadata": {
        "colab": {
          "base_uri": "https://localhost:8080/",
          "height": 355
        },
        "id": "f1rs3m98CfR9",
        "outputId": "3ab07200-2be6-43d0-f82d-72a32f88528f"
      },
      "source": [
        "df_simi_tfidf_sort = df_simi_tfidf.sort_values(by='similarity_tfidf', ascending=False) # sorting the values\n",
        "df_simi_tfidf_sort.head(10)"
      ],
      "execution_count": null,
      "outputs": [
        {
          "output_type": "execute_result",
          "data": {
            "text/html": [
              "<div>\n",
              "<style scoped>\n",
              "    .dataframe tbody tr th:only-of-type {\n",
              "        vertical-align: middle;\n",
              "    }\n",
              "\n",
              "    .dataframe tbody tr th {\n",
              "        vertical-align: top;\n",
              "    }\n",
              "\n",
              "    .dataframe thead th {\n",
              "        text-align: right;\n",
              "    }\n",
              "</style>\n",
              "<table border=\"1\" class=\"dataframe\">\n",
              "  <thead>\n",
              "    <tr style=\"text-align: right;\">\n",
              "      <th></th>\n",
              "      <th>Answers</th>\n",
              "      <th>similarity_tfidf</th>\n",
              "    </tr>\n",
              "  </thead>\n",
              "  <tbody>\n",
              "    <tr>\n",
              "      <th>7</th>\n",
              "      <td>Just as there are different types of medicatio...</td>\n",
              "      <td>1.000000</td>\n",
              "    </tr>\n",
              "    <tr>\n",
              "      <th>24</th>\n",
              "      <td>We all have mental health which is made up of ...</td>\n",
              "      <td>0.220869</td>\n",
              "    </tr>\n",
              "    <tr>\n",
              "      <th>8</th>\n",
              "      <td>Since beginning treatment is a big step for in...</td>\n",
              "      <td>0.202084</td>\n",
              "    </tr>\n",
              "    <tr>\n",
              "      <th>11</th>\n",
              "      <td>Beginning treatment is a big step for individu...</td>\n",
              "      <td>0.202084</td>\n",
              "    </tr>\n",
              "    <tr>\n",
              "      <th>17</th>\n",
              "      <td>Mental health conditions are often treated wit...</td>\n",
              "      <td>0.186574</td>\n",
              "    </tr>\n",
              "    <tr>\n",
              "      <th>57</th>\n",
              "      <td>MSP stands for Medical Services Plan. It’s a h...</td>\n",
              "      <td>0.182583</td>\n",
              "    </tr>\n",
              "    <tr>\n",
              "      <th>89</th>\n",
              "      <td>Prodrome is a medical term for early signs or ...</td>\n",
              "      <td>0.182583</td>\n",
              "    </tr>\n",
              "    <tr>\n",
              "      <th>58</th>\n",
              "      <td>A referral means someone recommends you to ano...</td>\n",
              "      <td>0.182583</td>\n",
              "    </tr>\n",
              "    <tr>\n",
              "      <th>79</th>\n",
              "      <td>Cyclothymic disorder is a subtype of bipolar d...</td>\n",
              "      <td>0.159528</td>\n",
              "    </tr>\n",
              "    <tr>\n",
              "      <th>85</th>\n",
              "      <td>Binge-eating disorder or BED is a type of eati...</td>\n",
              "      <td>0.159528</td>\n",
              "    </tr>\n",
              "  </tbody>\n",
              "</table>\n",
              "</div>"
            ],
            "text/plain": [
              "                                              Answers  similarity_tfidf\n",
              "7   Just as there are different types of medicatio...          1.000000\n",
              "24  We all have mental health which is made up of ...          0.220869\n",
              "8   Since beginning treatment is a big step for in...          0.202084\n",
              "11  Beginning treatment is a big step for individu...          0.202084\n",
              "17  Mental health conditions are often treated wit...          0.186574\n",
              "57  MSP stands for Medical Services Plan. It’s a h...          0.182583\n",
              "89  Prodrome is a medical term for early signs or ...          0.182583\n",
              "58  A referral means someone recommends you to ano...          0.182583\n",
              "79  Cyclothymic disorder is a subtype of bipolar d...          0.159528\n",
              "85  Binge-eating disorder or BED is a type of eati...          0.159528"
            ]
          },
          "metadata": {
            "tags": []
          },
          "execution_count": 41
        }
      ]
    },
    {
      "cell_type": "code",
      "metadata": {
        "colab": {
          "base_uri": "https://localhost:8080/",
          "height": 601
        },
        "id": "Bc3fzoRqCjYC",
        "outputId": "6932077e-1ab8-4f68-e258-562dcc185629"
      },
      "source": [
        "\n",
        "threshold = 0.1 # considering the value of p=smiliarity to be greater than 0.1\n",
        "df_threshold = df_simi_tfidf_sort[df_simi_tfidf_sort['similarity_tfidf'] > threshold] \n",
        "df_threshold"
      ],
      "execution_count": null,
      "outputs": [
        {
          "output_type": "execute_result",
          "data": {
            "text/html": [
              "<div>\n",
              "<style scoped>\n",
              "    .dataframe tbody tr th:only-of-type {\n",
              "        vertical-align: middle;\n",
              "    }\n",
              "\n",
              "    .dataframe tbody tr th {\n",
              "        vertical-align: top;\n",
              "    }\n",
              "\n",
              "    .dataframe thead th {\n",
              "        text-align: right;\n",
              "    }\n",
              "</style>\n",
              "<table border=\"1\" class=\"dataframe\">\n",
              "  <thead>\n",
              "    <tr style=\"text-align: right;\">\n",
              "      <th></th>\n",
              "      <th>Answers</th>\n",
              "      <th>similarity_tfidf</th>\n",
              "    </tr>\n",
              "  </thead>\n",
              "  <tbody>\n",
              "    <tr>\n",
              "      <th>7</th>\n",
              "      <td>Just as there are different types of medicatio...</td>\n",
              "      <td>1.000000</td>\n",
              "    </tr>\n",
              "    <tr>\n",
              "      <th>24</th>\n",
              "      <td>We all have mental health which is made up of ...</td>\n",
              "      <td>0.220869</td>\n",
              "    </tr>\n",
              "    <tr>\n",
              "      <th>8</th>\n",
              "      <td>Since beginning treatment is a big step for in...</td>\n",
              "      <td>0.202084</td>\n",
              "    </tr>\n",
              "    <tr>\n",
              "      <th>11</th>\n",
              "      <td>Beginning treatment is a big step for individu...</td>\n",
              "      <td>0.202084</td>\n",
              "    </tr>\n",
              "    <tr>\n",
              "      <th>17</th>\n",
              "      <td>Mental health conditions are often treated wit...</td>\n",
              "      <td>0.186574</td>\n",
              "    </tr>\n",
              "    <tr>\n",
              "      <th>57</th>\n",
              "      <td>MSP stands for Medical Services Plan. It’s a h...</td>\n",
              "      <td>0.182583</td>\n",
              "    </tr>\n",
              "    <tr>\n",
              "      <th>89</th>\n",
              "      <td>Prodrome is a medical term for early signs or ...</td>\n",
              "      <td>0.182583</td>\n",
              "    </tr>\n",
              "    <tr>\n",
              "      <th>58</th>\n",
              "      <td>A referral means someone recommends you to ano...</td>\n",
              "      <td>0.182583</td>\n",
              "    </tr>\n",
              "    <tr>\n",
              "      <th>79</th>\n",
              "      <td>Cyclothymic disorder is a subtype of bipolar d...</td>\n",
              "      <td>0.159528</td>\n",
              "    </tr>\n",
              "    <tr>\n",
              "      <th>85</th>\n",
              "      <td>Binge-eating disorder or BED is a type of eati...</td>\n",
              "      <td>0.159528</td>\n",
              "    </tr>\n",
              "    <tr>\n",
              "      <th>83</th>\n",
              "      <td>A personality disorder is a pattern of thought...</td>\n",
              "      <td>0.138078</td>\n",
              "    </tr>\n",
              "    <tr>\n",
              "      <th>82</th>\n",
              "      <td>A personality disorder is a pattern of thought...</td>\n",
              "      <td>0.138078</td>\n",
              "    </tr>\n",
              "    <tr>\n",
              "      <th>84</th>\n",
              "      <td>A personality disorder is a pattern of thought...</td>\n",
              "      <td>0.138078</td>\n",
              "    </tr>\n",
              "    <tr>\n",
              "      <th>9</th>\n",
              "      <td>There are many types of mental health professi...</td>\n",
              "      <td>0.131540</td>\n",
              "    </tr>\n",
              "    <tr>\n",
              "      <th>88</th>\n",
              "      <td>Positive and negative symptoms are medical ter...</td>\n",
              "      <td>0.114590</td>\n",
              "    </tr>\n",
              "    <tr>\n",
              "      <th>97</th>\n",
              "      <td>\"Vaping\" is the term for using a device where ...</td>\n",
              "      <td>0.114418</td>\n",
              "    </tr>\n",
              "    <tr>\n",
              "      <th>78</th>\n",
              "      <td>Dysthymia, now called persistent depressive di...</td>\n",
              "      <td>0.104857</td>\n",
              "    </tr>\n",
              "    <tr>\n",
              "      <th>18</th>\n",
              "      <td>There are many types of mental health professi...</td>\n",
              "      <td>0.104350</td>\n",
              "    </tr>\n",
              "  </tbody>\n",
              "</table>\n",
              "</div>"
            ],
            "text/plain": [
              "                                              Answers  similarity_tfidf\n",
              "7   Just as there are different types of medicatio...          1.000000\n",
              "24  We all have mental health which is made up of ...          0.220869\n",
              "8   Since beginning treatment is a big step for in...          0.202084\n",
              "11  Beginning treatment is a big step for individu...          0.202084\n",
              "17  Mental health conditions are often treated wit...          0.186574\n",
              "57  MSP stands for Medical Services Plan. It’s a h...          0.182583\n",
              "89  Prodrome is a medical term for early signs or ...          0.182583\n",
              "58  A referral means someone recommends you to ano...          0.182583\n",
              "79  Cyclothymic disorder is a subtype of bipolar d...          0.159528\n",
              "85  Binge-eating disorder or BED is a type of eati...          0.159528\n",
              "83  A personality disorder is a pattern of thought...          0.138078\n",
              "82  A personality disorder is a pattern of thought...          0.138078\n",
              "84  A personality disorder is a pattern of thought...          0.138078\n",
              "9   There are many types of mental health professi...          0.131540\n",
              "88  Positive and negative symptoms are medical ter...          0.114590\n",
              "97  \"Vaping\" is the term for using a device where ...          0.114418\n",
              "78  Dysthymia, now called persistent depressive di...          0.104857\n",
              "18  There are many types of mental health professi...          0.104350"
            ]
          },
          "metadata": {
            "tags": []
          },
          "execution_count": 42
        }
      ]
    },
    {
      "cell_type": "code",
      "metadata": {
        "colab": {
          "base_uri": "https://localhost:8080/"
        },
        "id": "Un2v35qzCn6X",
        "outputId": "1a150d7f-eecc-40fc-da73-b61ddbb67f41"
      },
      "source": [
        "\n",
        "index_value1 = cos.argmax() # returns the index number of highest value\n",
        "index_value1"
      ],
      "execution_count": null,
      "outputs": [
        {
          "output_type": "execute_result",
          "data": {
            "text/plain": [
              "7"
            ]
          },
          "metadata": {
            "tags": []
          },
          "execution_count": 43
        }
      ]
    },
    {
      "cell_type": "code",
      "metadata": {
        "colab": {
          "base_uri": "https://localhost:8080/",
          "height": 35
        },
        "id": "onz89QJhCrMD",
        "outputId": "d5f5af1c-34de-4b5d-d23c-79ea2ddbc75a"
      },
      "source": [
        "\n",
        "Question1"
      ],
      "execution_count": null,
      "outputs": [
        {
          "output_type": "execute_result",
          "data": {
            "application/vnd.google.colaboratory.intrinsic+json": {
              "type": "string"
            },
            "text/plain": [
              "'What treatment options are available'"
            ]
          },
          "metadata": {
            "tags": []
          },
          "execution_count": 44
        }
      ]
    },
    {
      "cell_type": "code",
      "metadata": {
        "colab": {
          "base_uri": "https://localhost:8080/",
          "height": 53
        },
        "id": "4C0KLnatCuH9",
        "outputId": "a28e73da-64bc-4e01-ab5c-5f31c91c019f"
      },
      "source": [
        "df['Answers'].loc[index_value1]  # returns the text at that index"
      ],
      "execution_count": null,
      "outputs": [
        {
          "output_type": "execute_result",
          "data": {
            "application/vnd.google.colaboratory.intrinsic+json": {
              "type": "string"
            },
            "text/plain": [
              "'Just as there are different types of medications for physical illness, different treatment options are available for individuals with mental illness. Treatment works differently for different people. It is important to find what works best for you or your child.'"
            ]
          },
          "metadata": {
            "tags": []
          },
          "execution_count": 45
        }
      ]
    },
    {
      "cell_type": "code",
      "metadata": {
        "id": "H25-qELBCzFM"
      },
      "source": [
        "# Function that removes stop words and process the text\n",
        "\n",
        "def stopword_(text):   \n",
        "    tag_list=pos_tag(nltk.word_tokenize(text),tagset=None)\n",
        "    stop=stopwords.words('english')\n",
        "    lema=wordnet.WordNetLemmatizer()\n",
        "    lema_word=[]\n",
        "    for token,pos_token in tag_list:\n",
        "        if token in stop:\n",
        "            continue\n",
        "        if pos_token.startswith('V'):\n",
        "            pos_val='v'\n",
        "        elif pos_token.startswith('J'):\n",
        "            pos_val='a'\n",
        "        elif pos_token.startswith('R'):\n",
        "            pos_val='r'\n",
        "        else:\n",
        "            pos_val='n'\n",
        "        lema_token=lema.lemmatize(token,pos_val)\n",
        "        lema_word.append(lema_token)\n",
        "    return \" \".join(lema_word)"
      ],
      "execution_count": null,
      "outputs": []
    },
    {
      "cell_type": "code",
      "metadata": {
        "id": "ri3aOkDVC34P"
      },
      "source": [
        "# defining a function that returns response to query using bow\n",
        "\n",
        "def chat_bow(text):\n",
        "    s=stopword_(text)\n",
        "    lemma=text_normalization(s) # calling the function to perform text normalization\n",
        "    bow=cv.transform([lemma]).toarray() # applying bow\n",
        "    cosine_value = 1- pairwise_distances(df_bow,bow, metric = 'cosine' )\n",
        "    index_value=cosine_value.argmax() # getting index value \n",
        "    return df['Answers'].loc[index_value]"
      ],
      "execution_count": null,
      "outputs": []
    },
    {
      "cell_type": "code",
      "metadata": {
        "colab": {
          "base_uri": "https://localhost:8080/",
          "height": 53
        },
        "id": "kfGihw_jC8Fz",
        "outputId": "a303e894-e2b6-4326-e43a-f9c56c197b67"
      },
      "source": [
        "\n",
        "chat_bow('can you prevent mental health problems')"
      ],
      "execution_count": null,
      "outputs": [
        {
          "output_type": "execute_result",
          "data": {
            "application/vnd.google.colaboratory.intrinsic+json": {
              "type": "string"
            },
            "text/plain": [
              "'We can all suffer from mental health challenges, but developing our wellbeing, resilience, and seeking help early can help prevent challenges becoming serious.'"
            ]
          },
          "metadata": {
            "tags": []
          },
          "execution_count": 53
        }
      ]
    },
    {
      "cell_type": "code",
      "metadata": {
        "colab": {
          "base_uri": "https://localhost:8080/",
          "height": 35
        },
        "id": "5p5rATqPDl1o",
        "outputId": "dd3d965a-5b81-4974-e9a8-fe28bdce9a11"
      },
      "source": [
        "chat_bow('what is mental health')"
      ],
      "execution_count": null,
      "outputs": [
        {
          "output_type": "execute_result",
          "data": {
            "application/vnd.google.colaboratory.intrinsic+json": {
              "type": "string"
            },
            "text/plain": [
              "'We all have mental health which is made up of our beliefs, thoughts, feelings and behaviours.'"
            ]
          },
          "metadata": {
            "tags": []
          },
          "execution_count": 56
        }
      ]
    },
    {
      "cell_type": "code",
      "metadata": {
        "colab": {
          "base_uri": "https://localhost:8080/",
          "height": 53
        },
        "id": "j2pjkWnvD5d5",
        "outputId": "fa49e852-e92d-4a71-dba5-4686b4de325a"
      },
      "source": [
        "chat_bow('are there cures for mental health problems')"
      ],
      "execution_count": null,
      "outputs": [
        {
          "output_type": "execute_result",
          "data": {
            "application/vnd.google.colaboratory.intrinsic+json": {
              "type": "string"
            },
            "text/plain": [
              "'It is often more realistic and helpful to find out what helps with the issues you face. Talking, counselling, medication, friendships, exercise, good sleep and nutrition, and meaningful occupation can all help.'"
            ]
          },
          "metadata": {
            "tags": []
          },
          "execution_count": 57
        }
      ]
    },
    {
      "cell_type": "code",
      "metadata": {
        "colab": {
          "base_uri": "https://localhost:8080/",
          "height": 53
        },
        "id": "mdnxBzdgDrFw",
        "outputId": "3b1a76cc-61e2-4bc0-eb15-69d55a354c12"
      },
      "source": [
        "chat_bow('how do I know if i am unwell')"
      ],
      "execution_count": null,
      "outputs": [
        {
          "output_type": "execute_result",
          "data": {
            "application/vnd.google.colaboratory.intrinsic+json": {
              "type": "string"
            },
            "text/plain": [
              "'If your beliefs , thoughts , feelings or behaviours have a significant impact on your ability to function in what might be considered a normal or ordinary way, it would be important to seek help.'"
            ]
          },
          "metadata": {
            "tags": []
          },
          "execution_count": 55
        }
      ]
    },
    {
      "cell_type": "code",
      "metadata": {
        "colab": {
          "base_uri": "https://localhost:8080/",
          "height": 35
        },
        "id": "JHv1q2t_EETl",
        "outputId": "a497b949-9e42-43cc-8b8b-d1294c937b29"
      },
      "source": [
        "chat_bow('what do you mean by mental health')"
      ],
      "execution_count": null,
      "outputs": [
        {
          "output_type": "execute_result",
          "data": {
            "application/vnd.google.colaboratory.intrinsic+json": {
              "type": "string"
            },
            "text/plain": [
              "'We all have mental health which is made up of our beliefs, thoughts, feelings and behaviours.'"
            ]
          },
          "metadata": {
            "tags": []
          },
          "execution_count": 58
        }
      ]
    },
    {
      "cell_type": "code",
      "metadata": {
        "id": "kWCumn0vELvd"
      },
      "source": [
        "# defining a function that returns response to query using tf-idf\n",
        "\n",
        "def chat_tfidf(text):\n",
        "    lemma=text_normalization(text) # calling the function to perform text normalization\n",
        "    tf=tfidf.transform([lemma]).toarray() # applying tf-idf\n",
        "    cos=1-pairwise_distances(df_tfidf,tf,metric='cosine') # applying cosine similarity\n",
        "    index_value=cos.argmax() # getting index value \n",
        "    return df['Answers'].loc[index_value]"
      ],
      "execution_count": null,
      "outputs": []
    },
    {
      "cell_type": "code",
      "metadata": {
        "colab": {
          "base_uri": "https://localhost:8080/",
          "height": 35
        },
        "id": "PoSI9pOvERL8",
        "outputId": "a5260b58-4741-4c6b-c783-2fb25f679ee1"
      },
      "source": [
        "chat_tfidf('what is mental health')"
      ],
      "execution_count": null,
      "outputs": [
        {
          "output_type": "execute_result",
          "data": {
            "application/vnd.google.colaboratory.intrinsic+json": {
              "type": "string"
            },
            "text/plain": [
              "'We all have mental health which is made up of our beliefs, thoughts, feelings and behaviours.'"
            ]
          },
          "metadata": {
            "tags": []
          },
          "execution_count": 60
        }
      ]
    },
    {
      "cell_type": "code",
      "metadata": {
        "colab": {
          "base_uri": "https://localhost:8080/",
          "height": 139
        },
        "id": "_jx5uKDjEV7U",
        "outputId": "9ee52d1b-705a-40af-ebd7-28b587bd8a99"
      },
      "source": [
        "chat_tfidf('what is vaping')"
      ],
      "execution_count": null,
      "outputs": [
        {
          "output_type": "execute_result",
          "data": {
            "application/vnd.google.colaboratory.intrinsic+json": {
              "type": "string"
            },
            "text/plain": [
              "'\"Vaping\" is the term for using a device where liquids, often flavoured, are turned into vapour (hence, vaping) and inhaled. A vaping device consists of a mouthpiece, tank or reservoir to hold the liquid, a heating element and a battery to power the element. The liquid is heated to become a mist, inhaled through the mouth into the lungs where the nicotine or cannabis enters the bloodstream. Any residual vapour is exhaled. Vaping devices come in several types, shapes, and sizes, referred to as e-cigarettes, vape pens, vapes, mods, tanks, or e-hookahs. Vaping liquid (e-liquid, e-juice) consists of a solvent, usually propylene glycol or glycerol, flavour, and nicotine or cannabis, though it may not contain anything. In British Columbia you must be 19 years old to buy vaping products. \\n The number of young people who smoke cigarettes has declined over the past few years, while vaping has increased. E-cigarettes were developed as an alternative to smoking. The first devices were available in 2003 and looked much like a traditional cigarette. Nicotine vapour contains significantly fewer toxins and other particles than smoke from cigarettes. Vaping is a less harmful alternative to cigarettes and evidence suggests, it may help some people quit smoking. Evidence suggests vaping is likely not a gateway to smoking tobacco. \\n Though less harmful than smoking cigarettes, vaping still carries potential harms. There is a small exposure to nicotine and possible carcinogens in the vapour. (A carcinogen is a substance that has the potential to cause cancer). Some evidence suggests that young people may be unaware the vaping liquid often contains nicotine. E-cigarettes are not controlled and the nicotine content of vaping liquids varies significantly among brands. Other chemicals, flavourings, and heavy metals present in vaping liquids, have not as yet been well studied. Long-term health risks from vaping are thus undetermined. More research is needed in these areas. \\n Marketing strategies for vaping products, often on social media, are designed to appeal to young people. The range of flavours available, especially those that are fruity and sweet, and the look and feel of vaping devices attract youth. Young people can see vaping as fun and a way to socialize with friends and \\'smoke\\' in a less harmful way. \\n Making the time and space for discussion and exploring the issues around vaping is one important way we can support young people and indeed, each other, in making good decisions about if, when, or how much to vape. We offer, \"not too much, not too often, and in a safe context\" as one way to think about using any substance. What this means to you may be a place for talking to start! \\n The Canadian Institute for Substance Use Research, formerly CARBC, is a member of the BC Partners for Mental Health and Addictions Information. The institute is dedicated to the study of substance use in support of community-wide efforts aimed at providing all people with access to healthier lives, whether using substances or not. For more, visit www.cisur.ca.'"
            ]
          },
          "metadata": {
            "tags": []
          },
          "execution_count": 61
        }
      ]
    },
    {
      "cell_type": "code",
      "metadata": {
        "colab": {
          "base_uri": "https://localhost:8080/",
          "height": 139
        },
        "id": "TLcTyog2Ea2t",
        "outputId": "f4c86f81-6f97-4f38-bcae-8a8588df7d61"
      },
      "source": [
        "chat_tfidf('how do i see a counsellor')"
      ],
      "execution_count": null,
      "outputs": [
        {
          "output_type": "execute_result",
          "data": {
            "application/vnd.google.colaboratory.intrinsic+json": {
              "type": "string"
            },
            "text/plain": [
              "'You can find directories of counsellors through their professional organizations. \\n Registered Clinical Counsellors: visit the BC Association of Clinical Counsellors \\n Canadian Certified Counsellors: visit the Canadian Counselling and Psychotherapy Association \\n Canadian Professional Counsellors: visit the Canadian Professional Counsellors Association \\n For more specialized counselling professionals, such as Marriage and Family Therapists, see the Federation of Associations for Counselling Therapists in British Columbia. \\n You can make an appointment on your own. You don’t need a doctor’s referral to see a counsellor. \\n Counsellors are not usually covered by MSP, so you’ll have to pay for the cost of the appointment yourself. Workplace extended health benefits, Employee (Family) Assistance Programs, or private health insurance plans may help cover some costs. Some counsellors may offer a sliding scale based on your income. If you’re facing financial hardship, you can ask when you make the appointment. \\n Learn more about lower-cost options to access counselling or email us with your location and our information and referrals team can see what options there may be in your community. \\n If you see a counsellor through a public mental health centre like a mental health team or outpatient psychiatry program, it will still be covered by MSP. Talk to your care provider if you have questions or want to learn more. \\n Indigenous community members can access some counselling services locally or through the First Nations Health Authority. Contact your local Band or local Friendship Centre, or contact the First Nations Health Authority.'"
            ]
          },
          "metadata": {
            "tags": []
          },
          "execution_count": 62
        }
      ]
    },
    {
      "cell_type": "code",
      "metadata": {
        "id": "YBK2XUM-Ek29",
        "outputId": "118a59af-1e71-4ebc-b1fc-3b7911033474",
        "colab": {
          "base_uri": "https://localhost:8080/",
          "height": 139
        }
      },
      "source": [
        "chat_tfidf('how to find a support group')"
      ],
      "execution_count": null,
      "outputs": [
        {
          "output_type": "execute_result",
          "data": {
            "application/vnd.google.colaboratory.intrinsic+json": {
              "type": "string"
            },
            "text/plain": [
              "'Support groups are a way for people with a common experience to help each other and learn from each other. There are support groups for people with any experience of mental illness, support groups for people with a specific diagnosis, support groups for family members and friends, and more. \\n Support groups are offered by community organizations, mental health service providers, schools, campuses, and support agencies. Here are some general resources to help you find a mental health or substance use related support group in BC: \\n Talk to your mental health care provider. They might be able to make recommendations. \\n The Mood Disorders Association of BC offers a network of peer support groups around the province for people who experience mental illnesses like mood disorders or post-traumatic stress disorder. They also have groups for family and friends. Groups are drop-in. \\n Many Canadian Mental Health Association branches offer support services, including support groups. If your local branch doesn’t have their own program, they can recommend other services in your community. \\n The BC Schizophrenia Society maintains a directory of support groups and other regular events for family members of people with a mental illness. \\n For groups related to alcohol or drug use, call the Alcohol and Drug Information Referral Service at 1-800-663-1441 or 604-660-9382 in the Lower Mainland. \\n For groups in the Lower Mainland, search the Red Book Online. \\n If you are at school or on campus, talk to a school counsellor or your campus’ health and wellness office. \\n For online support, see some suggestions at www.heretohelp.bc.ca/discuss. This can be particularly useful if you don’t have a group in your community or have trouble getting to an in-person group. \\n In order to benefit the most from a support group, you need to feel safe enough to share your experiences and thoughts, and you need to feel comfortable supporting others. It can be helpful to contact the group facilitator or organizer ahead of time to see if a particular group might be a good fit for you. We have a checklist to help you evaluate support groups—including when it might be time to leave one. \\n Sometimes a group just doesn’t work for you, and that’s okay. If you feel comfortable, you can try talking to the facilitator to see if they can recommend another group that you can try.'"
            ]
          },
          "metadata": {
            "tags": []
          },
          "execution_count": 63
        }
      ]
    }
  ]
}