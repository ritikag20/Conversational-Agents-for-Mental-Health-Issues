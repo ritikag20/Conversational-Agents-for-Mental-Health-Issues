{
  "nbformat": 4,
  "nbformat_minor": 0,
  "metadata": {
    "colab": {
      "provenance": []
    },
    "kernelspec": {
      "name": "python3",
      "display_name": "Python 3"
    }
  },
  "cells": [
    {
      "cell_type": "code",
      "metadata": {
        "id": "iMTDH_qkfGeh"
      },
      "source": [
        "import pandas as pd \n",
        "import numpy as np \n",
        "import matplotlib.pyplot as plt\n",
        "from pathlib import Path\n",
        "import string\n",
        "import re\n",
        "import joblib\n",
        "import json\n",
        "from collections import Counter\n",
        "import nltk\n",
        "from nltk.corpus import stopwords\n",
        "from nltk.stem import WordNetLemmatizer\n",
        "\n",
        "\n",
        "from tensorflow import keras\n",
        "from tensorflow.keras import layers\n",
        "from tensorflow.keras.preprocessing.text import Tokenizer\n",
        "from tensorflow.keras.preprocessing.sequence import pad_sequences\n",
        "from tensorflow.keras.utils import plot_model\n",
        "from tensorflow.keras.models import Sequential\n",
        "from tensorflow.keras.layers import Embedding, Dense, Flatten, GRU,GlobalAveragePooling1D\n",
        "from tensorflow.keras.layers import Conv1D\n",
        "from tensorflow.keras.layers import MaxPooling1D\n",
        "from tensorflow.keras.callbacks import ModelCheckpoint, EarlyStopping, ReduceLROnPlateau"
      ],
      "execution_count": null,
      "outputs": []
    },
    {
      "cell_type": "code",
      "metadata": {
        "colab": {
          "resources": {
            "http://localhost:8080/nbextensions/google.colab/files.js": {
              "data": "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",
              "ok": true,
              "headers": [
                [
                  "content-type",
                  "application/javascript"
                ]
              ],
              "status": 200,
              "status_text": ""
            }
          },
          "base_uri": "https://localhost:8080/",
          "height": 73
        },
        "id": "vKqjO8rXfJkh",
        "outputId": "7eadf121-f78b-4105-dc5d-bc730ffd4f12"
      },
      "source": [
        "from google.colab import files\n",
        "uploaded = files.upload()"
      ],
      "execution_count": null,
      "outputs": [
        {
          "output_type": "display_data",
          "data": {
            "text/html": [
              "\n",
              "     <input type=\"file\" id=\"files-27634468-9469-4902-8d9e-f996c3c3d6f7\" name=\"files[]\" multiple disabled\n",
              "        style=\"border:none\" />\n",
              "     <output id=\"result-27634468-9469-4902-8d9e-f996c3c3d6f7\">\n",
              "      Upload widget is only available when the cell has been executed in the\n",
              "      current browser session. Please rerun this cell to enable.\n",
              "      </output>\n",
              "      <script src=\"/nbextensions/google.colab/files.js\"></script> "
            ],
            "text/plain": [
              "<IPython.core.display.HTML object>"
            ]
          },
          "metadata": {
            "tags": []
          }
        },
        {
          "output_type": "stream",
          "text": [
            "Saving temp.json to temp.json\n"
          ],
          "name": "stdout"
        }
      ]
    },
    {
      "cell_type": "code",
      "metadata": {
        "id": "BIiG0wj2qOJT"
      },
      "source": [
        "def load_doc(jsonFile):\n",
        "    with open(jsonFile) as file:\n",
        "        Json_data = json.loads(file.read())\n",
        "    return Json_data"
      ],
      "execution_count": null,
      "outputs": []
    },
    {
      "cell_type": "code",
      "metadata": {
        "id": "NLOHeq65qQoD"
      },
      "source": [
        "data = load_doc('temp.json')"
      ],
      "execution_count": null,
      "outputs": []
    },
    {
      "cell_type": "code",
      "metadata": {
        "id": "_H5XMDnWqViX"
      },
      "source": [
        "def frame_data(feat_1,feat_2,is_pattern):\n",
        "    is_pattern = is_pattern\n",
        "    df = pd.DataFrame(columns=[feat_1,feat_2])\n",
        "    for intent in data['intents']:\n",
        "        if is_pattern:\n",
        "            for pattern in intent['patterns']:\n",
        "                w = pattern\n",
        "                df_to_append = pd.Series([w,intent['tag']], index = df.columns)\n",
        "                df = df.append(df_to_append,ignore_index=True)\n",
        "        else:\n",
        "            for response in intent['responses']:\n",
        "                w = response\n",
        "                df_to_append = pd.Series([w,intent['tag']], index = df.columns)\n",
        "                df = df.append(df_to_append,ignore_index=True)\n",
        "    return df"
      ],
      "execution_count": null,
      "outputs": []
    },
    {
      "cell_type": "code",
      "metadata": {
        "colab": {
          "base_uri": "https://localhost:8080/",
          "height": 723
        },
        "id": "0-2f5Kujqa1k",
        "outputId": "c6e0c320-6bda-4dd1-fa6c-50ebc09a7af2"
      },
      "source": [
        "# users intents \n",
        "df1 = frame_data('questions','labels',True)\n",
        "df1"
      ],
      "execution_count": null,
      "outputs": [
        {
          "output_type": "execute_result",
          "data": {
            "text/html": [
              "<div>\n",
              "<style scoped>\n",
              "    .dataframe tbody tr th:only-of-type {\n",
              "        vertical-align: middle;\n",
              "    }\n",
              "\n",
              "    .dataframe tbody tr th {\n",
              "        vertical-align: top;\n",
              "    }\n",
              "\n",
              "    .dataframe thead th {\n",
              "        text-align: right;\n",
              "    }\n",
              "</style>\n",
              "<table border=\"1\" class=\"dataframe\">\n",
              "  <thead>\n",
              "    <tr style=\"text-align: right;\">\n",
              "      <th></th>\n",
              "      <th>questions</th>\n",
              "      <th>labels</th>\n",
              "    </tr>\n",
              "  </thead>\n",
              "  <tbody>\n",
              "    <tr>\n",
              "      <th>0</th>\n",
              "      <td>What does it mean to have a mental illness?</td>\n",
              "      <td>definition</td>\n",
              "    </tr>\n",
              "    <tr>\n",
              "      <th>1</th>\n",
              "      <td>What is mental health illness</td>\n",
              "      <td>definition</td>\n",
              "    </tr>\n",
              "    <tr>\n",
              "      <th>2</th>\n",
              "      <td>Describe mental health illness</td>\n",
              "      <td>definition</td>\n",
              "    </tr>\n",
              "    <tr>\n",
              "      <th>3</th>\n",
              "      <td>Who does mental illness affect?</td>\n",
              "      <td>affects_whom</td>\n",
              "    </tr>\n",
              "    <tr>\n",
              "      <th>4</th>\n",
              "      <td>Who is affected by mentall illness</td>\n",
              "      <td>affects_whom</td>\n",
              "    </tr>\n",
              "    <tr>\n",
              "      <th>5</th>\n",
              "      <td>What causes mental illness?</td>\n",
              "      <td>what_causes</td>\n",
              "    </tr>\n",
              "    <tr>\n",
              "      <th>6</th>\n",
              "      <td>What leads to mental illness?</td>\n",
              "      <td>what_causes</td>\n",
              "    </tr>\n",
              "    <tr>\n",
              "      <th>7</th>\n",
              "      <td>how does one get mentally ill?</td>\n",
              "      <td>what_causes</td>\n",
              "    </tr>\n",
              "    <tr>\n",
              "      <th>8</th>\n",
              "      <td>Can people with mental illness recover?</td>\n",
              "      <td>recover</td>\n",
              "    </tr>\n",
              "    <tr>\n",
              "      <th>9</th>\n",
              "      <td>Is it possible to recover from mental illness</td>\n",
              "      <td>recover</td>\n",
              "    </tr>\n",
              "    <tr>\n",
              "      <th>10</th>\n",
              "      <td>I know someone who appears to have such symptoms?</td>\n",
              "      <td>steps</td>\n",
              "    </tr>\n",
              "    <tr>\n",
              "      <th>11</th>\n",
              "      <td>What are the steps to be followed incase of sy...</td>\n",
              "      <td>steps</td>\n",
              "    </tr>\n",
              "    <tr>\n",
              "      <th>12</th>\n",
              "      <td>How to find mental health professional for myself</td>\n",
              "      <td>find_help</td>\n",
              "    </tr>\n",
              "    <tr>\n",
              "      <th>13</th>\n",
              "      <td>How to find mental health professional?</td>\n",
              "      <td>find_help</td>\n",
              "    </tr>\n",
              "    <tr>\n",
              "      <th>14</th>\n",
              "      <td>What treatment options are available?</td>\n",
              "      <td>treatement_options</td>\n",
              "    </tr>\n",
              "    <tr>\n",
              "      <th>15</th>\n",
              "      <td>How can one recover?</td>\n",
              "      <td>treatement_options</td>\n",
              "    </tr>\n",
              "    <tr>\n",
              "      <th>16</th>\n",
              "      <td>How to become involved in treatment?</td>\n",
              "      <td>treatment_tips</td>\n",
              "    </tr>\n",
              "    <tr>\n",
              "      <th>17</th>\n",
              "      <td>What should I keep in mind if I begin treatment?</td>\n",
              "      <td>treatment_tips</td>\n",
              "    </tr>\n",
              "    <tr>\n",
              "      <th>18</th>\n",
              "      <td>What is the difference between mental health p...</td>\n",
              "      <td>professional_types</td>\n",
              "    </tr>\n",
              "    <tr>\n",
              "      <th>19</th>\n",
              "      <td>What are the different types of mental health ...</td>\n",
              "      <td>professional_types</td>\n",
              "    </tr>\n",
              "    <tr>\n",
              "      <th>20</th>\n",
              "      <td>How can I find a mental health professional ri...</td>\n",
              "      <td>right_professional</td>\n",
              "    </tr>\n",
              "    <tr>\n",
              "      <th>21</th>\n",
              "      <td>How to find the right mental health professional?</td>\n",
              "      <td>right_professional</td>\n",
              "    </tr>\n",
              "  </tbody>\n",
              "</table>\n",
              "</div>"
            ],
            "text/plain": [
              "                                            questions              labels\n",
              "0         What does it mean to have a mental illness?          definition\n",
              "1                       What is mental health illness          definition\n",
              "2                      Describe mental health illness          definition\n",
              "3                     Who does mental illness affect?        affects_whom\n",
              "4                  Who is affected by mentall illness        affects_whom\n",
              "5                         What causes mental illness?         what_causes\n",
              "6                       What leads to mental illness?         what_causes\n",
              "7                      how does one get mentally ill?         what_causes\n",
              "8             Can people with mental illness recover?             recover\n",
              "9       Is it possible to recover from mental illness             recover\n",
              "10  I know someone who appears to have such symptoms?               steps\n",
              "11  What are the steps to be followed incase of sy...               steps\n",
              "12  How to find mental health professional for myself           find_help\n",
              "13            How to find mental health professional?           find_help\n",
              "14              What treatment options are available?  treatement_options\n",
              "15                               How can one recover?  treatement_options\n",
              "16               How to become involved in treatment?      treatment_tips\n",
              "17   What should I keep in mind if I begin treatment?      treatment_tips\n",
              "18  What is the difference between mental health p...  professional_types\n",
              "19  What are the different types of mental health ...  professional_types\n",
              "20  How can I find a mental health professional ri...  right_professional\n",
              "21  How to find the right mental health professional?  right_professional"
            ]
          },
          "metadata": {
            "tags": []
          },
          "execution_count": 6
        }
      ]
    },
    {
      "cell_type": "code",
      "metadata": {
        "colab": {
          "base_uri": "https://localhost:8080/"
        },
        "id": "_bFlykJFqlEc",
        "outputId": "8fedf24b-37b4-43ab-e54c-31898143a2cb"
      },
      "source": [
        "df1.labels.value_counts(sort=False)"
      ],
      "execution_count": null,
      "outputs": [
        {
          "output_type": "execute_result",
          "data": {
            "text/plain": [
              "professional_types    2\n",
              "recover               2\n",
              "affects_whom          2\n",
              "steps                 2\n",
              "find_help             2\n",
              "treatment_tips        2\n",
              "definition            3\n",
              "what_causes           3\n",
              "treatement_options    2\n",
              "right_professional    2\n",
              "Name: labels, dtype: int64"
            ]
          },
          "metadata": {
            "tags": []
          },
          "execution_count": 7
        }
      ]
    },
    {
      "cell_type": "code",
      "metadata": {
        "colab": {
          "base_uri": "https://localhost:8080/",
          "height": 202
        },
        "id": "v0AtWFxeqouH",
        "outputId": "2fc3628d-87b2-41f5-fc81-313b3092b8b2"
      },
      "source": [
        "# Bot response\n",
        "df2 = frame_data('response','labels',False)\n",
        "df2.head()"
      ],
      "execution_count": null,
      "outputs": [
        {
          "output_type": "execute_result",
          "data": {
            "text/html": [
              "<div>\n",
              "<style scoped>\n",
              "    .dataframe tbody tr th:only-of-type {\n",
              "        vertical-align: middle;\n",
              "    }\n",
              "\n",
              "    .dataframe tbody tr th {\n",
              "        vertical-align: top;\n",
              "    }\n",
              "\n",
              "    .dataframe thead th {\n",
              "        text-align: right;\n",
              "    }\n",
              "</style>\n",
              "<table border=\"1\" class=\"dataframe\">\n",
              "  <thead>\n",
              "    <tr style=\"text-align: right;\">\n",
              "      <th></th>\n",
              "      <th>response</th>\n",
              "      <th>labels</th>\n",
              "    </tr>\n",
              "  </thead>\n",
              "  <tbody>\n",
              "    <tr>\n",
              "      <th>0</th>\n",
              "      <td>Mental illnesses are health conditions that di...</td>\n",
              "      <td>definition</td>\n",
              "    </tr>\n",
              "    <tr>\n",
              "      <th>1</th>\n",
              "      <td>It is estimated that mental illness affects 1 ...</td>\n",
              "      <td>affects_whom</td>\n",
              "    </tr>\n",
              "    <tr>\n",
              "      <th>2</th>\n",
              "      <td>Symptoms of mental health disorders vary depen...</td>\n",
              "      <td>what_causes</td>\n",
              "    </tr>\n",
              "    <tr>\n",
              "      <th>3</th>\n",
              "      <td>When healing from mental illness, early identi...</td>\n",
              "      <td>recover</td>\n",
              "    </tr>\n",
              "    <tr>\n",
              "      <th>4</th>\n",
              "      <td>Although this website cannot substitute for pr...</td>\n",
              "      <td>steps</td>\n",
              "    </tr>\n",
              "  </tbody>\n",
              "</table>\n",
              "</div>"
            ],
            "text/plain": [
              "                                            response        labels\n",
              "0  Mental illnesses are health conditions that di...    definition\n",
              "1  It is estimated that mental illness affects 1 ...  affects_whom\n",
              "2  Symptoms of mental health disorders vary depen...   what_causes\n",
              "3  When healing from mental illness, early identi...       recover\n",
              "4  Although this website cannot substitute for pr...         steps"
            ]
          },
          "metadata": {
            "tags": []
          },
          "execution_count": 8
        }
      ]
    },
    {
      "cell_type": "code",
      "metadata": {
        "id": "KTVWEOgrmDYE"
      },
      "source": [
        "lemmatizer = WordNetLemmatizer()\n",
        "\n",
        "vocab = Counter()\n",
        "labels = []\n",
        "def tokenizer(entry):\n",
        "    tokens = entry.split()\n",
        "    re_punc = re.compile('[%s]' % re.escape(string.punctuation))\n",
        "    tokens = [re_punc.sub('', w) for w in tokens]\n",
        "    tokens = [word for word in tokens if word.isalpha()]\n",
        "    tokens = [lemmatizer.lemmatize(w.lower()) for w in tokens]\n",
        "#     stop_words = set(stopwords.words('english'))\n",
        "#     tokens = [w for w in tokens if not w in stop_words]\n",
        "    tokens = [word.lower() for word in tokens if len(word) > 1]\n",
        "    return tokens"
      ],
      "execution_count": null,
      "outputs": []
    },
    {
      "cell_type": "code",
      "metadata": {
        "id": "9_a8WS7emHVi"
      },
      "source": [
        "def remove_stop_words(tokenizer,df,feature):\n",
        "    doc_without_stopwords = []\n",
        "    for entry in df[feature]:\n",
        "        tokens = tokenizer(entry)\n",
        "        joblib.dump(tokens,'tokens.pkl')\n",
        "        doc_without_stopwords.append(' '.join(tokens))\n",
        "    df[feature] = doc_without_stopwords\n",
        "    return"
      ],
      "execution_count": null,
      "outputs": []
    },
    {
      "cell_type": "code",
      "metadata": {
        "id": "-DppeKOumJ-H"
      },
      "source": [
        "def create_vocab(tokenizer,df,feature):\n",
        "    for entry in df[feature]:\n",
        "        tokens = tokenizer(entry)   \n",
        "        vocab.update(tokens)\n",
        "    joblib.dump(vocab,'vocab.pkl')\n",
        "    return"
      ],
      "execution_count": null,
      "outputs": []
    },
    {
      "cell_type": "code",
      "metadata": {
        "colab": {
          "base_uri": "https://localhost:8080/"
        },
        "id": "7FdOcTJzrBfa",
        "outputId": "2344e181-73fc-483e-b7a3-2fde148aa5ec"
      },
      "source": [
        "nltk.download('wordnet')"
      ],
      "execution_count": null,
      "outputs": [
        {
          "output_type": "stream",
          "text": [
            "[nltk_data] Downloading package wordnet to /root/nltk_data...\n",
            "[nltk_data]   Unzipping corpora/wordnet.zip.\n"
          ],
          "name": "stdout"
        },
        {
          "output_type": "execute_result",
          "data": {
            "text/plain": [
              "True"
            ]
          },
          "metadata": {
            "tags": []
          },
          "execution_count": 12
        }
      ]
    },
    {
      "cell_type": "code",
      "metadata": {
        "id": "0KT25mxlq27n"
      },
      "source": [
        "create_vocab(tokenizer,df1,'questions')\n",
        "remove_stop_words(tokenizer,df1,'questions')"
      ],
      "execution_count": null,
      "outputs": []
    },
    {
      "cell_type": "code",
      "metadata": {
        "colab": {
          "base_uri": "https://localhost:8080/"
        },
        "id": "uUh6X5KSrKh9",
        "outputId": "e0380593-2253-4a03-c09c-d04d9dddcf4e"
      },
      "source": [
        "print(vocab.most_common(20))"
      ],
      "execution_count": null,
      "outputs": [
        {
          "output_type": "stream",
          "text": [
            "[('mental', 14), ('what', 9), ('to', 9), ('illness', 9), ('health', 8), ('how', 7), ('professional', 6), ('is', 4), ('the', 4), ('find', 4), ('doe', 3), ('who', 3), ('can', 3), ('recover', 3), ('are', 3), ('treatment', 3), ('it', 2), ('have', 2), ('one', 2), ('symptom', 2)]\n"
          ],
          "name": "stdout"
        }
      ]
    },
    {
      "cell_type": "code",
      "metadata": {
        "id": "F6ebCdaqmjJM",
        "colab": {
          "base_uri": "https://localhost:8080/"
        },
        "outputId": "4a5a5233-b30a-4a1e-924a-c24a70282cf5"
      },
      "source": [
        "vocab_size = len(vocab)\n",
        "vocab_size"
      ],
      "execution_count": null,
      "outputs": [
        {
          "output_type": "execute_result",
          "data": {
            "text/plain": [
              "62"
            ]
          },
          "metadata": {
            "tags": []
          },
          "execution_count": 15
        }
      ]
    },
    {
      "cell_type": "code",
      "metadata": {
        "id": "y0Ia9ZQTmqig",
        "colab": {
          "base_uri": "https://localhost:8080/"
        },
        "outputId": "c3ae2292-2ff6-4e45-a35d-17b496ab1148"
      },
      "source": [
        "test_list = list(df1.groupby(by='labels',as_index=False).first()['questions'])\n",
        "test_list"
      ],
      "execution_count": null,
      "outputs": [
        {
          "output_type": "execute_result",
          "data": {
            "text/plain": [
              "['who doe mental illness affect',\n",
              " 'what doe it mean to have mental illness',\n",
              " 'how to find mental health professional for myself',\n",
              " 'what is the difference between mental health professional',\n",
              " 'can people with mental illness recover',\n",
              " 'how can find mental health professional right myself',\n",
              " 'know someone who appears to have such symptom',\n",
              " 'what treatment option are available',\n",
              " 'how to become involved in treatment',\n",
              " 'what cause mental illness']"
            ]
          },
          "metadata": {
            "tags": []
          },
          "execution_count": 15
        }
      ]
    },
    {
      "cell_type": "code",
      "metadata": {
        "id": "3muqcL77m0hu",
        "colab": {
          "base_uri": "https://localhost:8080/"
        },
        "outputId": "8243d66d-8de7-4c36-fd76-cb8714e4e35d"
      },
      "source": [
        "test_index = []\n",
        "for i,_ in enumerate(test_list):\n",
        "    idx = df1[df1.questions == test_list[i]].index[0]\n",
        "    test_index.append(idx)\n",
        "test_index"
      ],
      "execution_count": null,
      "outputs": [
        {
          "output_type": "execute_result",
          "data": {
            "text/plain": [
              "[3, 0, 12, 18, 8, 20, 10, 14, 16, 5]"
            ]
          },
          "metadata": {
            "tags": []
          },
          "execution_count": 16
        }
      ]
    },
    {
      "cell_type": "code",
      "metadata": {
        "id": "yIsoJ_rqm7Df"
      },
      "source": [
        "train_index = [i for i in df1.index if i not in test_index]"
      ],
      "execution_count": null,
      "outputs": []
    },
    {
      "cell_type": "code",
      "metadata": {
        "id": "h2Z86frEnFT3",
        "colab": {
          "base_uri": "https://localhost:8080/",
          "height": 70
        },
        "outputId": "ab0fffa9-d5af-4e52-cf7d-52407b5aecc5"
      },
      "source": [
        "' '.join(list(vocab.keys()))"
      ],
      "execution_count": null,
      "outputs": [
        {
          "output_type": "execute_result",
          "data": {
            "application/vnd.google.colaboratory.intrinsic+json": {
              "type": "string"
            },
            "text/plain": [
              "'what doe it mean to have mental illness is health describe who affect affected by mentall cause lead how one get mentally ill can people with recover possible from know someone appears such symptom are the step be followed incase of find professional for myself treatment option available become involved in should keep mind if begin difference between different type present right'"
            ]
          },
          "metadata": {
            "tags": []
          },
          "execution_count": 18
        }
      ]
    },
    {
      "cell_type": "code",
      "metadata": {
        "id": "M5o9Y5FZnLEa"
      },
      "source": [
        "def encoder(df,feature):\n",
        "#     text = ' '.join(list(vocab.keys()))\n",
        "    t = Tokenizer()\n",
        "    entries = [entry for entry in df[feature]]\n",
        "    t.fit_on_texts(entries)\n",
        "    joblib.dump(t,'tokenizer_t.pkl')\n",
        "    vocab_size = len(t.word_index) + 1\n",
        "    entries = [entry for entry in df[feature]]\n",
        "    max_length = max([len(s.split()) for s in entries])\n",
        "    encoded = t.texts_to_sequences(entries)\n",
        "    padded = pad_sequences(encoded, maxlen=max_length, padding='post')\n",
        "    return padded, vocab_size"
      ],
      "execution_count": null,
      "outputs": []
    },
    {
      "cell_type": "code",
      "metadata": {
        "id": "G5_1pOD4nTYn"
      },
      "source": [
        "X,vocab_size = encoder(df1,'questions')"
      ],
      "execution_count": null,
      "outputs": []
    },
    {
      "cell_type": "code",
      "metadata": {
        "colab": {
          "base_uri": "https://localhost:8080/"
        },
        "id": "0HR3DrDwDZ0s",
        "outputId": "3c0a8e87-66c3-41d2-f4ac-b93a5af298f6"
      },
      "source": [
        "vocab_size"
      ],
      "execution_count": null,
      "outputs": [
        {
          "output_type": "execute_result",
          "data": {
            "text/plain": [
              "63"
            ]
          },
          "metadata": {
            "tags": []
          },
          "execution_count": 21
        }
      ]
    },
    {
      "cell_type": "code",
      "metadata": {
        "id": "5sdH2JK_nVy0"
      },
      "source": [
        "df_encoded = pd.DataFrame(X)"
      ],
      "execution_count": null,
      "outputs": []
    },
    {
      "cell_type": "code",
      "metadata": {
        "id": "5ugVRvTanYln",
        "colab": {
          "base_uri": "https://localhost:8080/",
          "height": 723
        },
        "outputId": "c7c39471-c8f0-4472-8204-ff7922a7f0af"
      },
      "source": [
        "df_encoded['labels'] = df1.labels\n",
        "df_encoded\n"
      ],
      "execution_count": null,
      "outputs": [
        {
          "output_type": "execute_result",
          "data": {
            "text/html": [
              "<div>\n",
              "<style scoped>\n",
              "    .dataframe tbody tr th:only-of-type {\n",
              "        vertical-align: middle;\n",
              "    }\n",
              "\n",
              "    .dataframe tbody tr th {\n",
              "        vertical-align: top;\n",
              "    }\n",
              "\n",
              "    .dataframe thead th {\n",
              "        text-align: right;\n",
              "    }\n",
              "</style>\n",
              "<table border=\"1\" class=\"dataframe\">\n",
              "  <thead>\n",
              "    <tr style=\"text-align: right;\">\n",
              "      <th></th>\n",
              "      <th>0</th>\n",
              "      <th>1</th>\n",
              "      <th>2</th>\n",
              "      <th>3</th>\n",
              "      <th>4</th>\n",
              "      <th>5</th>\n",
              "      <th>6</th>\n",
              "      <th>7</th>\n",
              "      <th>8</th>\n",
              "      <th>9</th>\n",
              "      <th>labels</th>\n",
              "    </tr>\n",
              "  </thead>\n",
              "  <tbody>\n",
              "    <tr>\n",
              "      <th>0</th>\n",
              "      <td>2</td>\n",
              "      <td>11</td>\n",
              "      <td>17</td>\n",
              "      <td>25</td>\n",
              "      <td>3</td>\n",
              "      <td>18</td>\n",
              "      <td>1</td>\n",
              "      <td>4</td>\n",
              "      <td>0</td>\n",
              "      <td>0</td>\n",
              "      <td>definition</td>\n",
              "    </tr>\n",
              "    <tr>\n",
              "      <th>1</th>\n",
              "      <td>2</td>\n",
              "      <td>8</td>\n",
              "      <td>1</td>\n",
              "      <td>5</td>\n",
              "      <td>4</td>\n",
              "      <td>0</td>\n",
              "      <td>0</td>\n",
              "      <td>0</td>\n",
              "      <td>0</td>\n",
              "      <td>0</td>\n",
              "      <td>definition</td>\n",
              "    </tr>\n",
              "    <tr>\n",
              "      <th>2</th>\n",
              "      <td>26</td>\n",
              "      <td>1</td>\n",
              "      <td>5</td>\n",
              "      <td>4</td>\n",
              "      <td>0</td>\n",
              "      <td>0</td>\n",
              "      <td>0</td>\n",
              "      <td>0</td>\n",
              "      <td>0</td>\n",
              "      <td>0</td>\n",
              "      <td>definition</td>\n",
              "    </tr>\n",
              "    <tr>\n",
              "      <th>3</th>\n",
              "      <td>12</td>\n",
              "      <td>11</td>\n",
              "      <td>1</td>\n",
              "      <td>4</td>\n",
              "      <td>27</td>\n",
              "      <td>0</td>\n",
              "      <td>0</td>\n",
              "      <td>0</td>\n",
              "      <td>0</td>\n",
              "      <td>0</td>\n",
              "      <td>affects_whom</td>\n",
              "    </tr>\n",
              "    <tr>\n",
              "      <th>4</th>\n",
              "      <td>12</td>\n",
              "      <td>8</td>\n",
              "      <td>28</td>\n",
              "      <td>29</td>\n",
              "      <td>30</td>\n",
              "      <td>4</td>\n",
              "      <td>0</td>\n",
              "      <td>0</td>\n",
              "      <td>0</td>\n",
              "      <td>0</td>\n",
              "      <td>affects_whom</td>\n",
              "    </tr>\n",
              "    <tr>\n",
              "      <th>5</th>\n",
              "      <td>2</td>\n",
              "      <td>31</td>\n",
              "      <td>1</td>\n",
              "      <td>4</td>\n",
              "      <td>0</td>\n",
              "      <td>0</td>\n",
              "      <td>0</td>\n",
              "      <td>0</td>\n",
              "      <td>0</td>\n",
              "      <td>0</td>\n",
              "      <td>what_causes</td>\n",
              "    </tr>\n",
              "    <tr>\n",
              "      <th>6</th>\n",
              "      <td>2</td>\n",
              "      <td>32</td>\n",
              "      <td>3</td>\n",
              "      <td>1</td>\n",
              "      <td>4</td>\n",
              "      <td>0</td>\n",
              "      <td>0</td>\n",
              "      <td>0</td>\n",
              "      <td>0</td>\n",
              "      <td>0</td>\n",
              "      <td>what_causes</td>\n",
              "    </tr>\n",
              "    <tr>\n",
              "      <th>7</th>\n",
              "      <td>6</td>\n",
              "      <td>11</td>\n",
              "      <td>19</td>\n",
              "      <td>33</td>\n",
              "      <td>34</td>\n",
              "      <td>35</td>\n",
              "      <td>0</td>\n",
              "      <td>0</td>\n",
              "      <td>0</td>\n",
              "      <td>0</td>\n",
              "      <td>what_causes</td>\n",
              "    </tr>\n",
              "    <tr>\n",
              "      <th>8</th>\n",
              "      <td>13</td>\n",
              "      <td>36</td>\n",
              "      <td>37</td>\n",
              "      <td>1</td>\n",
              "      <td>4</td>\n",
              "      <td>14</td>\n",
              "      <td>0</td>\n",
              "      <td>0</td>\n",
              "      <td>0</td>\n",
              "      <td>0</td>\n",
              "      <td>recover</td>\n",
              "    </tr>\n",
              "    <tr>\n",
              "      <th>9</th>\n",
              "      <td>8</td>\n",
              "      <td>17</td>\n",
              "      <td>38</td>\n",
              "      <td>3</td>\n",
              "      <td>14</td>\n",
              "      <td>39</td>\n",
              "      <td>1</td>\n",
              "      <td>4</td>\n",
              "      <td>0</td>\n",
              "      <td>0</td>\n",
              "      <td>recover</td>\n",
              "    </tr>\n",
              "    <tr>\n",
              "      <th>10</th>\n",
              "      <td>40</td>\n",
              "      <td>41</td>\n",
              "      <td>12</td>\n",
              "      <td>42</td>\n",
              "      <td>3</td>\n",
              "      <td>18</td>\n",
              "      <td>43</td>\n",
              "      <td>20</td>\n",
              "      <td>0</td>\n",
              "      <td>0</td>\n",
              "      <td>steps</td>\n",
              "    </tr>\n",
              "    <tr>\n",
              "      <th>11</th>\n",
              "      <td>2</td>\n",
              "      <td>15</td>\n",
              "      <td>9</td>\n",
              "      <td>44</td>\n",
              "      <td>3</td>\n",
              "      <td>45</td>\n",
              "      <td>46</td>\n",
              "      <td>47</td>\n",
              "      <td>21</td>\n",
              "      <td>20</td>\n",
              "      <td>steps</td>\n",
              "    </tr>\n",
              "    <tr>\n",
              "      <th>12</th>\n",
              "      <td>6</td>\n",
              "      <td>3</td>\n",
              "      <td>10</td>\n",
              "      <td>1</td>\n",
              "      <td>5</td>\n",
              "      <td>7</td>\n",
              "      <td>48</td>\n",
              "      <td>22</td>\n",
              "      <td>0</td>\n",
              "      <td>0</td>\n",
              "      <td>find_help</td>\n",
              "    </tr>\n",
              "    <tr>\n",
              "      <th>13</th>\n",
              "      <td>6</td>\n",
              "      <td>3</td>\n",
              "      <td>10</td>\n",
              "      <td>1</td>\n",
              "      <td>5</td>\n",
              "      <td>7</td>\n",
              "      <td>0</td>\n",
              "      <td>0</td>\n",
              "      <td>0</td>\n",
              "      <td>0</td>\n",
              "      <td>find_help</td>\n",
              "    </tr>\n",
              "    <tr>\n",
              "      <th>14</th>\n",
              "      <td>2</td>\n",
              "      <td>16</td>\n",
              "      <td>49</td>\n",
              "      <td>15</td>\n",
              "      <td>50</td>\n",
              "      <td>0</td>\n",
              "      <td>0</td>\n",
              "      <td>0</td>\n",
              "      <td>0</td>\n",
              "      <td>0</td>\n",
              "      <td>treatement_options</td>\n",
              "    </tr>\n",
              "    <tr>\n",
              "      <th>15</th>\n",
              "      <td>6</td>\n",
              "      <td>13</td>\n",
              "      <td>19</td>\n",
              "      <td>14</td>\n",
              "      <td>0</td>\n",
              "      <td>0</td>\n",
              "      <td>0</td>\n",
              "      <td>0</td>\n",
              "      <td>0</td>\n",
              "      <td>0</td>\n",
              "      <td>treatement_options</td>\n",
              "    </tr>\n",
              "    <tr>\n",
              "      <th>16</th>\n",
              "      <td>6</td>\n",
              "      <td>3</td>\n",
              "      <td>51</td>\n",
              "      <td>52</td>\n",
              "      <td>23</td>\n",
              "      <td>16</td>\n",
              "      <td>0</td>\n",
              "      <td>0</td>\n",
              "      <td>0</td>\n",
              "      <td>0</td>\n",
              "      <td>treatment_tips</td>\n",
              "    </tr>\n",
              "    <tr>\n",
              "      <th>17</th>\n",
              "      <td>2</td>\n",
              "      <td>53</td>\n",
              "      <td>54</td>\n",
              "      <td>23</td>\n",
              "      <td>55</td>\n",
              "      <td>56</td>\n",
              "      <td>57</td>\n",
              "      <td>16</td>\n",
              "      <td>0</td>\n",
              "      <td>0</td>\n",
              "      <td>treatment_tips</td>\n",
              "    </tr>\n",
              "    <tr>\n",
              "      <th>18</th>\n",
              "      <td>2</td>\n",
              "      <td>8</td>\n",
              "      <td>9</td>\n",
              "      <td>58</td>\n",
              "      <td>59</td>\n",
              "      <td>1</td>\n",
              "      <td>5</td>\n",
              "      <td>7</td>\n",
              "      <td>0</td>\n",
              "      <td>0</td>\n",
              "      <td>professional_types</td>\n",
              "    </tr>\n",
              "    <tr>\n",
              "      <th>19</th>\n",
              "      <td>2</td>\n",
              "      <td>15</td>\n",
              "      <td>9</td>\n",
              "      <td>60</td>\n",
              "      <td>61</td>\n",
              "      <td>21</td>\n",
              "      <td>1</td>\n",
              "      <td>5</td>\n",
              "      <td>7</td>\n",
              "      <td>62</td>\n",
              "      <td>professional_types</td>\n",
              "    </tr>\n",
              "    <tr>\n",
              "      <th>20</th>\n",
              "      <td>6</td>\n",
              "      <td>13</td>\n",
              "      <td>10</td>\n",
              "      <td>1</td>\n",
              "      <td>5</td>\n",
              "      <td>7</td>\n",
              "      <td>24</td>\n",
              "      <td>22</td>\n",
              "      <td>0</td>\n",
              "      <td>0</td>\n",
              "      <td>right_professional</td>\n",
              "    </tr>\n",
              "    <tr>\n",
              "      <th>21</th>\n",
              "      <td>6</td>\n",
              "      <td>3</td>\n",
              "      <td>10</td>\n",
              "      <td>9</td>\n",
              "      <td>24</td>\n",
              "      <td>1</td>\n",
              "      <td>5</td>\n",
              "      <td>7</td>\n",
              "      <td>0</td>\n",
              "      <td>0</td>\n",
              "      <td>right_professional</td>\n",
              "    </tr>\n",
              "  </tbody>\n",
              "</table>\n",
              "</div>"
            ],
            "text/plain": [
              "     0   1   2   3   4   5   6   7   8   9              labels\n",
              "0    2  11  17  25   3  18   1   4   0   0          definition\n",
              "1    2   8   1   5   4   0   0   0   0   0          definition\n",
              "2   26   1   5   4   0   0   0   0   0   0          definition\n",
              "3   12  11   1   4  27   0   0   0   0   0        affects_whom\n",
              "4   12   8  28  29  30   4   0   0   0   0        affects_whom\n",
              "5    2  31   1   4   0   0   0   0   0   0         what_causes\n",
              "6    2  32   3   1   4   0   0   0   0   0         what_causes\n",
              "7    6  11  19  33  34  35   0   0   0   0         what_causes\n",
              "8   13  36  37   1   4  14   0   0   0   0             recover\n",
              "9    8  17  38   3  14  39   1   4   0   0             recover\n",
              "10  40  41  12  42   3  18  43  20   0   0               steps\n",
              "11   2  15   9  44   3  45  46  47  21  20               steps\n",
              "12   6   3  10   1   5   7  48  22   0   0           find_help\n",
              "13   6   3  10   1   5   7   0   0   0   0           find_help\n",
              "14   2  16  49  15  50   0   0   0   0   0  treatement_options\n",
              "15   6  13  19  14   0   0   0   0   0   0  treatement_options\n",
              "16   6   3  51  52  23  16   0   0   0   0      treatment_tips\n",
              "17   2  53  54  23  55  56  57  16   0   0      treatment_tips\n",
              "18   2   8   9  58  59   1   5   7   0   0  professional_types\n",
              "19   2  15   9  60  61  21   1   5   7  62  professional_types\n",
              "20   6  13  10   1   5   7  24  22   0   0  right_professional\n",
              "21   6   3  10   9  24   1   5   7   0   0  right_professional"
            ]
          },
          "metadata": {
            "tags": []
          },
          "execution_count": 23
        }
      ]
    },
    {
      "cell_type": "code",
      "metadata": {
        "id": "Cag3IdbNr1pr"
      },
      "source": [
        "for i in range(0,2):\n",
        "    dt = [0]*10\n",
        "    dt.append('confused')\n",
        "    dt = [dt]\n",
        "    pd.DataFrame(dt).rename(columns = {10:'labels'})\n",
        "    df_encoded = df_encoded.append(pd.DataFrame(dt).rename(columns = {10:'labels'}),ignore_index=True)"
      ],
      "execution_count": null,
      "outputs": []
    },
    {
      "cell_type": "code",
      "metadata": {
        "colab": {
          "base_uri": "https://localhost:8080/",
          "height": 202
        },
        "id": "1QMpWicwr5SN",
        "outputId": "375175a2-00d1-46f7-dc4d-d7451d25064a"
      },
      "source": [
        "df_encoded.tail()"
      ],
      "execution_count": null,
      "outputs": [
        {
          "output_type": "execute_result",
          "data": {
            "text/html": [
              "<div>\n",
              "<style scoped>\n",
              "    .dataframe tbody tr th:only-of-type {\n",
              "        vertical-align: middle;\n",
              "    }\n",
              "\n",
              "    .dataframe tbody tr th {\n",
              "        vertical-align: top;\n",
              "    }\n",
              "\n",
              "    .dataframe thead th {\n",
              "        text-align: right;\n",
              "    }\n",
              "</style>\n",
              "<table border=\"1\" class=\"dataframe\">\n",
              "  <thead>\n",
              "    <tr style=\"text-align: right;\">\n",
              "      <th></th>\n",
              "      <th>0</th>\n",
              "      <th>1</th>\n",
              "      <th>2</th>\n",
              "      <th>3</th>\n",
              "      <th>4</th>\n",
              "      <th>5</th>\n",
              "      <th>6</th>\n",
              "      <th>7</th>\n",
              "      <th>8</th>\n",
              "      <th>9</th>\n",
              "      <th>labels</th>\n",
              "    </tr>\n",
              "  </thead>\n",
              "  <tbody>\n",
              "    <tr>\n",
              "      <th>19</th>\n",
              "      <td>2</td>\n",
              "      <td>15</td>\n",
              "      <td>9</td>\n",
              "      <td>60</td>\n",
              "      <td>61</td>\n",
              "      <td>21</td>\n",
              "      <td>1</td>\n",
              "      <td>5</td>\n",
              "      <td>7</td>\n",
              "      <td>62</td>\n",
              "      <td>professional_types</td>\n",
              "    </tr>\n",
              "    <tr>\n",
              "      <th>20</th>\n",
              "      <td>6</td>\n",
              "      <td>13</td>\n",
              "      <td>10</td>\n",
              "      <td>1</td>\n",
              "      <td>5</td>\n",
              "      <td>7</td>\n",
              "      <td>24</td>\n",
              "      <td>22</td>\n",
              "      <td>0</td>\n",
              "      <td>0</td>\n",
              "      <td>right_professional</td>\n",
              "    </tr>\n",
              "    <tr>\n",
              "      <th>21</th>\n",
              "      <td>6</td>\n",
              "      <td>3</td>\n",
              "      <td>10</td>\n",
              "      <td>9</td>\n",
              "      <td>24</td>\n",
              "      <td>1</td>\n",
              "      <td>5</td>\n",
              "      <td>7</td>\n",
              "      <td>0</td>\n",
              "      <td>0</td>\n",
              "      <td>right_professional</td>\n",
              "    </tr>\n",
              "    <tr>\n",
              "      <th>22</th>\n",
              "      <td>0</td>\n",
              "      <td>0</td>\n",
              "      <td>0</td>\n",
              "      <td>0</td>\n",
              "      <td>0</td>\n",
              "      <td>0</td>\n",
              "      <td>0</td>\n",
              "      <td>0</td>\n",
              "      <td>0</td>\n",
              "      <td>0</td>\n",
              "      <td>confused</td>\n",
              "    </tr>\n",
              "    <tr>\n",
              "      <th>23</th>\n",
              "      <td>0</td>\n",
              "      <td>0</td>\n",
              "      <td>0</td>\n",
              "      <td>0</td>\n",
              "      <td>0</td>\n",
              "      <td>0</td>\n",
              "      <td>0</td>\n",
              "      <td>0</td>\n",
              "      <td>0</td>\n",
              "      <td>0</td>\n",
              "      <td>confused</td>\n",
              "    </tr>\n",
              "  </tbody>\n",
              "</table>\n",
              "</div>"
            ],
            "text/plain": [
              "    0   1   2   3   4   5   6   7  8   9              labels\n",
              "19  2  15   9  60  61  21   1   5  7  62  professional_types\n",
              "20  6  13  10   1   5   7  24  22  0   0  right_professional\n",
              "21  6   3  10   9  24   1   5   7  0   0  right_professional\n",
              "22  0   0   0   0   0   0   0   0  0   0            confused\n",
              "23  0   0   0   0   0   0   0   0  0   0            confused"
            ]
          },
          "metadata": {
            "tags": []
          },
          "execution_count": 25
        }
      ]
    },
    {
      "cell_type": "code",
      "metadata": {
        "id": "xfG-HWYAnyWp"
      },
      "source": [
        "train_index.append(22)"
      ],
      "execution_count": null,
      "outputs": []
    },
    {
      "cell_type": "code",
      "metadata": {
        "id": "dYQKzQCisVa7"
      },
      "source": [
        "test_index.append(23)"
      ],
      "execution_count": null,
      "outputs": []
    },
    {
      "cell_type": "code",
      "metadata": {
        "id": "SG5M--O4satV"
      },
      "source": [
        "from sklearn.preprocessing import LabelEncoder\n",
        "lable_enc = LabelEncoder()"
      ],
      "execution_count": null,
      "outputs": []
    },
    {
      "cell_type": "code",
      "metadata": {
        "colab": {
          "base_uri": "https://localhost:8080/"
        },
        "id": "zqgNO9SysdzT",
        "outputId": "a353f5a5-fb7f-4809-f219-eca110fb01d1"
      },
      "source": [
        "labl = lable_enc.fit_transform(df_encoded.labels)\n",
        "labl"
      ],
      "execution_count": null,
      "outputs": [
        {
          "output_type": "execute_result",
          "data": {
            "text/plain": [
              "array([ 2,  2,  2,  0,  0, 10, 10, 10,  5,  5,  7,  7,  3,  3,  8,  8,  9,\n",
              "        9,  4,  4,  6,  6,  1,  1])"
            ]
          },
          "metadata": {
            "tags": []
          },
          "execution_count": 29
        }
      ]
    },
    {
      "cell_type": "code",
      "metadata": {
        "colab": {
          "base_uri": "https://localhost:8080/"
        },
        "id": "ChKG9ti9siKv",
        "outputId": "7e0b1a29-d208-4963-8e2e-5d8d2f59bdb0"
      },
      "source": [
        "mapper = {}\n",
        "for index,key in enumerate(df_encoded.labels):\n",
        "    if key not in mapper.keys():\n",
        "        mapper[key] = labl[index]\n",
        "mapper"
      ],
      "execution_count": null,
      "outputs": [
        {
          "output_type": "execute_result",
          "data": {
            "text/plain": [
              "{'affects_whom': 0,\n",
              " 'confused': 1,\n",
              " 'definition': 2,\n",
              " 'find_help': 3,\n",
              " 'professional_types': 4,\n",
              " 'recover': 5,\n",
              " 'right_professional': 6,\n",
              " 'steps': 7,\n",
              " 'treatement_options': 8,\n",
              " 'treatment_tips': 9,\n",
              " 'what_causes': 10}"
            ]
          },
          "metadata": {
            "tags": []
          },
          "execution_count": 30
        }
      ]
    },
    {
      "cell_type": "code",
      "metadata": {
        "id": "-KU4UHK0n1ya",
        "colab": {
          "base_uri": "https://localhost:8080/",
          "height": 202
        },
        "outputId": "5a6d0112-b967-4d8c-d605-0d33dedae818"
      },
      "source": [
        "df2.head()"
      ],
      "execution_count": null,
      "outputs": [
        {
          "output_type": "execute_result",
          "data": {
            "text/html": [
              "<div>\n",
              "<style scoped>\n",
              "    .dataframe tbody tr th:only-of-type {\n",
              "        vertical-align: middle;\n",
              "    }\n",
              "\n",
              "    .dataframe tbody tr th {\n",
              "        vertical-align: top;\n",
              "    }\n",
              "\n",
              "    .dataframe thead th {\n",
              "        text-align: right;\n",
              "    }\n",
              "</style>\n",
              "<table border=\"1\" class=\"dataframe\">\n",
              "  <thead>\n",
              "    <tr style=\"text-align: right;\">\n",
              "      <th></th>\n",
              "      <th>response</th>\n",
              "      <th>labels</th>\n",
              "    </tr>\n",
              "  </thead>\n",
              "  <tbody>\n",
              "    <tr>\n",
              "      <th>0</th>\n",
              "      <td>Mental illnesses are health conditions that di...</td>\n",
              "      <td>definition</td>\n",
              "    </tr>\n",
              "    <tr>\n",
              "      <th>1</th>\n",
              "      <td>It is estimated that mental illness affects 1 ...</td>\n",
              "      <td>affects_whom</td>\n",
              "    </tr>\n",
              "    <tr>\n",
              "      <th>2</th>\n",
              "      <td>Symptoms of mental health disorders vary depen...</td>\n",
              "      <td>what_causes</td>\n",
              "    </tr>\n",
              "    <tr>\n",
              "      <th>3</th>\n",
              "      <td>When healing from mental illness, early identi...</td>\n",
              "      <td>recover</td>\n",
              "    </tr>\n",
              "    <tr>\n",
              "      <th>4</th>\n",
              "      <td>Although this website cannot substitute for pr...</td>\n",
              "      <td>steps</td>\n",
              "    </tr>\n",
              "  </tbody>\n",
              "</table>\n",
              "</div>"
            ],
            "text/plain": [
              "                                            response        labels\n",
              "0  Mental illnesses are health conditions that di...    definition\n",
              "1  It is estimated that mental illness affects 1 ...  affects_whom\n",
              "2  Symptoms of mental health disorders vary depen...   what_causes\n",
              "3  When healing from mental illness, early identi...       recover\n",
              "4  Although this website cannot substitute for pr...         steps"
            ]
          },
          "metadata": {
            "tags": []
          },
          "execution_count": 31
        }
      ]
    },
    {
      "cell_type": "code",
      "metadata": {
        "colab": {
          "base_uri": "https://localhost:8080/",
          "height": 202
        },
        "id": "cAHXAQWkssyv",
        "outputId": "03d2d412-25c3-41cc-ba3b-25042f6d5526"
      },
      "source": [
        "df2.labels = df2.labels.map(mapper).astype({'labels': 'int32'})\n",
        "df2.head()"
      ],
      "execution_count": null,
      "outputs": [
        {
          "output_type": "execute_result",
          "data": {
            "text/html": [
              "<div>\n",
              "<style scoped>\n",
              "    .dataframe tbody tr th:only-of-type {\n",
              "        vertical-align: middle;\n",
              "    }\n",
              "\n",
              "    .dataframe tbody tr th {\n",
              "        vertical-align: top;\n",
              "    }\n",
              "\n",
              "    .dataframe thead th {\n",
              "        text-align: right;\n",
              "    }\n",
              "</style>\n",
              "<table border=\"1\" class=\"dataframe\">\n",
              "  <thead>\n",
              "    <tr style=\"text-align: right;\">\n",
              "      <th></th>\n",
              "      <th>response</th>\n",
              "      <th>labels</th>\n",
              "    </tr>\n",
              "  </thead>\n",
              "  <tbody>\n",
              "    <tr>\n",
              "      <th>0</th>\n",
              "      <td>Mental illnesses are health conditions that di...</td>\n",
              "      <td>2</td>\n",
              "    </tr>\n",
              "    <tr>\n",
              "      <th>1</th>\n",
              "      <td>It is estimated that mental illness affects 1 ...</td>\n",
              "      <td>0</td>\n",
              "    </tr>\n",
              "    <tr>\n",
              "      <th>2</th>\n",
              "      <td>Symptoms of mental health disorders vary depen...</td>\n",
              "      <td>10</td>\n",
              "    </tr>\n",
              "    <tr>\n",
              "      <th>3</th>\n",
              "      <td>When healing from mental illness, early identi...</td>\n",
              "      <td>5</td>\n",
              "    </tr>\n",
              "    <tr>\n",
              "      <th>4</th>\n",
              "      <td>Although this website cannot substitute for pr...</td>\n",
              "      <td>7</td>\n",
              "    </tr>\n",
              "  </tbody>\n",
              "</table>\n",
              "</div>"
            ],
            "text/plain": [
              "                                            response  labels\n",
              "0  Mental illnesses are health conditions that di...       2\n",
              "1  It is estimated that mental illness affects 1 ...       0\n",
              "2  Symptoms of mental health disorders vary depen...      10\n",
              "3  When healing from mental illness, early identi...       5\n",
              "4  Although this website cannot substitute for pr...       7"
            ]
          },
          "metadata": {
            "tags": []
          },
          "execution_count": 32
        }
      ]
    },
    {
      "cell_type": "code",
      "metadata": {
        "id": "PY0nzMGCn-Ui"
      },
      "source": [
        "df2.to_csv('response.csv',index=False)"
      ],
      "execution_count": null,
      "outputs": []
    },
    {
      "cell_type": "code",
      "metadata": {
        "id": "vZ1za6jIoA1m"
      },
      "source": [
        "train = df_encoded.loc[train_index]\n",
        "test = df_encoded.loc[test_index]"
      ],
      "execution_count": null,
      "outputs": []
    },
    {
      "cell_type": "code",
      "metadata": {
        "id": "eMV7fvV1oDc6"
      },
      "source": [
        "X_train = train.drop(columns=['labels'],axis=1)\n",
        "y_train = train.labels\n",
        "X_test = test.drop(columns=['labels'],axis=1)\n",
        "y_test = test.labels"
      ],
      "execution_count": null,
      "outputs": []
    },
    {
      "cell_type": "code",
      "metadata": {
        "id": "C4g-jBpTGJn9"
      },
      "source": [
        "y_train =pd.get_dummies(y_train).values\n",
        "y_test =pd.get_dummies(y_test).values"
      ],
      "execution_count": null,
      "outputs": []
    },
    {
      "cell_type": "code",
      "metadata": {
        "id": "GTh2fV46qSFy",
        "colab": {
          "base_uri": "https://localhost:8080/"
        },
        "outputId": "d4c1574a-4171-4b83-e532-921241748c13"
      },
      "source": [
        "y_train[0].shape,y_test[0].shape"
      ],
      "execution_count": null,
      "outputs": [
        {
          "output_type": "execute_result",
          "data": {
            "text/plain": [
              "((11,), (11,))"
            ]
          },
          "metadata": {
            "tags": []
          },
          "execution_count": 37
        }
      ]
    },
    {
      "cell_type": "code",
      "metadata": {
        "colab": {
          "base_uri": "https://localhost:8080/"
        },
        "id": "Lic_0LoSuki2",
        "outputId": "6656c0ad-88b7-4e75-fd70-616be78ea956"
      },
      "source": [
        "X_train.shape"
      ],
      "execution_count": null,
      "outputs": [
        {
          "output_type": "execute_result",
          "data": {
            "text/plain": [
              "(13, 10)"
            ]
          },
          "metadata": {
            "tags": []
          },
          "execution_count": 38
        }
      ]
    },
    {
      "cell_type": "code",
      "metadata": {
        "id": "3dvqiazipVna"
      },
      "source": [
        "max_length = X_train.shape[1]\n",
        "# output = len(df3.labels.unique())\n",
        "output = 11"
      ],
      "execution_count": null,
      "outputs": []
    },
    {
      "cell_type": "code",
      "metadata": {
        "id": "CulUXl3dqVr4",
        "colab": {
          "base_uri": "https://localhost:8080/"
        },
        "outputId": "91ced99e-ab01-4e15-9f2d-f6a94cee82f0"
      },
      "source": [
        "max_length"
      ],
      "execution_count": null,
      "outputs": [
        {
          "output_type": "execute_result",
          "data": {
            "text/plain": [
              "10"
            ]
          },
          "metadata": {
            "tags": []
          },
          "execution_count": 40
        }
      ]
    },
    {
      "cell_type": "code",
      "metadata": {
        "id": "V5zYLLT_Mhbl"
      },
      "source": [
        "def define_model(vocab_size, max_length):\n",
        "    model3 = Sequential()\n",
        "    model3.add(Embedding(vocab_size,300, input_length=max_length))\n",
        "    model3.add(GRU(500))\n",
        "    model3.add(Dense(11, activation='softmax'))\n",
        "    \n",
        "    model3.compile(loss = 'categorical_crossentropy',optimizer = 'adam',metrics = ['accuracy'])\n",
        "    \n",
        "    # summarize defined model\n",
        "    model3.summary()\n",
        "    plot_model(model3, to_file='model_3.png', show_shapes=True)\n",
        "    return model3"
      ],
      "execution_count": null,
      "outputs": []
    },
    {
      "cell_type": "code",
      "metadata": {
        "id": "60xp8p8gtcbq"
      },
      "source": [
        "def define_model_k(vocab_size, max_length):\n",
        "    model = Sequential()\n",
        "    model.add(Embedding(vocab_size,300, input_length=max_length))\n",
        "    model.add(GlobalAveragePooling1D())\n",
        "    model.add(Dense(16, activation='relu'))\n",
        "    model.add(Dense(16, activation='relu'))\n",
        "    model.add(Dense(11, activation='softmax'))\n",
        "    \n",
        "    model.compile(loss = 'categorical_crossentropy',optimizer = 'adam',metrics = ['accuracy'])\n",
        "    \n",
        "    # summarize defined model\n",
        "    model.summary()\n",
        "    plot_model(model, to_file='model_3.png', show_shapes=True)\n",
        "    return model"
      ],
      "execution_count": null,
      "outputs": []
    },
    {
      "cell_type": "code",
      "metadata": {
        "id": "eqi86RGWp6qT",
        "colab": {
          "base_uri": "https://localhost:8080/"
        },
        "outputId": "f344c857-9d80-4a6d-9175-6c3080ee6e18"
      },
      "source": [
        "model_GRU_8=define_model(vocab_size,max_length)\n"
      ],
      "execution_count": null,
      "outputs": [
        {
          "output_type": "stream",
          "text": [
            "Model: \"sequential\"\n",
            "_________________________________________________________________\n",
            "Layer (type)                 Output Shape              Param #   \n",
            "=================================================================\n",
            "embedding (Embedding)        (None, 10, 300)           18900     \n",
            "_________________________________________________________________\n",
            "gru (GRU)                    (None, 500)               1203000   \n",
            "_________________________________________________________________\n",
            "dense (Dense)                (None, 11)                5511      \n",
            "=================================================================\n",
            "Total params: 1,227,411\n",
            "Trainable params: 1,227,411\n",
            "Non-trainable params: 0\n",
            "_________________________________________________________________\n"
          ],
          "name": "stdout"
        }
      ]
    },
    {
      "cell_type": "code",
      "metadata": {
        "colab": {
          "base_uri": "https://localhost:8080/"
        },
        "id": "Rzkr_22XuxRE",
        "outputId": "a0bd70ae-c71d-4c74-fe05-5c842fe4e1d0"
      },
      "source": [
        "model_k_9=define_model_k(vocab_size,max_length)\n"
      ],
      "execution_count": null,
      "outputs": [
        {
          "output_type": "stream",
          "text": [
            "Model: \"sequential_1\"\n",
            "_________________________________________________________________\n",
            "Layer (type)                 Output Shape              Param #   \n",
            "=================================================================\n",
            "embedding_1 (Embedding)      (None, 10, 300)           18900     \n",
            "_________________________________________________________________\n",
            "global_average_pooling1d (Gl (None, 300)               0         \n",
            "_________________________________________________________________\n",
            "dense_1 (Dense)              (None, 16)                4816      \n",
            "_________________________________________________________________\n",
            "dense_2 (Dense)              (None, 16)                272       \n",
            "_________________________________________________________________\n",
            "dense_3 (Dense)              (None, 11)                187       \n",
            "=================================================================\n",
            "Total params: 24,175\n",
            "Trainable params: 24,175\n",
            "Non-trainable params: 0\n",
            "_________________________________________________________________\n"
          ],
          "name": "stdout"
        }
      ]
    },
    {
      "cell_type": "code",
      "metadata": {
        "colab": {
          "base_uri": "https://localhost:8080/"
        },
        "id": "vCHgfiqau3ar",
        "outputId": "974d9df9-af96-4ebd-abd6-4b533dd6c9dc"
      },
      "source": [
        "history = model_k_9.fit(X_train,y_train, epochs=35,validation_data=(X_test,y_test))"
      ],
      "execution_count": null,
      "outputs": [
        {
          "output_type": "stream",
          "text": [
            "Epoch 1/35\n",
            "1/1 [==============================] - 1s 1s/step - loss: 2.3991 - accuracy: 0.0000e+00 - val_loss: 2.3980 - val_accuracy: 0.0909\n",
            "Epoch 2/35\n",
            "1/1 [==============================] - 0s 67ms/step - loss: 2.3944 - accuracy: 0.1538 - val_loss: 2.3968 - val_accuracy: 0.0909\n",
            "Epoch 3/35\n",
            "1/1 [==============================] - 0s 66ms/step - loss: 2.3905 - accuracy: 0.1538 - val_loss: 2.3955 - val_accuracy: 0.0909\n",
            "Epoch 4/35\n",
            "1/1 [==============================] - 0s 61ms/step - loss: 2.3855 - accuracy: 0.1538 - val_loss: 2.3940 - val_accuracy: 0.0909\n",
            "Epoch 5/35\n",
            "1/1 [==============================] - 0s 63ms/step - loss: 2.3800 - accuracy: 0.1538 - val_loss: 2.3926 - val_accuracy: 0.0909\n",
            "Epoch 6/35\n",
            "1/1 [==============================] - 0s 63ms/step - loss: 2.3742 - accuracy: 0.1538 - val_loss: 2.3913 - val_accuracy: 0.0909\n",
            "Epoch 7/35\n",
            "1/1 [==============================] - 0s 58ms/step - loss: 2.3682 - accuracy: 0.1538 - val_loss: 2.3899 - val_accuracy: 0.0909\n",
            "Epoch 8/35\n",
            "1/1 [==============================] - 0s 56ms/step - loss: 2.3622 - accuracy: 0.1538 - val_loss: 2.3883 - val_accuracy: 0.0909\n",
            "Epoch 9/35\n",
            "1/1 [==============================] - 0s 56ms/step - loss: 2.3560 - accuracy: 0.1538 - val_loss: 2.3866 - val_accuracy: 0.0909\n",
            "Epoch 10/35\n",
            "1/1 [==============================] - 0s 52ms/step - loss: 2.3495 - accuracy: 0.1538 - val_loss: 2.3846 - val_accuracy: 0.0909\n",
            "Epoch 11/35\n",
            "1/1 [==============================] - 0s 53ms/step - loss: 2.3424 - accuracy: 0.1538 - val_loss: 2.3827 - val_accuracy: 0.0909\n",
            "Epoch 12/35\n",
            "1/1 [==============================] - 0s 51ms/step - loss: 2.3352 - accuracy: 0.1538 - val_loss: 2.3809 - val_accuracy: 0.0909\n",
            "Epoch 13/35\n",
            "1/1 [==============================] - 0s 55ms/step - loss: 2.3278 - accuracy: 0.1538 - val_loss: 2.3789 - val_accuracy: 0.0909\n",
            "Epoch 14/35\n",
            "1/1 [==============================] - 0s 55ms/step - loss: 2.3201 - accuracy: 0.1538 - val_loss: 2.3769 - val_accuracy: 0.0909\n",
            "Epoch 15/35\n",
            "1/1 [==============================] - 0s 58ms/step - loss: 2.3120 - accuracy: 0.2308 - val_loss: 2.3751 - val_accuracy: 0.0909\n",
            "Epoch 16/35\n",
            "1/1 [==============================] - 0s 53ms/step - loss: 2.3038 - accuracy: 0.2308 - val_loss: 2.3732 - val_accuracy: 0.0909\n",
            "Epoch 17/35\n",
            "1/1 [==============================] - 0s 53ms/step - loss: 2.2952 - accuracy: 0.2308 - val_loss: 2.3714 - val_accuracy: 0.0909\n",
            "Epoch 18/35\n",
            "1/1 [==============================] - 0s 55ms/step - loss: 2.2864 - accuracy: 0.2308 - val_loss: 2.3696 - val_accuracy: 0.0909\n",
            "Epoch 19/35\n",
            "1/1 [==============================] - 0s 57ms/step - loss: 2.2772 - accuracy: 0.2308 - val_loss: 2.3676 - val_accuracy: 0.0909\n",
            "Epoch 20/35\n",
            "1/1 [==============================] - 0s 63ms/step - loss: 2.2676 - accuracy: 0.2308 - val_loss: 2.3656 - val_accuracy: 0.0909\n",
            "Epoch 21/35\n",
            "1/1 [==============================] - 0s 63ms/step - loss: 2.2577 - accuracy: 0.2308 - val_loss: 2.3635 - val_accuracy: 0.0909\n",
            "Epoch 22/35\n",
            "1/1 [==============================] - 0s 67ms/step - loss: 2.2473 - accuracy: 0.2308 - val_loss: 2.3615 - val_accuracy: 0.0909\n",
            "Epoch 23/35\n",
            "1/1 [==============================] - 0s 54ms/step - loss: 2.2367 - accuracy: 0.2308 - val_loss: 2.3593 - val_accuracy: 0.0909\n",
            "Epoch 24/35\n",
            "1/1 [==============================] - 0s 65ms/step - loss: 2.2256 - accuracy: 0.2308 - val_loss: 2.3571 - val_accuracy: 0.0909\n",
            "Epoch 25/35\n",
            "1/1 [==============================] - 0s 62ms/step - loss: 2.2141 - accuracy: 0.2308 - val_loss: 2.3549 - val_accuracy: 0.0909\n",
            "Epoch 26/35\n",
            "1/1 [==============================] - 0s 58ms/step - loss: 2.2023 - accuracy: 0.2308 - val_loss: 2.3528 - val_accuracy: 0.0909\n",
            "Epoch 27/35\n",
            "1/1 [==============================] - 0s 67ms/step - loss: 2.1903 - accuracy: 0.2308 - val_loss: 2.3511 - val_accuracy: 0.0909\n",
            "Epoch 28/35\n",
            "1/1 [==============================] - 0s 64ms/step - loss: 2.1778 - accuracy: 0.2308 - val_loss: 2.3491 - val_accuracy: 0.0909\n",
            "Epoch 29/35\n",
            "1/1 [==============================] - 0s 66ms/step - loss: 2.1650 - accuracy: 0.2308 - val_loss: 2.3470 - val_accuracy: 0.0909\n",
            "Epoch 30/35\n",
            "1/1 [==============================] - 0s 69ms/step - loss: 2.1520 - accuracy: 0.2308 - val_loss: 2.3449 - val_accuracy: 0.0909\n",
            "Epoch 31/35\n",
            "1/1 [==============================] - 0s 78ms/step - loss: 2.1387 - accuracy: 0.2308 - val_loss: 2.3430 - val_accuracy: 0.0909\n",
            "Epoch 32/35\n",
            "1/1 [==============================] - 0s 72ms/step - loss: 2.1251 - accuracy: 0.2308 - val_loss: 2.3412 - val_accuracy: 0.0909\n",
            "Epoch 33/35\n",
            "1/1 [==============================] - 0s 70ms/step - loss: 2.1113 - accuracy: 0.2308 - val_loss: 2.3392 - val_accuracy: 0.0909\n",
            "Epoch 34/35\n",
            "1/1 [==============================] - 0s 73ms/step - loss: 2.0972 - accuracy: 0.2308 - val_loss: 2.3373 - val_accuracy: 0.0909\n",
            "Epoch 35/35\n",
            "1/1 [==============================] - 0s 62ms/step - loss: 2.0827 - accuracy: 0.2308 - val_loss: 2.3352 - val_accuracy: 0.0909\n"
          ],
          "name": "stdout"
        }
      ]
    },
    {
      "cell_type": "code",
      "metadata": {
        "colab": {
          "base_uri": "https://localhost:8080/"
        },
        "id": "aTuYQ2W4OA_R",
        "outputId": "76daea41-cae2-49ed-d2ab-31e598b38708"
      },
      "source": [
        "history = model_GRU_8.fit(X_train,y_train, epochs=20,validation_data=(X_test,y_test))"
      ],
      "execution_count": null,
      "outputs": [
        {
          "output_type": "stream",
          "text": [
            "Epoch 1/20\n",
            "1/1 [==============================] - 4s 4s/step - loss: 2.4009 - accuracy: 0.0769 - val_loss: 2.3938 - val_accuracy: 0.0909\n",
            "Epoch 2/20\n",
            "1/1 [==============================] - 0s 171ms/step - loss: 2.3422 - accuracy: 0.3077 - val_loss: 2.3967 - val_accuracy: 0.0909\n",
            "Epoch 3/20\n",
            "1/1 [==============================] - 0s 180ms/step - loss: 2.2869 - accuracy: 0.3077 - val_loss: 2.4079 - val_accuracy: 0.0909\n",
            "Epoch 4/20\n",
            "1/1 [==============================] - 0s 179ms/step - loss: 2.2302 - accuracy: 0.3077 - val_loss: 2.4318 - val_accuracy: 0.0909\n",
            "Epoch 5/20\n",
            "1/1 [==============================] - 0s 173ms/step - loss: 2.1708 - accuracy: 0.3077 - val_loss: 2.4716 - val_accuracy: 0.0909\n",
            "Epoch 6/20\n",
            "1/1 [==============================] - 0s 179ms/step - loss: 2.1093 - accuracy: 0.3077 - val_loss: 2.5119 - val_accuracy: 0.0909\n",
            "Epoch 7/20\n",
            "1/1 [==============================] - 0s 164ms/step - loss: 2.0400 - accuracy: 0.3077 - val_loss: 2.5114 - val_accuracy: 0.0000e+00\n",
            "Epoch 8/20\n",
            "1/1 [==============================] - 0s 169ms/step - loss: 1.9416 - accuracy: 0.3077 - val_loss: 2.4503 - val_accuracy: 0.0909\n",
            "Epoch 9/20\n",
            "1/1 [==============================] - 0s 166ms/step - loss: 1.7984 - accuracy: 0.3846 - val_loss: 2.3575 - val_accuracy: 0.0909\n",
            "Epoch 10/20\n",
            "1/1 [==============================] - 0s 164ms/step - loss: 1.6323 - accuracy: 0.3846 - val_loss: 2.2457 - val_accuracy: 0.1818\n",
            "Epoch 11/20\n",
            "1/1 [==============================] - 0s 173ms/step - loss: 1.4664 - accuracy: 0.6154 - val_loss: 2.1243 - val_accuracy: 0.2727\n",
            "Epoch 12/20\n",
            "1/1 [==============================] - 0s 165ms/step - loss: 1.3431 - accuracy: 0.6154 - val_loss: 2.1274 - val_accuracy: 0.3636\n",
            "Epoch 13/20\n",
            "1/1 [==============================] - 0s 162ms/step - loss: 1.3443 - accuracy: 0.6154 - val_loss: 2.1791 - val_accuracy: 0.2727\n",
            "Epoch 14/20\n",
            "1/1 [==============================] - 0s 169ms/step - loss: 1.2129 - accuracy: 0.6923 - val_loss: 2.3282 - val_accuracy: 0.1818\n",
            "Epoch 15/20\n",
            "1/1 [==============================] - 0s 169ms/step - loss: 1.0592 - accuracy: 0.6923 - val_loss: 2.5963 - val_accuracy: 0.1818\n",
            "Epoch 16/20\n",
            "1/1 [==============================] - 0s 170ms/step - loss: 0.9952 - accuracy: 0.6154 - val_loss: 2.8408 - val_accuracy: 0.1818\n",
            "Epoch 17/20\n",
            "1/1 [==============================] - 0s 160ms/step - loss: 0.9517 - accuracy: 0.6154 - val_loss: 2.9462 - val_accuracy: 0.1818\n",
            "Epoch 18/20\n",
            "1/1 [==============================] - 0s 172ms/step - loss: 0.8520 - accuracy: 0.6923 - val_loss: 2.9341 - val_accuracy: 0.1818\n",
            "Epoch 19/20\n",
            "1/1 [==============================] - 0s 152ms/step - loss: 0.7220 - accuracy: 0.7692 - val_loss: 2.9108 - val_accuracy: 0.1818\n",
            "Epoch 20/20\n",
            "1/1 [==============================] - 0s 162ms/step - loss: 0.6384 - accuracy: 0.8462 - val_loss: 3.0068 - val_accuracy: 0.1818\n"
          ],
          "name": "stdout"
        }
      ]
    },
    {
      "cell_type": "code",
      "metadata": {
        "colab": {
          "base_uri": "https://localhost:8080/",
          "height": 513
        },
        "id": "zaxjkS1JtZS8",
        "outputId": "c698c4d8-b7d3-4509-928e-26ab23c6a668"
      },
      "source": [
        "acc = history.history['accuracy']\n",
        "val_acc = history.history['val_accuracy']\n",
        "loss=history.history['loss']\n",
        "val_loss=history.history['val_loss']\n",
        "\n",
        "plt.figure(figsize=(16,8))\n",
        "plt.subplot(1, 2, 1)\n",
        "plt.plot(acc, label='Training Accuracy')\n",
        "plt.plot(val_acc, label='Validation Accuracy')\n",
        "plt.legend(loc='lower right')\n",
        "plt.title('Training and Validation Accuracy')\n",
        "plt.xlabel('epochs')\n",
        "plt.ylabel('accuracy')\n",
        "\n",
        "plt.subplot(1, 2, 2)\n",
        "plt.plot(loss, label='Training Loss')\n",
        "plt.plot(val_loss, label='Validation Loss')\n",
        "plt.legend(loc='upper right')\n",
        "plt.title('Training and Validation Loss')\n",
        "plt.xlabel('epochs')\n",
        "plt.ylabel('loss')\n",
        "plt.show()"
      ],
      "execution_count": null,
      "outputs": [
        {
          "output_type": "display_data",
          "data": {
            "image/png": "[encoded data removed]",
            "text/plain": [
              "<Figure size 1152x576 with 2 Axes>"
            ]
          },
          "metadata": {
            "tags": [],
            "needs_background": "light"
          }
        }
      ]
    },
    {
      "cell_type": "code",
      "metadata": {
        "colab": {
          "base_uri": "https://localhost:8080/"
        },
        "id": "kLpOYYfgD8aO",
        "outputId": "98ccd04f-c707-422a-ef9c-d5aaf2ea70df"
      },
      "source": [
        "[np.argmax(i) for i in model_GRU_8.predict(X_test)][:10]"
      ],
      "execution_count": null,
      "outputs": [
        {
          "output_type": "execute_result",
          "data": {
            "text/plain": [
              "[10, 5, 6, 6, 10, 6, 5, 10, 0, 2]"
            ]
          },
          "metadata": {
            "tags": []
          },
          "execution_count": 48
        }
      ]
    },
    {
      "cell_type": "code",
      "metadata": {
        "colab": {
          "base_uri": "https://localhost:8080/"
        },
        "id": "Nw5cAbI0whAd",
        "outputId": "c69ff06d-01ce-4b55-fa0e-25c10d20d7c0"
      },
      "source": [
        "[np.argmax(i) for i in model_k_9.predict(X_test)][:10]"
      ],
      "execution_count": null,
      "outputs": [
        {
          "output_type": "execute_result",
          "data": {
            "text/plain": [
              "[2, 2, 2, 2, 2, 2, 2, 2, 2, 2]"
            ]
          },
          "metadata": {
            "tags": []
          },
          "execution_count": 65
        }
      ]
    },
    {
      "cell_type": "code",
      "metadata": {
        "colab": {
          "base_uri": "https://localhost:8080/"
        },
        "id": "c7XrWkfCEAIR",
        "outputId": "503c4616-d9db-4f08-fe36-7a4ecc4f2825"
      },
      "source": [
        "[np.argmax(i) for i in y_test][:10]"
      ],
      "execution_count": null,
      "outputs": [
        {
          "output_type": "execute_result",
          "data": {
            "text/plain": [
              "[0, 2, 3, 4, 5, 6, 7, 8, 9, 10]"
            ]
          },
          "metadata": {
            "tags": []
          },
          "execution_count": 66
        }
      ]
    },
    {
      "cell_type": "code",
      "metadata": {
        "id": "dXfW-S1g4jVQ"
      },
      "source": [
        "def get_text():\n",
        "    input_text  = ['How to find the right professional help?']\n",
        "    df_input = pd.DataFrame(input_text,columns=['questions'])\n",
        "    df_input\n",
        "    return df_input"
      ],
      "execution_count": null,
      "outputs": []
    },
    {
      "cell_type": "code",
      "metadata": {
        "id": "gcki9muL7MFb"
      },
      "source": [
        "\n",
        "#load artifacts \n",
        "from tensorflow.keras.models import load_model\n",
        "#model = load_model('model-v1.h5')\n",
        "import os\n",
        "model_k_9.save(os.path.join(\"./dnn/\",\"mpg_model.h5\"))\n",
        "tokenizer_t = joblib.load('tokenizer_t.pkl')\n",
        "vocab = joblib.load('vocab.pkl')"
      ],
      "execution_count": null,
      "outputs": []
    },
    {
      "cell_type": "code",
      "metadata": {
        "id": "ZAKvu2Of7Qt3"
      },
      "source": [
        "def tokenizer(entry):\n",
        "    tokens = entry.split()\n",
        "    re_punc = re.compile('[%s]' % re.escape(string.punctuation))\n",
        "    tokens = [re_punc.sub('', w) for w in tokens]\n",
        "    tokens = [word for word in tokens if word.isalpha()]\n",
        "    tokens = [lemmatizer.lemmatize(w.lower()) for w in tokens]\n",
        "#     stop_words = set(stopwords.words('english'))\n",
        "#     tokens = [w for w in tokens if not w in stop_words]\n",
        "    tokens = [word.lower() for word in tokens if len(word) > 1]\n",
        "    return tokens"
      ],
      "execution_count": null,
      "outputs": []
    },
    {
      "cell_type": "code",
      "metadata": {
        "id": "tKK3bnjJ7XYl"
      },
      "source": [
        "def remove_stop_words_for_input(tokenizer,df,feature):\n",
        "    doc_without_stopwords = []\n",
        "    entry = df[feature][0]\n",
        "    tokens = tokenizer(entry)\n",
        "    doc_without_stopwords.append(' '.join(tokens))\n",
        "    df[feature] = doc_without_stopwords\n",
        "    return df"
      ],
      "execution_count": null,
      "outputs": []
    },
    {
      "cell_type": "code",
      "metadata": {
        "id": "3rGtttiG7axA"
      },
      "source": [
        "def encode_input_text(tokenizer_t,df,feature):\n",
        "    t = tokenizer_t\n",
        "    entry = entry = [df[feature][0]]\n",
        "    encoded = t.texts_to_sequences(entry)\n",
        "    padded = pad_sequences(encoded, maxlen=10, padding='post')\n",
        "    return padded"
      ],
      "execution_count": null,
      "outputs": []
    },
    {
      "cell_type": "code",
      "metadata": {
        "id": "JD3G0ZPa7f1y"
      },
      "source": [
        "def get_pred(model,encoded_input):\n",
        "    pred = np.argmax(model.predict(encoded_input))\n",
        "    return pred\n"
      ],
      "execution_count": null,
      "outputs": []
    },
    {
      "cell_type": "code",
      "metadata": {
        "id": "FtgaQZ9N7i1N"
      },
      "source": [
        "def bot_precausion(df_input,pred):\n",
        "    words = df_input.questions[0].split()\n",
        "    if len([w for w in words if w in vocab])==0 :\n",
        "        pred = 1\n",
        "    return pred"
      ],
      "execution_count": null,
      "outputs": []
    },
    {
      "cell_type": "code",
      "metadata": {
        "id": "qoxPtPh87mCR"
      },
      "source": [
        "def get_response(df2,pred):\n",
        "    upper_bound = df2.groupby('labels').get_group(pred).shape[0]\n",
        "    r = np.random.randint(0,upper_bound)\n",
        "    responses = list(df2.groupby('labels').get_group(pred).response)\n",
        "    return responses[r]"
      ],
      "execution_count": null,
      "outputs": []
    },
    {
      "cell_type": "code",
      "metadata": {
        "id": "dmReNOu97wBh"
      },
      "source": [
        "def bot_response(response,):\n",
        "    print(response)"
      ],
      "execution_count": null,
      "outputs": []
    },
    {
      "cell_type": "code",
      "metadata": {
        "colab": {
          "base_uri": "https://localhost:8080/"
        },
        "id": "xgVMyEvW7459",
        "outputId": "5750e103-0876-44fb-e811-d6dc941e1975"
      },
      "source": [
        "df_input = get_text()\n",
        "\n",
        "#load artifacts \n",
        "tokenizer_t = joblib.load('tokenizer_t.pkl')\n",
        "vocab = joblib.load('vocab.pkl')\n",
        "\n",
        "df_input = remove_stop_words_for_input(tokenizer,df_input,'questions')\n",
        "encoded_input = encode_input_text(tokenizer_t,df_input,'questions')\n",
        "\n",
        "pred = get_pred(model_k_9,encoded_input)\n",
        "pred = bot_precausion(df_input,pred)\n",
        "\n",
        "response = get_response(df2,pred)\n",
        "bot_response(response)"
      ],
      "execution_count": null,
      "outputs": [
        {
          "output_type": "stream",
          "text": [
            "Mental illnesses are health conditions that disrupt a person's thoughts, emotions, relationships, and daily functioning.\n"
          ],
          "name": "stdout"
        }
      ]
    }
  ]
}